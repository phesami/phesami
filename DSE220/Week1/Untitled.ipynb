{
 "cells": [
  {
   "cell_type": "code",
   "execution_count": 46,
   "metadata": {
    "collapsed": false
   },
   "outputs": [
    {
     "name": "stdout",
     "output_type": "stream",
     "text": [
      "Populating the interactive namespace from numpy and matplotlib\n"
     ]
    }
   ],
   "source": [
    "import pandas as pd\n",
    "import arff\n",
    "import matplotlib.pyplot as plt\n",
    "%pylab inline"
   ]
  },
  {
   "cell_type": "code",
   "execution_count": null,
   "metadata": {
    "collapsed": true
   },
   "outputs": [],
   "source": [
    "data = arff.load(open('weather.numeric.arff'))\n",
    "cols = [col[0] for col in data['attributes']]\n",
    "weather_DF = pd.DataFrame(data['data'], columns=cols)"
   ]
  },
  {
   "cell_type": "code",
   "execution_count": 7,
   "metadata": {
    "collapsed": false
   },
   "outputs": [
    {
     "data": {
      "text/html": [
       "<div>\n",
       "<table border=\"1\" class=\"dataframe\">\n",
       "  <thead>\n",
       "    <tr style=\"text-align: right;\">\n",
       "      <th></th>\n",
       "      <th>outlook</th>\n",
       "      <th>temperature</th>\n",
       "      <th>humidity</th>\n",
       "      <th>windy</th>\n",
       "      <th>play</th>\n",
       "    </tr>\n",
       "  </thead>\n",
       "  <tbody>\n",
       "    <tr>\n",
       "      <th>0</th>\n",
       "      <td>sunny</td>\n",
       "      <td>85</td>\n",
       "      <td>85</td>\n",
       "      <td>FALSE</td>\n",
       "      <td>no</td>\n",
       "    </tr>\n",
       "    <tr>\n",
       "      <th>1</th>\n",
       "      <td>sunny</td>\n",
       "      <td>80</td>\n",
       "      <td>90</td>\n",
       "      <td>TRUE</td>\n",
       "      <td>no</td>\n",
       "    </tr>\n",
       "    <tr>\n",
       "      <th>2</th>\n",
       "      <td>overcast</td>\n",
       "      <td>83</td>\n",
       "      <td>86</td>\n",
       "      <td>FALSE</td>\n",
       "      <td>yes</td>\n",
       "    </tr>\n",
       "    <tr>\n",
       "      <th>3</th>\n",
       "      <td>rainy</td>\n",
       "      <td>70</td>\n",
       "      <td>96</td>\n",
       "      <td>FALSE</td>\n",
       "      <td>yes</td>\n",
       "    </tr>\n",
       "    <tr>\n",
       "      <th>4</th>\n",
       "      <td>rainy</td>\n",
       "      <td>68</td>\n",
       "      <td>80</td>\n",
       "      <td>FALSE</td>\n",
       "      <td>yes</td>\n",
       "    </tr>\n",
       "    <tr>\n",
       "      <th>5</th>\n",
       "      <td>rainy</td>\n",
       "      <td>65</td>\n",
       "      <td>70</td>\n",
       "      <td>TRUE</td>\n",
       "      <td>no</td>\n",
       "    </tr>\n",
       "    <tr>\n",
       "      <th>6</th>\n",
       "      <td>overcast</td>\n",
       "      <td>64</td>\n",
       "      <td>65</td>\n",
       "      <td>TRUE</td>\n",
       "      <td>yes</td>\n",
       "    </tr>\n",
       "    <tr>\n",
       "      <th>7</th>\n",
       "      <td>sunny</td>\n",
       "      <td>72</td>\n",
       "      <td>95</td>\n",
       "      <td>FALSE</td>\n",
       "      <td>no</td>\n",
       "    </tr>\n",
       "    <tr>\n",
       "      <th>8</th>\n",
       "      <td>sunny</td>\n",
       "      <td>69</td>\n",
       "      <td>70</td>\n",
       "      <td>FALSE</td>\n",
       "      <td>yes</td>\n",
       "    </tr>\n",
       "    <tr>\n",
       "      <th>9</th>\n",
       "      <td>rainy</td>\n",
       "      <td>75</td>\n",
       "      <td>80</td>\n",
       "      <td>FALSE</td>\n",
       "      <td>yes</td>\n",
       "    </tr>\n",
       "    <tr>\n",
       "      <th>10</th>\n",
       "      <td>sunny</td>\n",
       "      <td>75</td>\n",
       "      <td>70</td>\n",
       "      <td>TRUE</td>\n",
       "      <td>yes</td>\n",
       "    </tr>\n",
       "    <tr>\n",
       "      <th>11</th>\n",
       "      <td>overcast</td>\n",
       "      <td>72</td>\n",
       "      <td>90</td>\n",
       "      <td>TRUE</td>\n",
       "      <td>yes</td>\n",
       "    </tr>\n",
       "    <tr>\n",
       "      <th>12</th>\n",
       "      <td>overcast</td>\n",
       "      <td>81</td>\n",
       "      <td>75</td>\n",
       "      <td>FALSE</td>\n",
       "      <td>yes</td>\n",
       "    </tr>\n",
       "    <tr>\n",
       "      <th>13</th>\n",
       "      <td>rainy</td>\n",
       "      <td>71</td>\n",
       "      <td>91</td>\n",
       "      <td>TRUE</td>\n",
       "      <td>no</td>\n",
       "    </tr>\n",
       "  </tbody>\n",
       "</table>\n",
       "</div>"
      ],
      "text/plain": [
       "     outlook  temperature  humidity  windy play\n",
       "0      sunny           85        85  FALSE   no\n",
       "1      sunny           80        90   TRUE   no\n",
       "2   overcast           83        86  FALSE  yes\n",
       "3      rainy           70        96  FALSE  yes\n",
       "4      rainy           68        80  FALSE  yes\n",
       "5      rainy           65        70   TRUE   no\n",
       "6   overcast           64        65   TRUE  yes\n",
       "7      sunny           72        95  FALSE   no\n",
       "8      sunny           69        70  FALSE  yes\n",
       "9      rainy           75        80  FALSE  yes\n",
       "10     sunny           75        70   TRUE  yes\n",
       "11  overcast           72        90   TRUE  yes\n",
       "12  overcast           81        75  FALSE  yes\n",
       "13     rainy           71        91   TRUE   no"
      ]
     },
     "execution_count": 7,
     "metadata": {},
     "output_type": "execute_result"
    }
   ],
   "source": [
    "weather_DF"
   ]
  },
  {
   "cell_type": "code",
   "execution_count": 11,
   "metadata": {
    "collapsed": false
   },
   "outputs": [
    {
     "name": "stdout",
     "output_type": "stream",
     "text": [
      "mean temprature is 73.57142857142857\n",
      "mean humidity is 81.64285714285714\n"
     ]
    }
   ],
   "source": [
    "mean_temp = weather_DF['temperature'].mean()\n",
    "mean_humi = weather_DF['humidity'].mean()\n",
    "print (\"mean temprature is\", mean_temp)\n",
    "print (\"mean humidity is\", mean_humi)"
   ]
  },
  {
   "cell_type": "code",
   "execution_count": 12,
   "metadata": {
    "collapsed": false
   },
   "outputs": [
    {
     "data": {
      "text/html": [
       "<div>\n",
       "<table border=\"1\" class=\"dataframe\">\n",
       "  <thead>\n",
       "    <tr style=\"text-align: right;\">\n",
       "      <th></th>\n",
       "      <th>outlook</th>\n",
       "      <th>play</th>\n",
       "    </tr>\n",
       "  </thead>\n",
       "  <tbody>\n",
       "    <tr>\n",
       "      <th>0</th>\n",
       "      <td>sunny</td>\n",
       "      <td>no</td>\n",
       "    </tr>\n",
       "    <tr>\n",
       "      <th>1</th>\n",
       "      <td>sunny</td>\n",
       "      <td>no</td>\n",
       "    </tr>\n",
       "    <tr>\n",
       "      <th>2</th>\n",
       "      <td>overcast</td>\n",
       "      <td>yes</td>\n",
       "    </tr>\n",
       "    <tr>\n",
       "      <th>9</th>\n",
       "      <td>rainy</td>\n",
       "      <td>yes</td>\n",
       "    </tr>\n",
       "    <tr>\n",
       "      <th>10</th>\n",
       "      <td>sunny</td>\n",
       "      <td>yes</td>\n",
       "    </tr>\n",
       "    <tr>\n",
       "      <th>12</th>\n",
       "      <td>overcast</td>\n",
       "      <td>yes</td>\n",
       "    </tr>\n",
       "  </tbody>\n",
       "</table>\n",
       "</div>"
      ],
      "text/plain": [
       "     outlook play\n",
       "0      sunny   no\n",
       "1      sunny   no\n",
       "2   overcast  yes\n",
       "9      rainy  yes\n",
       "10     sunny  yes\n",
       "12  overcast  yes"
      ]
     },
     "execution_count": 12,
     "metadata": {},
     "output_type": "execute_result"
    }
   ],
   "source": [
    "weather_DF.ix[weather_DF['temperature']>mean_temp][['outlook','play']]"
   ]
  },
  {
   "cell_type": "code",
   "execution_count": 13,
   "metadata": {
    "collapsed": false
   },
   "outputs": [
    {
     "data": {
      "text/html": [
       "<div>\n",
       "<table border=\"1\" class=\"dataframe\">\n",
       "  <thead>\n",
       "    <tr style=\"text-align: right;\">\n",
       "      <th></th>\n",
       "      <th>outlook</th>\n",
       "      <th>play</th>\n",
       "    </tr>\n",
       "  </thead>\n",
       "  <tbody>\n",
       "    <tr>\n",
       "      <th>0</th>\n",
       "      <td>sunny</td>\n",
       "      <td>no</td>\n",
       "    </tr>\n",
       "    <tr>\n",
       "      <th>1</th>\n",
       "      <td>sunny</td>\n",
       "      <td>no</td>\n",
       "    </tr>\n",
       "    <tr>\n",
       "      <th>2</th>\n",
       "      <td>overcast</td>\n",
       "      <td>yes</td>\n",
       "    </tr>\n",
       "    <tr>\n",
       "      <th>3</th>\n",
       "      <td>rainy</td>\n",
       "      <td>yes</td>\n",
       "    </tr>\n",
       "    <tr>\n",
       "      <th>7</th>\n",
       "      <td>sunny</td>\n",
       "      <td>no</td>\n",
       "    </tr>\n",
       "    <tr>\n",
       "      <th>11</th>\n",
       "      <td>overcast</td>\n",
       "      <td>yes</td>\n",
       "    </tr>\n",
       "    <tr>\n",
       "      <th>13</th>\n",
       "      <td>rainy</td>\n",
       "      <td>no</td>\n",
       "    </tr>\n",
       "  </tbody>\n",
       "</table>\n",
       "</div>"
      ],
      "text/plain": [
       "     outlook play\n",
       "0      sunny   no\n",
       "1      sunny   no\n",
       "2   overcast  yes\n",
       "3      rainy  yes\n",
       "7      sunny   no\n",
       "11  overcast  yes\n",
       "13     rainy   no"
      ]
     },
     "execution_count": 13,
     "metadata": {},
     "output_type": "execute_result"
    }
   ],
   "source": [
    "weather_DF.ix[weather_DF['humidity']>mean_humi][['outlook','play']]"
   ]
  },
  {
   "cell_type": "code",
   "execution_count": 14,
   "metadata": {
    "collapsed": false
   },
   "outputs": [
    {
     "data": {
      "text/html": [
       "<div>\n",
       "<table border=\"1\" class=\"dataframe\">\n",
       "  <thead>\n",
       "    <tr style=\"text-align: right;\">\n",
       "      <th></th>\n",
       "      <th>outlook</th>\n",
       "      <th>temperature</th>\n",
       "      <th>humidity</th>\n",
       "      <th>windy</th>\n",
       "      <th>play</th>\n",
       "      <th>temperature_celsius</th>\n",
       "    </tr>\n",
       "  </thead>\n",
       "  <tbody>\n",
       "    <tr>\n",
       "      <th>0</th>\n",
       "      <td>sunny</td>\n",
       "      <td>85</td>\n",
       "      <td>85</td>\n",
       "      <td>FALSE</td>\n",
       "      <td>no</td>\n",
       "      <td>29.444444</td>\n",
       "    </tr>\n",
       "    <tr>\n",
       "      <th>1</th>\n",
       "      <td>sunny</td>\n",
       "      <td>80</td>\n",
       "      <td>90</td>\n",
       "      <td>TRUE</td>\n",
       "      <td>no</td>\n",
       "      <td>26.666667</td>\n",
       "    </tr>\n",
       "    <tr>\n",
       "      <th>2</th>\n",
       "      <td>overcast</td>\n",
       "      <td>83</td>\n",
       "      <td>86</td>\n",
       "      <td>FALSE</td>\n",
       "      <td>yes</td>\n",
       "      <td>28.333333</td>\n",
       "    </tr>\n",
       "    <tr>\n",
       "      <th>3</th>\n",
       "      <td>rainy</td>\n",
       "      <td>70</td>\n",
       "      <td>96</td>\n",
       "      <td>FALSE</td>\n",
       "      <td>yes</td>\n",
       "      <td>21.111111</td>\n",
       "    </tr>\n",
       "    <tr>\n",
       "      <th>4</th>\n",
       "      <td>rainy</td>\n",
       "      <td>68</td>\n",
       "      <td>80</td>\n",
       "      <td>FALSE</td>\n",
       "      <td>yes</td>\n",
       "      <td>20.000000</td>\n",
       "    </tr>\n",
       "    <tr>\n",
       "      <th>5</th>\n",
       "      <td>rainy</td>\n",
       "      <td>65</td>\n",
       "      <td>70</td>\n",
       "      <td>TRUE</td>\n",
       "      <td>no</td>\n",
       "      <td>18.333333</td>\n",
       "    </tr>\n",
       "    <tr>\n",
       "      <th>6</th>\n",
       "      <td>overcast</td>\n",
       "      <td>64</td>\n",
       "      <td>65</td>\n",
       "      <td>TRUE</td>\n",
       "      <td>yes</td>\n",
       "      <td>17.777778</td>\n",
       "    </tr>\n",
       "    <tr>\n",
       "      <th>7</th>\n",
       "      <td>sunny</td>\n",
       "      <td>72</td>\n",
       "      <td>95</td>\n",
       "      <td>FALSE</td>\n",
       "      <td>no</td>\n",
       "      <td>22.222222</td>\n",
       "    </tr>\n",
       "    <tr>\n",
       "      <th>8</th>\n",
       "      <td>sunny</td>\n",
       "      <td>69</td>\n",
       "      <td>70</td>\n",
       "      <td>FALSE</td>\n",
       "      <td>yes</td>\n",
       "      <td>20.555556</td>\n",
       "    </tr>\n",
       "    <tr>\n",
       "      <th>9</th>\n",
       "      <td>rainy</td>\n",
       "      <td>75</td>\n",
       "      <td>80</td>\n",
       "      <td>FALSE</td>\n",
       "      <td>yes</td>\n",
       "      <td>23.888889</td>\n",
       "    </tr>\n",
       "    <tr>\n",
       "      <th>10</th>\n",
       "      <td>sunny</td>\n",
       "      <td>75</td>\n",
       "      <td>70</td>\n",
       "      <td>TRUE</td>\n",
       "      <td>yes</td>\n",
       "      <td>23.888889</td>\n",
       "    </tr>\n",
       "    <tr>\n",
       "      <th>11</th>\n",
       "      <td>overcast</td>\n",
       "      <td>72</td>\n",
       "      <td>90</td>\n",
       "      <td>TRUE</td>\n",
       "      <td>yes</td>\n",
       "      <td>22.222222</td>\n",
       "    </tr>\n",
       "    <tr>\n",
       "      <th>12</th>\n",
       "      <td>overcast</td>\n",
       "      <td>81</td>\n",
       "      <td>75</td>\n",
       "      <td>FALSE</td>\n",
       "      <td>yes</td>\n",
       "      <td>27.222222</td>\n",
       "    </tr>\n",
       "    <tr>\n",
       "      <th>13</th>\n",
       "      <td>rainy</td>\n",
       "      <td>71</td>\n",
       "      <td>91</td>\n",
       "      <td>TRUE</td>\n",
       "      <td>no</td>\n",
       "      <td>21.666667</td>\n",
       "    </tr>\n",
       "  </tbody>\n",
       "</table>\n",
       "</div>"
      ],
      "text/plain": [
       "     outlook  temperature  humidity  windy play  temperature_celsius\n",
       "0      sunny           85        85  FALSE   no            29.444444\n",
       "1      sunny           80        90   TRUE   no            26.666667\n",
       "2   overcast           83        86  FALSE  yes            28.333333\n",
       "3      rainy           70        96  FALSE  yes            21.111111\n",
       "4      rainy           68        80  FALSE  yes            20.000000\n",
       "5      rainy           65        70   TRUE   no            18.333333\n",
       "6   overcast           64        65   TRUE  yes            17.777778\n",
       "7      sunny           72        95  FALSE   no            22.222222\n",
       "8      sunny           69        70  FALSE  yes            20.555556\n",
       "9      rainy           75        80  FALSE  yes            23.888889\n",
       "10     sunny           75        70   TRUE  yes            23.888889\n",
       "11  overcast           72        90   TRUE  yes            22.222222\n",
       "12  overcast           81        75  FALSE  yes            27.222222\n",
       "13     rainy           71        91   TRUE   no            21.666667"
      ]
     },
     "execution_count": 14,
     "metadata": {},
     "output_type": "execute_result"
    }
   ],
   "source": [
    "weather_DF['temperature_celsius']=(weather_DF['temperature']-32)*(5./9)\n",
    "weather_DF"
   ]
  },
  {
   "cell_type": "code",
   "execution_count": 25,
   "metadata": {
    "collapsed": false,
    "scrolled": true
   },
   "outputs": [
    {
     "name": "stdout",
     "output_type": "stream",
     "text": [
      "playing tennis 9 out of 14 days\n"
     ]
    }
   ],
   "source": [
    "print ('playing tennis', weather_DF.ix[weather_DF['play']=='yes']['play'].count(), \"out of\", weather_DF.shape[0], \"days\")"
   ]
  },
  {
   "cell_type": "code",
   "execution_count": 36,
   "metadata": {
    "collapsed": false
   },
   "outputs": [
    {
     "name": "stdout",
     "output_type": "stream",
     "text": [
      "playing tennis 2 out of 14 days, when it is sunny\n"
     ]
    }
   ],
   "source": [
    "print ('playing tennis', weather_DF.ix[weather_DF['outlook']=='sunny'].ix[weather_DF['play']=='yes']['play'].count(), \"out of\", weather_DF.shape[0], \"days, when it is sunny\")"
   ]
  },
  {
   "cell_type": "code",
   "execution_count": 44,
   "metadata": {
    "collapsed": false
   },
   "outputs": [
    {
     "data": {
      "text/plain": [
       "mean    73\n",
       "min     64\n",
       "max     83\n",
       "Name: temperature, dtype: float64"
      ]
     },
     "execution_count": 44,
     "metadata": {},
     "output_type": "execute_result"
    }
   ],
   "source": [
    "weather_DF.ix[weather_DF['play']=='yes']['temperature'].describe()[['mean','min','max']]"
   ]
  },
  {
   "cell_type": "code",
   "execution_count": 45,
   "metadata": {
    "collapsed": false
   },
   "outputs": [
    {
     "data": {
      "text/plain": [
       "mean    79.111111\n",
       "min     65.000000\n",
       "max     96.000000\n",
       "Name: humidity, dtype: float64"
      ]
     },
     "execution_count": 45,
     "metadata": {},
     "output_type": "execute_result"
    }
   ],
   "source": [
    "weather_DF.ix[weather_DF['play']=='yes']['humidity'].describe()[['mean','min','max']]"
   ]
  },
  {
   "cell_type": "code",
   "execution_count": 54,
   "metadata": {
    "collapsed": false
   },
   "outputs": [
    {
     "data": {
      "text/plain": [
       "<matplotlib.text.Text at 0xa86fb00>"
      ]
     },
     "execution_count": 54,
     "metadata": {},
     "output_type": "execute_result"
    },
    {
     "data": {
      "image/png": "[encoded data removed]",
      "text/plain": [
       "<matplotlib.figure.Figure at 0xa80f390>"
      ]
     },
     "metadata": {},
     "output_type": "display_data"
    }
   ],
   "source": [
    "plt.scatter(weather_DF.ix[weather_DF['play']=='yes']['humidity'],weather_DF.ix[weather_DF['play']=='yes']['temperature'], label='yes', color='r')\n",
    "plt.scatter(weather_DF.ix[weather_DF['play']=='no']['humidity'],weather_DF.ix[weather_DF['play']=='no']['temperature'],label='no')\n",
    "plt.legend()\n",
    "plt.xlabel('humidity')\n",
    "plt.ylabel('temprature')"
   ]
  },
  {
   "cell_type": "markdown",
   "metadata": {},
   "source": [
    "need to remove the explanation part of each file\n",
    "\n",
    "space at the end of the file\n",
    "\n",
    "space in the second line\n",
    "\n",
    "attaching all files"
   ]
  },
  {
   "cell_type": "code",
   "execution_count": 309,
   "metadata": {
    "collapsed": false
   },
   "outputs": [
    {
     "name": "stdout",
     "output_type": "stream",
     "text": [
      "Current Population Reports Series P25-304 issued 4/65.\r\n",
      "P25-304 also describes the methodology used to derive the\r\n",
      "estimates.\r\n",
      "\r\n",
      "\r\n",
      "               April 1,                                                                                        April 1,\r\n",
      "                   1950 July 1,  July 1,  July 1, July 1,  July 1,   July 1, July 1,  July 1,  July 1, July 1,     1960\r\n",
      "               (census)    1950     1951     1952    1953     1954      1955    1956     1957     1958    1959 (census)\r\n",
      "                                                                                                                       \r\n",
      "U.S.            151,326 151,868  153,982  156,393 158,956  161,884   165,069 168,088  171,187  174,149 177,135  179,323\r\n",
      "                                                                                                                       \r\n",
      "REGIONS:                                                                                                               \r\n",
      "Northeast        39,478  39,559   39,644   40,178  41,045   41,823    42,278  42,628   43,095   43,766  44,371   44,678\r\n",
      "North Central    44,461  44,632   45,053   45,673  46,436   47,515    48,511  49,309   49,946   50,572  51,124   51,619\r\n",
      "South            47,197  47,347   48,321   48,840  48,927   49,266    50,224  51,151   52,287   53,123  54,077   54,973\r\n",
      "West             20,190  20,331   20,964   21,701  22,548   23,278    24,056  25,001   25,859   26,687  27,563   28,053\r\n",
      "                                                                                                                       \r\n",
      "STATES:                                                                                                                \r\n",
      "AL                3,062   3,058    3,059    3,068   3,053    3,014     3,050   3,071    3,109    3,163   3,204    3,267\r\n",
      "AK                  129     135      158      189     205      215       222     224      231      224     224      226\r\n",
      "AZ                  750     756      785      842     894      933       987   1,053    1,125    1,193   1,261    1,302\r\n",
      "AR                1,910   1,908    1,901    1,838   1,780    1,734     1,725   1,704    1,733    1,726   1,756    1,786\r\n",
      "CA               10,586  10,677   11,134   11,635  12,251   12,746    13,133  13,713   14,264   14,880  15,467   15,717\r\n",
      "CO                1,325   1,325    1,326    1,365   1,431    1,493     1,546   1,625    1,664    1,667   1,710    1,754\r\n",
      "CT                2,007   2,016    2,028    2,081   2,168    2,249     2,300   2,316    2,359    2,446   2,523    2,535\r\n",
      "DE                  318     321      331      341     351      368       389     408      426      433     441      446\r\n",
      "DC                  802     806      808      805     810      791       785     759      763      757     761      764\r\n",
      "FL                2,771   2,810    2,980    3,157   3,310    3,505     3,747   4,047    4,372    4,630   4,808    4,952\r\n",
      "GA                3,445   3,458    3,531    3,584   3,558    3,602     3,636   3,701    3,766    3,804   3,868    3,943\r\n",
      "HI                  500     498      514      517     510      505       539     559      584      605     622      633\r\n",
      "ID                  589     590      589      587     596      600       618     628      642      646     657      667\r\n",
      "IL                8,712   8,738    8,790    8,956   9,065    9,252     9,435   9,530    9,668    9,886   9,986   10,081\r\n",
      "IN                3,934   3,967    4,096    4,148   4,182    4,264     4,363   4,458    4,529    4,583   4,613    4,662\r\n",
      "IA                2,621   2,625    2,617    2,626   2,629    2,626     2,679   2,703    2,716    2,708   2,729    2,758\r\n",
      "KS                1,905   1,916    1,950    1,977   1,994    2,042     2,093   2,119    2,128    2,142   2,160    2,179\r\n",
      "KY                2,945   2,936    2,941    2,920   2,903    2,902     2,910   2,898    2,928    2,961   2,999    3,038\r\n",
      "LA                2,684   2,697    2,769    2,842   2,866    2,883     2,946   3,032    3,115    3,155   3,208    3,257\r\n",
      "ME                  914     917      916      915     913      927       934     938      943      944     957      969\r\n",
      "MD                2,343   2,355    2,441    2,500   2,567    2,685     2,742   2,811    2,873    2,982   3,066    3,101\r\n",
      "MA                4,691   4,686    4,654    4,650   4,806    4,910     4,882   4,891    4,929    5,010   5,117    5,149\r\n",
      "MI                6,372   6,407    6,497    6,650   6,822    7,066     7,285   7,467    7,569    7,667   7,767    7,823\r\n",
      "MN                2,982   2,997    3,010    3,030   3,050    3,113     3,172   3,240    3,274    3,313   3,366    3,414\r\n",
      "MS                2,179   2,176    2,163    2,152   2,105    2,064     2,060   2,086    2,088    2,086   2,138    2,178\r\n",
      "MO                3,955   3,964    4,015    3,972   4,020    4,066     4,134   4,163    4,189    4,186   4,258    4,320\r\n",
      "MT                  591     593      596      602     616      624       636     656      667      666     669      675\r\n",
      "NE                1,326   1,327    1,316    1,311   1,318    1,340     1,374   1,397    1,394    1,383   1,397    1,411\r\n",
      "NV                  160     162      168      181     195      213       237     250      260      269     279      285\r\n",
      "NH                  533     532      529      535     547      554       557     566      572      581     596      607\r\n",
      "NJ                4,835   4,872    5,006    5,125   5,229    5,360     5,502   5,615    5,737    5,890   6,015    6,067\r\n",
      "NM                  681     689      717      735     756      763       785     806      847      886     919      951\r\n",
      "NY               14,830  14,865   14,890   15,192  15,527   15,814    15,966  16,112   16,374   16,601  16,685   16,782\r\n",
      "NC                4,062   4,068    4,120    4,109   4,120    4,131     4,242   4,309    4,368    4,376   4,458    4,556\r\n",
      "ND                  620     619      604      608     609      611       615     613      612      606     618      632\r\n",
      "OH                7,947   7,980    8,061    8,275   8,591    8,873     9,017   9,207    9,410    9,599   9,671    9,706\r\n",
      "OK                2,233   2,229    2,210    2,219   2,182    2,209     2,250   2,273    2,282    2,267   2,289    2,328\r\n",
      "OR                1,521   1,532    1,556    1,582   1,601    1,626     1,659   1,698    1,712    1,718   1,746    1,769\r\n",
      "PA               10,498  10,507   10,461   10,503  10,662   10,817    10,939  10,972   10,954   11,058  11,234   11,319\r\n",
      "RI                  792     786      784      802     815      816       823     840      851      858     857      859\r\n",
      "SC                2,117   2,113    2,167    2,178   2,181    2,176     2,200   2,229    2,274    2,304   2,348    2,383\r\n",
      "SD                  653     655      655      651     648      655       663     670      666      656     667      681\r\n",
      "TN                3,292   3,315    3,372    3,352   3,319    3,359     3,415   3,415    3,434    3,471   3,522    3,567\r\n",
      "TX                7,711   7,776    8,111    8,314   8,336    8,382     8,660   8,830    9,070    9,252   9,405    9,580\r\n",
      "UT                  689     696      706      724     739      750       783     809      826      845     870      891\r\n",
      "VT                  378     379      378      375     379      377       375     377      376      380     387      390\r\n",
      "VA                3,319   3,315    3,434    3,504   3,557    3,555     3,588   3,722    3,844    3,914   3,951    3,967\r\n",
      "WA                2,379   2,387    2,424    2,448   2,466    2,516     2,604   2,668    2,724    2,773   2,821    2,853\r\n",
      "WV                2,006   2,006    1,984    1,957   1,929    1,905     1,880   1,857    1,843    1,845   1,855    1,860\r\n",
      "WI                3,435   3,438    3,439    3,469   3,506    3,608     3,679   3,742    3,791    3,843   3,891    3,952\r\n",
      "WY                  291     290      291      293     290      293       307     312      314      315     320      330\r\n",
      "\r\n",
      "\r\n",
      "\r\n",
      "\r\n",
      "\r\n",
      "\r\n",
      "\r\n",
      "\r\n",
      "\r\n",
      "\r\n",
      "\r\n",
      "\r\n",
      "\r\n",
      "\r\n",
      "\r\n",
      "\r\n",
      "\r\n",
      "\r\n",
      "\r\n",
      "\r\n",
      "\r\n",
      "\r\n",
      "\r\n",
      "\r\n",
      "\r\n",
      "\r\n",
      "\r\n",
      "\r\n",
      "\r\n",
      "\r\n",
      "\r\n",
      "\r\n",
      "\r\n",
      "\r\n",
      "\r\n",
      "\r\n",
      "\r\n",
      "\r\n",
      "\r\n",
      "\r\n",
      "\r\n",
      "\r\n",
      "\r\n",
      "\r\n",
      "\r\n",
      "\r\n",
      "\r\n",
      "\r\n",
      "\r\n",
      "\r\n",
      "\r\n",
      "\r\n",
      "\r\n",
      "\r\n",
      "\r\n",
      "\r\n",
      "\r\n",
      "\r\n",
      "\r\n",
      "\r\n",
      "\r\n",
      "\r\n",
      "\r\n",
      "\r\n",
      "\r\n",
      "\r\n",
      "\r\n"
     ]
    }
   ],
   "source": [
    "!cat /Users/phesami/Documents/DSE/phesami/DSE220/Data/st5060ts.txt| sed -e '1,/estimates./d'"
   ]
  },
  {
   "cell_type": "code",
   "execution_count": 306,
   "metadata": {
    "collapsed": false,
    "scrolled": true
   },
   "outputs": [
    {
     "name": "stdout",
     "output_type": "stream",
     "text": [
      "/Users/phesami/Documents/DSE/phesami/DSE220/Data/st0009ts.txt\n",
      "/Users/phesami/Documents/DSE/phesami/DSE220/Data/st1019ts.txt\n",
      "/Users/phesami/Documents/DSE/phesami/DSE220/Data/st2029ts.txt\n",
      "/Users/phesami/Documents/DSE/phesami/DSE220/Data/st3039ts.txt\n",
      "/Users/phesami/Documents/DSE/phesami/DSE220/Data/st4049ts.txt\n"
     ]
    }
   ],
   "source": [
    "import os\n",
    "data_Df=pd.DataFrame()\n",
    "data_Df['region']={}\n",
    "for fn in os.listdir('/Users/phesami/Documents/DSE/phesami/DSE220/Data/'):\n",
    "    if fn.endswith('9ts.txt'):\n",
    "        file_path='/Users/phesami/Documents/DSE/phesami/DSE220/Data/'+fn\n",
    "        print file_path\n",
    "        !cat {file_path} | sed -e '1,/The figures/d'>temp.txt\n",
    "        temp_DF=pd.read_fwf('temp.txt', header=1).dropna(axis=0, thresh=11).rename(columns={'Unnamed: 0': 'region'})\n",
    "        data_Df=pd.merge(data_Df,temp_DF, how='outer', on='region')\n",
    "    if fn.endswith('9ts.txt'):\n"
   ]
  },
  {
   "cell_type": "code",
   "execution_count": null,
   "metadata": {
    "collapsed": true
   },
   "outputs": [],
   "source": [
    "Arkansas, Colorado, Louisiana, Montana, New Mexico, North Dakota, Oklahoma, South Dakota, Texas, Utah and Wyoming."
   ]
  },
  {
   "cell_type": "markdown",
   "metadata": {},
   "source": [
    "P25-304"
   ]
  }
 ],
 "metadata": {
  "kernelspec": {
   "display_name": "Python 2",
   "language": "python",
   "name": "python2"
  },
  "language_info": {
   "codemirror_mode": {
    "name": "ipython",
    "version": 2
   },
   "file_extension": ".py",
   "mimetype": "text/x-python",
   "name": "python",
   "nbconvert_exporter": "python",
   "pygments_lexer": "ipython2",
   "version": "2.7.10"
  }
 },
 "nbformat": 4,
 "nbformat_minor": 0
}
