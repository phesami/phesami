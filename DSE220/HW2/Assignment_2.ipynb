{
 "cells": [
  {
   "cell_type": "markdown",
   "metadata": {},
   "source": [
    "Assignnement 2: Prediction and Classification\n",
    "\n",
    "Due: Thursday, April 30, 2015 11:59 PM\n"
   ]
  },
  {
   "cell_type": "markdown",
   "metadata": {},
   "source": [
    "# Introduction\n",
    "Problem 3 is optional - for extra credit!\n",
    "Problems 1 and 2 will be graded for the Lab 2.  \n",
    "\n",
    "\n",
    "In this assignment you will be using regression and classification to explore different data sets.  \n",
    "\n",
    "**First**: You will use data from before 2002 in the [Sean Lahman's Baseball Database](http://seanlahman.com/baseball-archive/statistics) to create a metric for picking baseball players using linear regression.  This database contains the \"complete batting and pitching statistics from 1871 to 2013, plus fielding statistics, standings, team stats, managerial records, post-season data, and more\". [Documentation provided here](http://seanlahman.com/files/database/readme2012.txt).\n",
    "\n",
    "![\"Sabermetrics Science\"](http://saberseminar.com/wp-content/uploads/2012/01/saber-web.jpg)\n",
    "http://saberseminar.com/wp-content/uploads/2012/01/saber-web.jpg\n",
    "\n",
    "**Second**: You will use the famous [iris](http://en.wikipedia.org/wiki/Iris_flower_data_set) data set to perform a $k$-neareast neighbor classification using cross validation.  While it was introduced in 1936, it is still [one of the most popular](http://archive.ics.uci.edu/ml/) example data sets in the machine learning community. Wikipedia describes the data set as follows: \"The data set consists of 50 samples from each of three species of Iris (Iris setosa, Iris virginica and Iris versicolor). Four features were measured from each sample: the length and the width of the sepals and petals, in centimetres.\" Here is an illustration what the four features measure:\n",
    "\n",
    "![\"iris data features\"](http://sebastianraschka.com/Images/2014_python_lda/iris_petal_sepal.png)\n",
    "http://sebastianraschka.com/Images/2014_python_lda/iris_petal_sepal.png\n",
    "\n",
    "**Third**: You will investigate the influence of higher dimensional spaces on the classification using another standard data set in machine learning called the The [cars data set](https://archive.ics.uci.edu/ml/datasets/Automobile).  \n"
   ]
  },
  {
   "cell_type": "markdown",
   "metadata": {},
   "source": [
    "## Load Python modules"
   ]
  },
  {
   "cell_type": "code",
   "execution_count": 1,
   "metadata": {
    "collapsed": false
   },
   "outputs": [
    {
     "name": "stderr",
     "output_type": "stream",
     "text": [
      "/Users/phesami/anaconda/lib/python2.7/site-packages/IPython/html.py:14: ShimWarning: The `IPython.html` package has been deprecated. You should import from `notebook` instead. `IPython.html.widgets` has moved to `ipywidgets`.\n",
      "  \"`IPython.html.widgets` has moved to `ipywidgets`.\", ShimWarning)\n"
     ]
    }
   ],
   "source": [
    "# prepare the notebook for matplotlib\n",
    "%matplotlib inline \n",
    "\n",
    "import requests \n",
    "import StringIO\n",
    "import zipfile\n",
    "import numpy as np\n",
    "import pandas as pd # pandas\n",
    "import matplotlib.pyplot as plt # module for plotting \n",
    "\n",
    "# If this module is not already installed, you may need to install it. \n",
    "# You can do this by typing 'pip install seaborn' in the command line\n",
    "import seaborn as sns \n",
    "\n",
    "import sklearn\n",
    "import sklearn.datasets\n",
    "import sklearn.cross_validation\n",
    "import sklearn.decomposition\n",
    "import sklearn.grid_search\n",
    "import sklearn.neighbors\n",
    "import sklearn.metrics"
   ]
  },
  {
   "cell_type": "markdown",
   "metadata": {},
   "source": [
    "# Problem 1: Sabermetrics\n",
    "\n",
    "Using data preceding the 2002 season pick 10 offensive players keeping the payroll under $20 million (assign each player the median salary). Predict how many games this team would win in a 162 game season.  \n",
    "\n",
    "In this problem we will be returning to the [Sean Lahman's Baseball Database](http://seanlahman.com/baseball-archive/statistics).  From this database, we will be extract five data sets containing information such as yearly stats and standing, batting statistics, fielding statistics, player names, player salaries and biographical information. You will explore the data in this database from before 2002 and create a metric for picking players. "
   ]
  },
  {
   "cell_type": "markdown",
   "metadata": {},
   "source": [
    "#### Problem 1(a) \n",
    "\n",
    "Load in [these CSV files](http://seanlahman.com/files/database/lahman-csv_2014-02-14.zip) from the [Sean Lahman's Baseball Database](http://seanlahman.com/baseball-archive/statistics). For this assignment, we will use the 'Teams.csv', 'Batting.csv', 'Salaries.csv', 'Fielding.csv', 'Master.csv' tables. Read these tables into separate pandas DataFrames with the following names. \n",
    "\n",
    "CSV file name | Name of pandas DataFrame\n",
    ":---: | :---: \n",
    "Teams.csv | teams\n",
    "Batting.csv | players\n",
    "Salaries.csv | salaries\n",
    "Fielding.csv | fielding\n",
    "Master.csv | master"
   ]
  },
  {
   "cell_type": "code",
   "execution_count": 2,
   "metadata": {
    "collapsed": false
   },
   "outputs": [],
   "source": [
    "### Your code here ###\n",
    "teams=pd.read_csv('../lahman-csv_2014-02-14/Teams.csv')\n",
    "players=pd.read_csv('../lahman-csv_2014-02-14/Batting.csv')\n",
    "salaries=pd.read_csv('../lahman-csv_2014-02-14/Salaries.csv')\n",
    "fielding=pd.read_csv('../lahman-csv_2014-02-14/Fielding.csv')\n",
    "master=pd.read_csv('../lahman-csv_2014-02-14/Master.csv')"
   ]
  },
  {
   "cell_type": "markdown",
   "metadata": {},
   "source": [
    "#### Problem 1(b)\n",
    "\n",
    "Calculate the median salary for each player and create a pandas DataFrame called `medianSalaries` with four columns: (1) the player ID, (2) the first name of the player, (3) the last name of the player and (4) the median salary of the player. Show the head of the `medianSalaries` DataFrame.   "
   ]
  },
  {
   "cell_type": "code",
   "execution_count": 3,
   "metadata": {
    "collapsed": false
   },
   "outputs": [
    {
     "data": {
      "text/html": [
       "<div>\n",
       "<table border=\"1\" class=\"dataframe\">\n",
       "  <thead>\n",
       "    <tr style=\"text-align: right;\">\n",
       "      <th></th>\n",
       "      <th>playerID</th>\n",
       "      <th>nameGiven</th>\n",
       "      <th>nameLast</th>\n",
       "      <th>salary</th>\n",
       "    </tr>\n",
       "  </thead>\n",
       "  <tbody>\n",
       "    <tr>\n",
       "      <th>0</th>\n",
       "      <td>aardsda01</td>\n",
       "      <td>David Allan</td>\n",
       "      <td>Aardsma</td>\n",
       "      <td>419000</td>\n",
       "    </tr>\n",
       "    <tr>\n",
       "      <th>1</th>\n",
       "      <td>aaronha01</td>\n",
       "      <td>Henry Louis</td>\n",
       "      <td>Aaron</td>\n",
       "      <td>NaN</td>\n",
       "    </tr>\n",
       "    <tr>\n",
       "      <th>2</th>\n",
       "      <td>aaronto01</td>\n",
       "      <td>Tommie Lee</td>\n",
       "      <td>Aaron</td>\n",
       "      <td>NaN</td>\n",
       "    </tr>\n",
       "    <tr>\n",
       "      <th>3</th>\n",
       "      <td>aasedo01</td>\n",
       "      <td>Donald William</td>\n",
       "      <td>Aase</td>\n",
       "      <td>612500</td>\n",
       "    </tr>\n",
       "    <tr>\n",
       "      <th>4</th>\n",
       "      <td>abadan01</td>\n",
       "      <td>Fausto Andres</td>\n",
       "      <td>Abad</td>\n",
       "      <td>327000</td>\n",
       "    </tr>\n",
       "  </tbody>\n",
       "</table>\n",
       "</div>"
      ],
      "text/plain": [
       "    playerID       nameGiven nameLast  salary\n",
       "0  aardsda01     David Allan  Aardsma  419000\n",
       "1  aaronha01     Henry Louis    Aaron     NaN\n",
       "2  aaronto01      Tommie Lee    Aaron     NaN\n",
       "3   aasedo01  Donald William     Aase  612500\n",
       "4   abadan01   Fausto Andres     Abad  327000"
      ]
     },
     "execution_count": 3,
     "metadata": {},
     "output_type": "execute_result"
    }
   ],
   "source": [
    "### Your code here ###\n",
    "players_salaries = master.merge(salaries,on='playerID', how='outer')[['playerID','nameGiven','nameLast','salary']]\n",
    "medianSalaries = players_salaries.groupby(['playerID','nameGiven','nameLast']).median().reset_index()\n",
    "medianSalaries.head()"
   ]
  },
  {
   "cell_type": "markdown",
   "metadata": {},
   "source": [
    "#### Problem 1(c)\n",
    "\n",
    "Now, consider only team/season combinations in which the teams played 162 Games. Exclude all data from before 1947. Compute the per plate appearance rates for singles, doubles, triples, HR, and BB. Create a new pandas DataFrame called `stats` that has the teamID, yearID, wins and these rates.\n",
    "\n",
    "**Hint**: Singles are hits that are not doubles, triples, nor HR. Plate appearances are base on balls plus at bats."
   ]
  },
  {
   "cell_type": "code",
   "execution_count": 4,
   "metadata": {
    "collapsed": false
   },
   "outputs": [
    {
     "data": {
      "text/html": [
       "<div>\n",
       "<table border=\"1\" class=\"dataframe\">\n",
       "  <thead>\n",
       "    <tr style=\"text-align: right;\">\n",
       "      <th></th>\n",
       "      <th>teamID</th>\n",
       "      <th>yearID</th>\n",
       "      <th>W</th>\n",
       "      <th>singlesPPA</th>\n",
       "      <th>doublesPPA</th>\n",
       "      <th>triplesPPA</th>\n",
       "      <th>HRPPA</th>\n",
       "      <th>BBPPA</th>\n",
       "    </tr>\n",
       "  </thead>\n",
       "  <tbody>\n",
       "    <tr>\n",
       "      <th>1366</th>\n",
       "      <td>LAA</td>\n",
       "      <td>1961</td>\n",
       "      <td>70</td>\n",
       "      <td>0.147748</td>\n",
       "      <td>0.035708</td>\n",
       "      <td>0.003604</td>\n",
       "      <td>0.030958</td>\n",
       "      <td>0.111548</td>\n",
       "    </tr>\n",
       "    <tr>\n",
       "      <th>1367</th>\n",
       "      <td>KC1</td>\n",
       "      <td>1961</td>\n",
       "      <td>61</td>\n",
       "      <td>0.164751</td>\n",
       "      <td>0.035982</td>\n",
       "      <td>0.007829</td>\n",
       "      <td>0.014993</td>\n",
       "      <td>0.096618</td>\n",
       "    </tr>\n",
       "    <tr>\n",
       "      <th>1377</th>\n",
       "      <td>NYA</td>\n",
       "      <td>1962</td>\n",
       "      <td>96</td>\n",
       "      <td>0.167148</td>\n",
       "      <td>0.038536</td>\n",
       "      <td>0.004656</td>\n",
       "      <td>0.031952</td>\n",
       "      <td>0.093770</td>\n",
       "    </tr>\n",
       "    <tr>\n",
       "      <th>1379</th>\n",
       "      <td>LAA</td>\n",
       "      <td>1962</td>\n",
       "      <td>86</td>\n",
       "      <td>0.159482</td>\n",
       "      <td>0.038027</td>\n",
       "      <td>0.005737</td>\n",
       "      <td>0.022455</td>\n",
       "      <td>0.098672</td>\n",
       "    </tr>\n",
       "    <tr>\n",
       "      <th>1381</th>\n",
       "      <td>CHA</td>\n",
       "      <td>1962</td>\n",
       "      <td>85</td>\n",
       "      <td>0.165797</td>\n",
       "      <td>0.040756</td>\n",
       "      <td>0.009129</td>\n",
       "      <td>0.014998</td>\n",
       "      <td>0.101076</td>\n",
       "    </tr>\n",
       "  </tbody>\n",
       "</table>\n",
       "</div>"
      ],
      "text/plain": [
       "     teamID  yearID   W  singlesPPA  doublesPPA  triplesPPA     HRPPA  \\\n",
       "1366    LAA    1961  70    0.147748    0.035708    0.003604  0.030958   \n",
       "1367    KC1    1961  61    0.164751    0.035982    0.007829  0.014993   \n",
       "1377    NYA    1962  96    0.167148    0.038536    0.004656  0.031952   \n",
       "1379    LAA    1962  86    0.159482    0.038027    0.005737  0.022455   \n",
       "1381    CHA    1962  85    0.165797    0.040756    0.009129  0.014998   \n",
       "\n",
       "         BBPPA  \n",
       "1366  0.111548  \n",
       "1367  0.096618  \n",
       "1377  0.093770  \n",
       "1379  0.098672  \n",
       "1381  0.101076  "
      ]
     },
     "execution_count": 4,
     "metadata": {},
     "output_type": "execute_result"
    }
   ],
   "source": [
    "teams_filtered = teams.ix[teams['yearID']>=1947].ix[teams['G']==162]\n",
    "teams_filtered['singles']=teams_filtered['H']-teams_filtered['2B']-teams_filtered['3B']-teams_filtered['HR']\n",
    "teams_filtered['plateAppearance']=teams_filtered['AB']+teams_filtered['BB']\n",
    "teams_filtered['singlesPPA']=teams_filtered['singles']/teams_filtered['plateAppearance']\n",
    "teams_filtered['doublesPPA']=teams_filtered['2B']/teams_filtered['plateAppearance']\n",
    "teams_filtered['triplesPPA']=teams_filtered['3B']/teams_filtered['plateAppearance']\n",
    "teams_filtered['HRPPA']=teams_filtered['HR']/teams_filtered['plateAppearance']\n",
    "teams_filtered['BBPPA']=teams_filtered['BB']/teams_filtered['plateAppearance']\n",
    "stats=teams_filtered[['teamID','yearID','W','singlesPPA','doublesPPA','triplesPPA','HRPPA','BBPPA']]\n",
    "stats.head()"
   ]
  },
  {
   "cell_type": "markdown",
   "metadata": {},
   "source": [
    "#### Problem 1(d)\n",
    "\n",
    "Is there a noticeable time trend in the rates computed computed in Problem 1(c)? "
   ]
  },
  {
   "cell_type": "code",
   "execution_count": 5,
   "metadata": {
    "collapsed": false
   },
   "outputs": [
    {
     "data": {
      "text/plain": [
       "<matplotlib.text.Text at 0x109f06e50>"
      ]
     },
     "execution_count": 5,
     "metadata": {},
     "output_type": "execute_result"
    },
    {
     "data": {
      "image/png": "[encoded data removed]",
      "text/plain": [
       "<matplotlib.figure.Figure at 0x10958db50>"
      ]
     },
     "metadata": {},
     "output_type": "display_data"
    }
   ],
   "source": [
    "### Your code here ###\n",
    "f, axarr = plt.subplots(6, sharex=True, )\n",
    "f.set_size_inches(10,30)\n",
    "axarr[0].plot(stats['yearID'], stats['W'])\n",
    "axarr[0].set_title('Wins Over Time')\n",
    "\n",
    "axarr[1].plot(stats['yearID'], stats['singlesPPA'])\n",
    "axarr[1].set_title('Singles per Plate Appearance Over Time')\n",
    "\n",
    "axarr[2].plot(stats['yearID'], stats['doublesPPA'])\n",
    "axarr[2].set_title('Doubles per Plate Appearance Over Time')\n",
    "\n",
    "axarr[3].plot(stats['yearID'], stats['triplesPPA'])\n",
    "axarr[3].set_title('Tripples per Plate Appearance Over Time')\n",
    "\n",
    "axarr[4].plot(stats['yearID'], stats['HRPPA'])\n",
    "axarr[4].set_title('HR per Plate Appearance Over Time')\n",
    "\n",
    "axarr[5].plot(stats['yearID'], stats['BBPPA'])\n",
    "axarr[5].set_title('BB per Plate Appearance Over Time')"
   ]
  },
  {
   "cell_type": "markdown",
   "metadata": {},
   "source": [
    "- Doubles per plate appearnce rate has consistently increased over time\n",
    "- Home runs per plate appearance has had a sudden increase from 1995 onwards"
   ]
  },
  {
   "cell_type": "markdown",
   "metadata": {},
   "source": [
    "#### Problem 1(e) \n",
    "\n",
    "Using the `stats` DataFrame from Problem 1(c), adjust the singles per PA rates so that the average across teams for each year is 0. Do the same for the doubles, triples, HR, and BB rates. "
   ]
  },
  {
   "cell_type": "code",
   "execution_count": 6,
   "metadata": {
    "collapsed": false
   },
   "outputs": [
    {
     "data": {
      "text/html": [
       "<div>\n",
       "<table border=\"1\" class=\"dataframe\">\n",
       "  <thead>\n",
       "    <tr style=\"text-align: right;\">\n",
       "      <th></th>\n",
       "      <th>singlesPPA_adj</th>\n",
       "      <th>doublesPPA_adj</th>\n",
       "      <th>triplesPPA_adj</th>\n",
       "      <th>HRPPA_adj</th>\n",
       "      <th>BBPPA_adj</th>\n",
       "      <th>yearID</th>\n",
       "      <th>teamID</th>\n",
       "      <th>W</th>\n",
       "    </tr>\n",
       "  </thead>\n",
       "  <tbody>\n",
       "    <tr>\n",
       "      <th>0</th>\n",
       "      <td>-0.008502</td>\n",
       "      <td>-0.000137</td>\n",
       "      <td>-0.002113</td>\n",
       "      <td>0.007983</td>\n",
       "      <td>0.007465</td>\n",
       "      <td>1961</td>\n",
       "      <td>LAA</td>\n",
       "      <td>70</td>\n",
       "    </tr>\n",
       "    <tr>\n",
       "      <th>1</th>\n",
       "      <td>0.008502</td>\n",
       "      <td>0.000137</td>\n",
       "      <td>0.002113</td>\n",
       "      <td>-0.007983</td>\n",
       "      <td>-0.007465</td>\n",
       "      <td>1961</td>\n",
       "      <td>KC1</td>\n",
       "      <td>61</td>\n",
       "    </tr>\n",
       "    <tr>\n",
       "      <th>2</th>\n",
       "      <td>0.001516</td>\n",
       "      <td>0.002683</td>\n",
       "      <td>-0.002121</td>\n",
       "      <td>0.008141</td>\n",
       "      <td>0.005180</td>\n",
       "      <td>1962</td>\n",
       "      <td>NYA</td>\n",
       "      <td>96</td>\n",
       "    </tr>\n",
       "    <tr>\n",
       "      <th>3</th>\n",
       "      <td>-0.006150</td>\n",
       "      <td>0.002174</td>\n",
       "      <td>-0.001040</td>\n",
       "      <td>-0.001356</td>\n",
       "      <td>0.010082</td>\n",
       "      <td>1962</td>\n",
       "      <td>LAA</td>\n",
       "      <td>86</td>\n",
       "    </tr>\n",
       "    <tr>\n",
       "      <th>4</th>\n",
       "      <td>0.000165</td>\n",
       "      <td>0.004904</td>\n",
       "      <td>0.002352</td>\n",
       "      <td>-0.008813</td>\n",
       "      <td>0.012486</td>\n",
       "      <td>1962</td>\n",
       "      <td>CHA</td>\n",
       "      <td>85</td>\n",
       "    </tr>\n",
       "  </tbody>\n",
       "</table>\n",
       "</div>"
      ],
      "text/plain": [
       "   singlesPPA_adj  doublesPPA_adj  triplesPPA_adj  HRPPA_adj  BBPPA_adj  \\\n",
       "0       -0.008502       -0.000137       -0.002113   0.007983   0.007465   \n",
       "1        0.008502        0.000137        0.002113  -0.007983  -0.007465   \n",
       "2        0.001516        0.002683       -0.002121   0.008141   0.005180   \n",
       "3       -0.006150        0.002174       -0.001040  -0.001356   0.010082   \n",
       "4        0.000165        0.004904        0.002352  -0.008813   0.012486   \n",
       "\n",
       "   yearID teamID   W  \n",
       "0    1961    LAA  70  \n",
       "1    1961    KC1  61  \n",
       "2    1962    NYA  96  \n",
       "3    1962    LAA  86  \n",
       "4    1962    CHA  85  "
      ]
     },
     "execution_count": 6,
     "metadata": {},
     "output_type": "execute_result"
    }
   ],
   "source": [
    "### Your code here ###\n",
    "stats_mean_per_year=pd.DataFrame()\n",
    "stats_normalized=pd.DataFrame()\n",
    "stats_mean_per_year[['yearID','singlesPPA_ave','doublesPPA_ave','triplesPPA_ave','HRPPA_ave','BBPPA_ave']]\\\n",
    "        =stats.groupby('yearID', as_index=False).mean()[['yearID','singlesPPA','doublesPPA','triplesPPA','HRPPA','BBPPA']]\n",
    "stats_merged = stats_mean_per_year.merge(stats, on='yearID')\n",
    "stats_normalized= pd.DataFrame(stats_merged.ix[:,['singlesPPA','doublesPPA','triplesPPA','HRPPA','BBPPA']].values-\\\n",
    "stats_merged.ix[:,['singlesPPA_ave','doublesPPA_ave','triplesPPA_ave','HRPPA_ave','BBPPA_ave']].values, \\\n",
    "                               columns=['singlesPPA_adj','doublesPPA_adj','triplesPPA_adj','HRPPA_adj','BBPPA_adj'])\n",
    "stats_normalized [['yearID','teamID', 'W']]= stats_merged[['yearID','teamID', 'W']]\n",
    "stats_normalized.head()"
   ]
  },
  {
   "cell_type": "markdown",
   "metadata": {},
   "source": [
    "#### Problem 1(f)\n",
    "\n",
    "Build a simple linear regression model to predict the number of wins from the average adjusted singles, double, triples, HR, and BB rates. To decide which of these terms to include fit the model to data from 2002 and compute the average squared residuals from predictions to years past 2002. Use the fitted model to define a new sabermetric summary: offensive predicted wins (OPW). Hint: the new summary should be a linear combination of one to five of the five rates.\n"
   ]
  },
  {
   "cell_type": "code",
   "execution_count": 255,
   "metadata": {
    "collapsed": false
   },
   "outputs": [
    {
     "data": {
      "text/plain": [
       "[['singlesPPA_adj', 'doublesPPA_adj', 'triplesPPA_adj', 'HRPPA_adj'],\n",
       " ['singlesPPA_adj', 'doublesPPA_adj', 'triplesPPA_adj', 'BBPPA_adj'],\n",
       " ['singlesPPA_adj', 'doublesPPA_adj', 'HRPPA_adj', 'BBPPA_adj'],\n",
       " ['singlesPPA_adj', 'triplesPPA_adj', 'HRPPA_adj', 'BBPPA_adj'],\n",
       " ['doublesPPA_adj', 'triplesPPA_adj', 'HRPPA_adj', 'BBPPA_adj']]"
      ]
     },
     "execution_count": 255,
     "metadata": {},
     "output_type": "execute_result"
    }
   ],
   "source": [
    "from itertools import combinations\n",
    "[list(rate) for rate in combinations(['singlesPPA_adj','doublesPPA_adj','triplesPPA_adj','HRPPA_adj','BBPPA_adj'],4)]"
   ]
  },
  {
   "cell_type": "code",
   "execution_count": 286,
   "metadata": {
    "collapsed": false
   },
   "outputs": [
    {
     "name": "stdout",
     "output_type": "stream",
     "text": [
      "Residual sum of squares on test set: 82.63\n",
      "Residual sum of squares on training set: 77.40\n"
     ]
    }
   ],
   "source": [
    "### Your code here ###\n",
    "from sklearn import linear_model\n",
    "regr = linear_model.LinearRegression()\n",
    "# Train the model using the training sets\n",
    "test_error={}\n",
    "for n in range(1,6):\n",
    "    feature_selected = combinations(['singlesPPA_adj','doublesPPA_adj','triplesPPA_adj','HRPPA_adj','BBPPA_adj'],n)\n",
    "    for rates in feature_selected:\n",
    "        X_train=stats_normalized.ix[stats_normalized['yearID']<=2002,list(rates)]\n",
    "        y_train=stats_normalized.ix[stats_normalized['yearID']<=2002,['W']]\n",
    "        regr.fit(X_train, y_train)\n",
    "        # The mean square error\n",
    "        X_test = stats_normalized.ix[stats_normalized['yearID']>2002,list(rates)]\n",
    "        y_test = stats_normalized.ix[stats_normalized['yearID']>2002,['W']]\n",
    "        test_error [rates] = np.mean((regr.predict(X_test) - y_test) ** 2)[0]\n",
    "\n",
    "selected_features=min(test_error, key=test_error.get)\n",
    "X_train=stats_normalized.ix[stats_normalized['yearID']<=2002,list(selected_features)]\n",
    "y_train=stats_normalized.ix[stats_normalized['yearID']<=2002,['W']]\n",
    "regr.fit(X_train, y_train)\n",
    "# The mean square error\n",
    "X_test = stats_normalized.ix[stats_normalized['yearID']>2002,list(selected_features)]\n",
    "y_test = stats_normalized.ix[stats_normalized['yearID']>2002,['W']]\n",
    "print(\"Residual sum of squares on test set: %.2f\"\n",
    "      % np.mean((regr.predict(X_test) - y_test) ** 2))\n",
    "\n",
    "print(\"Residual sum of squares on training set: %.2f\"\n",
    "      % np.mean((regr.predict(X_train) - y_train) ** 2))"
   ]
  },
  {
   "cell_type": "markdown",
   "metadata": {},
   "source": [
    "** Your answer here: **"
   ]
  },
  {
   "cell_type": "code",
   "execution_count": 18,
   "metadata": {
    "collapsed": false
   },
   "outputs": [
    {
     "data": {
      "text/html": [
       "<div>\n",
       "<table border=\"1\" class=\"dataframe\">\n",
       "  <thead>\n",
       "    <tr style=\"text-align: right;\">\n",
       "      <th></th>\n",
       "      <th>singlesPPA_adj</th>\n",
       "      <th>doublesPPA_adj</th>\n",
       "      <th>triplesPPA_adj</th>\n",
       "      <th>HRPPA_adj</th>\n",
       "      <th>BBPPA_adj</th>\n",
       "      <th>yearID</th>\n",
       "      <th>teamID</th>\n",
       "      <th>W</th>\n",
       "      <th>OPW</th>\n",
       "    </tr>\n",
       "  </thead>\n",
       "  <tbody>\n",
       "    <tr>\n",
       "      <th>0</th>\n",
       "      <td>-0.008502</td>\n",
       "      <td>-0.000137</td>\n",
       "      <td>-0.002113</td>\n",
       "      <td>0.007983</td>\n",
       "      <td>0.007465</td>\n",
       "      <td>1961</td>\n",
       "      <td>LAA</td>\n",
       "      <td>70</td>\n",
       "      <td>85</td>\n",
       "    </tr>\n",
       "    <tr>\n",
       "      <th>1</th>\n",
       "      <td>0.008502</td>\n",
       "      <td>0.000137</td>\n",
       "      <td>0.002113</td>\n",
       "      <td>-0.007983</td>\n",
       "      <td>-0.007465</td>\n",
       "      <td>1961</td>\n",
       "      <td>KC1</td>\n",
       "      <td>61</td>\n",
       "      <td>77</td>\n",
       "    </tr>\n",
       "    <tr>\n",
       "      <th>2</th>\n",
       "      <td>0.001516</td>\n",
       "      <td>0.002683</td>\n",
       "      <td>-0.002121</td>\n",
       "      <td>0.008141</td>\n",
       "      <td>0.005180</td>\n",
       "      <td>1962</td>\n",
       "      <td>NYA</td>\n",
       "      <td>96</td>\n",
       "      <td>91</td>\n",
       "    </tr>\n",
       "    <tr>\n",
       "      <th>3</th>\n",
       "      <td>-0.006150</td>\n",
       "      <td>0.002174</td>\n",
       "      <td>-0.001040</td>\n",
       "      <td>-0.001356</td>\n",
       "      <td>0.010082</td>\n",
       "      <td>1962</td>\n",
       "      <td>LAA</td>\n",
       "      <td>86</td>\n",
       "      <td>82</td>\n",
       "    </tr>\n",
       "    <tr>\n",
       "      <th>4</th>\n",
       "      <td>0.000165</td>\n",
       "      <td>0.004904</td>\n",
       "      <td>0.002352</td>\n",
       "      <td>-0.008813</td>\n",
       "      <td>0.012486</td>\n",
       "      <td>1962</td>\n",
       "      <td>CHA</td>\n",
       "      <td>85</td>\n",
       "      <td>85</td>\n",
       "    </tr>\n",
       "  </tbody>\n",
       "</table>\n",
       "</div>"
      ],
      "text/plain": [
       "   singlesPPA_adj  doublesPPA_adj  triplesPPA_adj  HRPPA_adj  BBPPA_adj  \\\n",
       "0       -0.008502       -0.000137       -0.002113   0.007983   0.007465   \n",
       "1        0.008502        0.000137        0.002113  -0.007983  -0.007465   \n",
       "2        0.001516        0.002683       -0.002121   0.008141   0.005180   \n",
       "3       -0.006150        0.002174       -0.001040  -0.001356   0.010082   \n",
       "4        0.000165        0.004904        0.002352  -0.008813   0.012486   \n",
       "\n",
       "   yearID teamID   W  OPW  \n",
       "0    1961    LAA  70   85  \n",
       "1    1961    KC1  61   77  \n",
       "2    1962    NYA  96   91  \n",
       "3    1962    LAA  86   82  \n",
       "4    1962    CHA  85   85  "
      ]
     },
     "execution_count": 18,
     "metadata": {},
     "output_type": "execute_result"
    }
   ],
   "source": [
    "stats_normalized['OPW']=regr.predict(stats_normalized.ix[:,\\\n",
    "                                ['singlesPPA_adj','doublesPPA_adj','triplesPPA_adj','HRPPA_adj','BBPPA_adj']]).round()\n",
    "stats_normalized.head()"
   ]
  },
  {
   "cell_type": "markdown",
   "metadata": {},
   "source": [
    "#### Problem 1(g)\n",
    "\n",
    "Now we will create a similar database for individual players. Consider only player/year combinations in which the player had at least 500 plate appearances. Consider only the years we considered for the calculations above (after 1947 and seasons with 162 games). For each player/year compute singles, doubles, triples, HR, BB per plate appearance rates. Create a new pandas DataFrame called `playerstats` that has the playerID, yearID and the rates of these stats.  Remove the average for each year as for these rates as done in Problem 1(e). "
   ]
  },
  {
   "cell_type": "code",
   "execution_count": 494,
   "metadata": {
    "collapsed": false
   },
   "outputs": [],
   "source": [
    "### Your code here ###\n",
    "players['plateAppearance']=players['AB']+players['BB']\n",
    "players_filtered = players.ix[players['yearID']>=1947].ix[players['G']>=162].ix[players['plateAppearance']>=500]\n",
    "players_filtered['singles']=players_filtered['H']-players_filtered['2B']-players_filtered['3B']-players_filtered['HR']\n",
    "\n",
    "players_filtered['singlesPPA']=players_filtered['singles']/players_filtered['plateAppearance']\n",
    "players_filtered['doublesPPA']=players_filtered['2B']/players_filtered['plateAppearance']\n",
    "players_filtered['triplesPPA']=players_filtered['3B']/players_filtered['plateAppearance']\n",
    "players_filtered['HRPPA']=players_filtered['HR']/players_filtered['plateAppearance']\n",
    "players_filtered['BBPPA']=players_filtered['BB']/players_filtered['plateAppearance']\n",
    "playerstats_raw=players_filtered[['playerID','yearID','singlesPPA','doublesPPA','triplesPPA','HRPPA','BBPPA']]\n",
    "\n",
    "###Removing the mean per year such that the average of all rates per year per player is zero####\n",
    "playerstats_raw_mean_per_year=pd.DataFrame()\n",
    "playerstats_raw_mean_per_year[['yearID','singlesPPA_ave','doublesPPA_ave','triplesPPA_ave','HRPPA_ave','BBPPA_ave']]\\\n",
    "        =playerstats_raw.groupby('yearID', as_index=False).mean()[['yearID','singlesPPA','doublesPPA','triplesPPA','HRPPA','BBPPA']]\n",
    "playerstats_merged = playerstats_raw_mean_per_year.merge(playerstats_raw, on='yearID')\n",
    "playerstats= pd.DataFrame(playerstats_merged.ix[:,['singlesPPA','doublesPPA','triplesPPA','HRPPA','BBPPA']].values-\\\n",
    "playerstats_merged.ix[:,['singlesPPA_ave','doublesPPA_ave','triplesPPA_ave','HRPPA_ave','BBPPA_ave']].values, \\\n",
    "                               columns=['singlesPPA_adj','doublesPPA_adj','triplesPPA_adj','HRPPA_adj','BBPPA_adj'])\n",
    "playerstats[['yearID','playerID']]= playerstats_merged[['yearID','playerID']]"
   ]
  },
  {
   "cell_type": "markdown",
   "metadata": {},
   "source": [
    "Show the head of the `playerstats` DataFrame. "
   ]
  },
  {
   "cell_type": "code",
   "execution_count": 495,
   "metadata": {
    "collapsed": false
   },
   "outputs": [
    {
     "data": {
      "text/html": [
       "<div>\n",
       "<table border=\"1\" class=\"dataframe\">\n",
       "  <thead>\n",
       "    <tr style=\"text-align: right;\">\n",
       "      <th></th>\n",
       "      <th>singlesPPA_adj</th>\n",
       "      <th>doublesPPA_adj</th>\n",
       "      <th>triplesPPA_adj</th>\n",
       "      <th>HRPPA_adj</th>\n",
       "      <th>BBPPA_adj</th>\n",
       "      <th>yearID</th>\n",
       "      <th>playerID</th>\n",
       "    </tr>\n",
       "  </thead>\n",
       "  <tbody>\n",
       "    <tr>\n",
       "      <th>0</th>\n",
       "      <td>-0.048011</td>\n",
       "      <td>0.007005</td>\n",
       "      <td>-0.006953</td>\n",
       "      <td>0.041146</td>\n",
       "      <td>0.074385</td>\n",
       "      <td>1961</td>\n",
       "      <td>colavro01</td>\n",
       "    </tr>\n",
       "    <tr>\n",
       "      <th>1</th>\n",
       "      <td>0.033678</td>\n",
       "      <td>-0.011532</td>\n",
       "      <td>-0.002601</td>\n",
       "      <td>-0.019174</td>\n",
       "      <td>-0.044619</td>\n",
       "      <td>1961</td>\n",
       "      <td>richabo01</td>\n",
       "    </tr>\n",
       "    <tr>\n",
       "      <th>2</th>\n",
       "      <td>0.015609</td>\n",
       "      <td>0.017048</td>\n",
       "      <td>-0.000036</td>\n",
       "      <td>-0.013719</td>\n",
       "      <td>-0.022237</td>\n",
       "      <td>1961</td>\n",
       "      <td>robinbr01</td>\n",
       "    </tr>\n",
       "    <tr>\n",
       "      <th>3</th>\n",
       "      <td>-0.001277</td>\n",
       "      <td>-0.012520</td>\n",
       "      <td>0.009591</td>\n",
       "      <td>-0.008253</td>\n",
       "      <td>-0.007528</td>\n",
       "      <td>1961</td>\n",
       "      <td>woodja01</td>\n",
       "    </tr>\n",
       "    <tr>\n",
       "      <th>4</th>\n",
       "      <td>0.007904</td>\n",
       "      <td>-0.001749</td>\n",
       "      <td>-0.006844</td>\n",
       "      <td>0.015932</td>\n",
       "      <td>-0.031137</td>\n",
       "      <td>1962</td>\n",
       "      <td>cepedor01</td>\n",
       "    </tr>\n",
       "  </tbody>\n",
       "</table>\n",
       "</div>"
      ],
      "text/plain": [
       "   singlesPPA_adj  doublesPPA_adj  triplesPPA_adj  HRPPA_adj  BBPPA_adj  \\\n",
       "0       -0.048011        0.007005       -0.006953   0.041146   0.074385   \n",
       "1        0.033678       -0.011532       -0.002601  -0.019174  -0.044619   \n",
       "2        0.015609        0.017048       -0.000036  -0.013719  -0.022237   \n",
       "3       -0.001277       -0.012520        0.009591  -0.008253  -0.007528   \n",
       "4        0.007904       -0.001749       -0.006844   0.015932  -0.031137   \n",
       "\n",
       "   yearID   playerID  \n",
       "0    1961  colavro01  \n",
       "1    1961  richabo01  \n",
       "2    1961  robinbr01  \n",
       "3    1961   woodja01  \n",
       "4    1962  cepedor01  "
      ]
     },
     "execution_count": 495,
     "metadata": {},
     "output_type": "execute_result"
    }
   ],
   "source": [
    "### Your code here ###\n",
    "playerstats.head()"
   ]
  },
  {
   "cell_type": "markdown",
   "metadata": {},
   "source": [
    "#### Problem 1(h)\n",
    "\n",
    "Using the `playerstats` DataFrame created in Problem 1(g), create a new DataFrame called `playerLS` containing the player's lifetime stats. This DataFrame should contain the playerID, the year the player's career started, the year the player's career ended and the player's lifetime average for each of the quantities (singles, doubles, triples, HR, BB). For simplicity we will simply compute the avaerage of the rates by year (a more correct way is to go back to the totals). "
   ]
  },
  {
   "cell_type": "code",
   "execution_count": 571,
   "metadata": {
    "collapsed": false
   },
   "outputs": [],
   "source": [
    "### Your code here ###\n",
    "player_year=playerstats[['yearID','playerID']].groupby('playerID', as_index=False).min().rename(columns={'yearID':'yearStarted'})\n",
    "player_year['yearEnded']=playerstats[['yearID','playerID']].groupby('playerID', as_index=False).max()['yearID']\n",
    "players_mean_rate = playerstats[['playerID','singlesPPA_adj','doublesPPA_adj','triplesPPA_adj','HRPPA_adj','BBPPA_adj']]\\\n",
    ".groupby('playerID', as_index=False).mean().rename(columns={'singlesPPA_adj':'singlesPPA_ave','doublesPPA_adj':'doublesPPA_ave',\\\n",
    "                                                           'triplesPPA_adj':'triplesPPA_ave','HRPPA_adj':'HRPPA_ave','BBPPA_adj':'BBPPA_ave'})\n",
    "playerLS=player_year.merge(players_mean_rate, on='playerID')"
   ]
  },
  {
   "cell_type": "markdown",
   "metadata": {},
   "source": [
    "Show the head of the `playerLS` DataFrame. "
   ]
  },
  {
   "cell_type": "code",
   "execution_count": 572,
   "metadata": {
    "collapsed": false
   },
   "outputs": [
    {
     "data": {
      "text/html": [
       "<div>\n",
       "<table border=\"1\" class=\"dataframe\">\n",
       "  <thead>\n",
       "    <tr style=\"text-align: right;\">\n",
       "      <th></th>\n",
       "      <th>playerID</th>\n",
       "      <th>yearStarted</th>\n",
       "      <th>yearEnded</th>\n",
       "      <th>singlesPPA_ave</th>\n",
       "      <th>doublesPPA_ave</th>\n",
       "      <th>triplesPPA_ave</th>\n",
       "      <th>HRPPA_ave</th>\n",
       "      <th>BBPPA_ave</th>\n",
       "    </tr>\n",
       "  </thead>\n",
       "  <tbody>\n",
       "    <tr>\n",
       "      <th>0</th>\n",
       "      <td>abreubo01</td>\n",
       "      <td>2001</td>\n",
       "      <td>2005</td>\n",
       "      <td>-0.022295</td>\n",
       "      <td>0.008226</td>\n",
       "      <td>-0.002379</td>\n",
       "      <td>-0.003980</td>\n",
       "      <td>0.054759</td>\n",
       "    </tr>\n",
       "    <tr>\n",
       "      <th>1</th>\n",
       "      <td>allendi01</td>\n",
       "      <td>1964</td>\n",
       "      <td>1964</td>\n",
       "      <td>-0.004268</td>\n",
       "      <td>0.015058</td>\n",
       "      <td>0.010584</td>\n",
       "      <td>0.012612</td>\n",
       "      <td>0.014706</td>\n",
       "    </tr>\n",
       "    <tr>\n",
       "      <th>2</th>\n",
       "      <td>alomasa01</td>\n",
       "      <td>1970</td>\n",
       "      <td>1971</td>\n",
       "      <td>0.011155</td>\n",
       "      <td>-0.008823</td>\n",
       "      <td>-0.002639</td>\n",
       "      <td>-0.012807</td>\n",
       "      <td>-0.030193</td>\n",
       "    </tr>\n",
       "    <tr>\n",
       "      <th>3</th>\n",
       "      <td>alouma01</td>\n",
       "      <td>1969</td>\n",
       "      <td>1969</td>\n",
       "      <td>0.077250</td>\n",
       "      <td>0.015560</td>\n",
       "      <td>0.001520</td>\n",
       "      <td>-0.033637</td>\n",
       "      <td>-0.059120</td>\n",
       "    </tr>\n",
       "    <tr>\n",
       "      <th>4</th>\n",
       "      <td>bagweje01</td>\n",
       "      <td>1992</td>\n",
       "      <td>1999</td>\n",
       "      <td>-0.026592</td>\n",
       "      <td>0.007757</td>\n",
       "      <td>-0.001099</td>\n",
       "      <td>0.012338</td>\n",
       "      <td>0.057971</td>\n",
       "    </tr>\n",
       "  </tbody>\n",
       "</table>\n",
       "</div>"
      ],
      "text/plain": [
       "    playerID  yearStarted  yearEnded  singlesPPA_ave  doublesPPA_ave  \\\n",
       "0  abreubo01         2001       2005       -0.022295        0.008226   \n",
       "1  allendi01         1964       1964       -0.004268        0.015058   \n",
       "2  alomasa01         1970       1971        0.011155       -0.008823   \n",
       "3   alouma01         1969       1969        0.077250        0.015560   \n",
       "4  bagweje01         1992       1999       -0.026592        0.007757   \n",
       "\n",
       "   triplesPPA_ave  HRPPA_ave  BBPPA_ave  \n",
       "0       -0.002379  -0.003980   0.054759  \n",
       "1        0.010584   0.012612   0.014706  \n",
       "2       -0.002639  -0.012807  -0.030193  \n",
       "3        0.001520  -0.033637  -0.059120  \n",
       "4       -0.001099   0.012338   0.057971  "
      ]
     },
     "execution_count": 572,
     "metadata": {},
     "output_type": "execute_result"
    }
   ],
   "source": [
    "### Your code here ###\n",
    "playerLS.head()"
   ]
  },
  {
   "cell_type": "markdown",
   "metadata": {},
   "source": [
    "#### Problem 1(i)\n",
    "\n",
    "Compute the OPW for each player based on the average rates in the `playerLS` DataFrame. You can interpret this summary statistic as the predicted wins for a team with 9 batters exactly like the player in question. Add this column to the playerLS DataFrame. Call this colum OPW."
   ]
  },
  {
   "cell_type": "code",
   "execution_count": 573,
   "metadata": {
    "collapsed": false
   },
   "outputs": [
    {
     "data": {
      "text/html": [
       "<div>\n",
       "<table border=\"1\" class=\"dataframe\">\n",
       "  <thead>\n",
       "    <tr style=\"text-align: right;\">\n",
       "      <th></th>\n",
       "      <th>playerID</th>\n",
       "      <th>yearStarted</th>\n",
       "      <th>yearEnded</th>\n",
       "      <th>singlesPPA_ave</th>\n",
       "      <th>doublesPPA_ave</th>\n",
       "      <th>triplesPPA_ave</th>\n",
       "      <th>HRPPA_ave</th>\n",
       "      <th>BBPPA_ave</th>\n",
       "      <th>OPW</th>\n",
       "    </tr>\n",
       "  </thead>\n",
       "  <tbody>\n",
       "    <tr>\n",
       "      <th>0</th>\n",
       "      <td>abreubo01</td>\n",
       "      <td>2001</td>\n",
       "      <td>2005</td>\n",
       "      <td>-0.022295</td>\n",
       "      <td>0.008226</td>\n",
       "      <td>-0.002379</td>\n",
       "      <td>-0.003980</td>\n",
       "      <td>0.054759</td>\n",
       "      <td>95</td>\n",
       "    </tr>\n",
       "    <tr>\n",
       "      <th>1</th>\n",
       "      <td>allendi01</td>\n",
       "      <td>1964</td>\n",
       "      <td>1964</td>\n",
       "      <td>-0.004268</td>\n",
       "      <td>0.015058</td>\n",
       "      <td>0.010584</td>\n",
       "      <td>0.012612</td>\n",
       "      <td>0.014706</td>\n",
       "      <td>116</td>\n",
       "    </tr>\n",
       "    <tr>\n",
       "      <th>2</th>\n",
       "      <td>alomasa01</td>\n",
       "      <td>1970</td>\n",
       "      <td>1971</td>\n",
       "      <td>0.011155</td>\n",
       "      <td>-0.008823</td>\n",
       "      <td>-0.002639</td>\n",
       "      <td>-0.012807</td>\n",
       "      <td>-0.030193</td>\n",
       "      <td>53</td>\n",
       "    </tr>\n",
       "    <tr>\n",
       "      <th>3</th>\n",
       "      <td>alouma01</td>\n",
       "      <td>1969</td>\n",
       "      <td>1969</td>\n",
       "      <td>0.077250</td>\n",
       "      <td>0.015560</td>\n",
       "      <td>0.001520</td>\n",
       "      <td>-0.033637</td>\n",
       "      <td>-0.059120</td>\n",
       "      <td>73</td>\n",
       "    </tr>\n",
       "    <tr>\n",
       "      <th>4</th>\n",
       "      <td>bagweje01</td>\n",
       "      <td>1992</td>\n",
       "      <td>1999</td>\n",
       "      <td>-0.026592</td>\n",
       "      <td>0.007757</td>\n",
       "      <td>-0.001099</td>\n",
       "      <td>0.012338</td>\n",
       "      <td>0.057971</td>\n",
       "      <td>110</td>\n",
       "    </tr>\n",
       "  </tbody>\n",
       "</table>\n",
       "</div>"
      ],
      "text/plain": [
       "    playerID  yearStarted  yearEnded  singlesPPA_ave  doublesPPA_ave  \\\n",
       "0  abreubo01         2001       2005       -0.022295        0.008226   \n",
       "1  allendi01         1964       1964       -0.004268        0.015058   \n",
       "2  alomasa01         1970       1971        0.011155       -0.008823   \n",
       "3   alouma01         1969       1969        0.077250        0.015560   \n",
       "4  bagweje01         1992       1999       -0.026592        0.007757   \n",
       "\n",
       "   triplesPPA_ave  HRPPA_ave  BBPPA_ave  OPW  \n",
       "0       -0.002379  -0.003980   0.054759   95  \n",
       "1        0.010584   0.012612   0.014706  116  \n",
       "2       -0.002639  -0.012807  -0.030193   53  \n",
       "3        0.001520  -0.033637  -0.059120   73  \n",
       "4       -0.001099   0.012338   0.057971  110  "
      ]
     },
     "execution_count": 573,
     "metadata": {},
     "output_type": "execute_result"
    }
   ],
   "source": [
    "### Your code here ###\n",
    "playerLS['OPW']=regr.predict(playerLS.ix[:,\\\n",
    "                                ['singlesPPA_ave','doublesPPA_ave','triplesPPA_ave','HRPPA_ave','BBPPA_ave']]).round()\n",
    "playerLS.head()"
   ]
  },
  {
   "cell_type": "markdown",
   "metadata": {},
   "source": [
    "#### Problem 1(j)\n",
    "\n",
    "Add four columns to the `playerLS` DataFrame that contains the player's position (C, 1B, 2B, 3B, SS, LF, CF, RF, or OF), first name, last name and median salary. "
   ]
  },
  {
   "cell_type": "code",
   "execution_count": 574,
   "metadata": {
    "collapsed": false
   },
   "outputs": [],
   "source": [
    "### Your code here ###\n",
    "#fielding_filtered = fielding.ix[fielding['yearID']>=1947].ix[fielding['G']>=162]\n",
    "fielding_filtered=fielding\n",
    "#restricting the POS column to positions (C, 1B, 2B, 3B, SS, LF, CF, RF, or OF)#\n",
    "POS_DF = fielding_filtered.ix[fielding_filtered['POS'].isin(['C', '1B', '2B', '3B', 'SS', 'LF', 'CF', 'RF','DH', 'OF'])][['playerID','POS']]\n",
    "playerLS = playerLS.merge(medianSalaries, on='playerID').merge(POS_DF, on='playerID')"
   ]
  },
  {
   "cell_type": "markdown",
   "metadata": {},
   "source": [
    "Show the head of the `playerLS` DataFrame. "
   ]
  },
  {
   "cell_type": "code",
   "execution_count": 575,
   "metadata": {
    "collapsed": false,
    "scrolled": true
   },
   "outputs": [
    {
     "data": {
      "text/html": [
       "<div>\n",
       "<table border=\"1\" class=\"dataframe\">\n",
       "  <thead>\n",
       "    <tr style=\"text-align: right;\">\n",
       "      <th></th>\n",
       "      <th>playerID</th>\n",
       "      <th>yearStarted</th>\n",
       "      <th>yearEnded</th>\n",
       "      <th>singlesPPA_ave</th>\n",
       "      <th>doublesPPA_ave</th>\n",
       "      <th>triplesPPA_ave</th>\n",
       "      <th>HRPPA_ave</th>\n",
       "      <th>BBPPA_ave</th>\n",
       "      <th>OPW</th>\n",
       "      <th>nameGiven</th>\n",
       "      <th>nameLast</th>\n",
       "      <th>salary</th>\n",
       "      <th>POS</th>\n",
       "    </tr>\n",
       "  </thead>\n",
       "  <tbody>\n",
       "    <tr>\n",
       "      <th>0</th>\n",
       "      <td>abreubo01</td>\n",
       "      <td>2001</td>\n",
       "      <td>2005</td>\n",
       "      <td>-0.022295</td>\n",
       "      <td>0.008226</td>\n",
       "      <td>-0.002379</td>\n",
       "      <td>-0.00398</td>\n",
       "      <td>0.054759</td>\n",
       "      <td>95</td>\n",
       "      <td>Bob Kelly</td>\n",
       "      <td>Abreu</td>\n",
       "      <td>9000000</td>\n",
       "      <td>LF</td>\n",
       "    </tr>\n",
       "    <tr>\n",
       "      <th>1</th>\n",
       "      <td>abreubo01</td>\n",
       "      <td>2001</td>\n",
       "      <td>2005</td>\n",
       "      <td>-0.022295</td>\n",
       "      <td>0.008226</td>\n",
       "      <td>-0.002379</td>\n",
       "      <td>-0.00398</td>\n",
       "      <td>0.054759</td>\n",
       "      <td>95</td>\n",
       "      <td>Bob Kelly</td>\n",
       "      <td>Abreu</td>\n",
       "      <td>9000000</td>\n",
       "      <td>OF</td>\n",
       "    </tr>\n",
       "    <tr>\n",
       "      <th>2</th>\n",
       "      <td>abreubo01</td>\n",
       "      <td>2001</td>\n",
       "      <td>2005</td>\n",
       "      <td>-0.022295</td>\n",
       "      <td>0.008226</td>\n",
       "      <td>-0.002379</td>\n",
       "      <td>-0.00398</td>\n",
       "      <td>0.054759</td>\n",
       "      <td>95</td>\n",
       "      <td>Bob Kelly</td>\n",
       "      <td>Abreu</td>\n",
       "      <td>9000000</td>\n",
       "      <td>RF</td>\n",
       "    </tr>\n",
       "    <tr>\n",
       "      <th>3</th>\n",
       "      <td>abreubo01</td>\n",
       "      <td>2001</td>\n",
       "      <td>2005</td>\n",
       "      <td>-0.022295</td>\n",
       "      <td>0.008226</td>\n",
       "      <td>-0.002379</td>\n",
       "      <td>-0.00398</td>\n",
       "      <td>0.054759</td>\n",
       "      <td>95</td>\n",
       "      <td>Bob Kelly</td>\n",
       "      <td>Abreu</td>\n",
       "      <td>9000000</td>\n",
       "      <td>CF</td>\n",
       "    </tr>\n",
       "    <tr>\n",
       "      <th>4</th>\n",
       "      <td>abreubo01</td>\n",
       "      <td>2001</td>\n",
       "      <td>2005</td>\n",
       "      <td>-0.022295</td>\n",
       "      <td>0.008226</td>\n",
       "      <td>-0.002379</td>\n",
       "      <td>-0.00398</td>\n",
       "      <td>0.054759</td>\n",
       "      <td>95</td>\n",
       "      <td>Bob Kelly</td>\n",
       "      <td>Abreu</td>\n",
       "      <td>9000000</td>\n",
       "      <td>LF</td>\n",
       "    </tr>\n",
       "  </tbody>\n",
       "</table>\n",
       "</div>"
      ],
      "text/plain": [
       "    playerID  yearStarted  yearEnded  singlesPPA_ave  doublesPPA_ave  \\\n",
       "0  abreubo01         2001       2005       -0.022295        0.008226   \n",
       "1  abreubo01         2001       2005       -0.022295        0.008226   \n",
       "2  abreubo01         2001       2005       -0.022295        0.008226   \n",
       "3  abreubo01         2001       2005       -0.022295        0.008226   \n",
       "4  abreubo01         2001       2005       -0.022295        0.008226   \n",
       "\n",
       "   triplesPPA_ave  HRPPA_ave  BBPPA_ave  OPW  nameGiven nameLast   salary POS  \n",
       "0       -0.002379   -0.00398   0.054759   95  Bob Kelly    Abreu  9000000  LF  \n",
       "1       -0.002379   -0.00398   0.054759   95  Bob Kelly    Abreu  9000000  OF  \n",
       "2       -0.002379   -0.00398   0.054759   95  Bob Kelly    Abreu  9000000  RF  \n",
       "3       -0.002379   -0.00398   0.054759   95  Bob Kelly    Abreu  9000000  CF  \n",
       "4       -0.002379   -0.00398   0.054759   95  Bob Kelly    Abreu  9000000  LF  "
      ]
     },
     "execution_count": 575,
     "metadata": {},
     "output_type": "execute_result"
    }
   ],
   "source": [
    "### Your code here ###\n",
    "playerLS.head()"
   ]
  },
  {
   "cell_type": "markdown",
   "metadata": {},
   "source": [
    "#### Problem 1(k)\n",
    "\n",
    "Subset the `playerLS` DataFrame for players active in 2002 and 2003 and played at least three years. Plot and describe the relationship bewteen the median salary (in millions) and the predicted number of wins. "
   ]
  },
  {
   "cell_type": "code",
   "execution_count": 577,
   "metadata": {
    "collapsed": false
   },
   "outputs": [
    {
     "data": {
      "text/html": [
       "<div>\n",
       "<table border=\"1\" class=\"dataframe\">\n",
       "  <thead>\n",
       "    <tr style=\"text-align: right;\">\n",
       "      <th></th>\n",
       "      <th>playerID</th>\n",
       "      <th>yearStarted</th>\n",
       "      <th>yearEnded</th>\n",
       "      <th>singlesPPA_ave</th>\n",
       "      <th>doublesPPA_ave</th>\n",
       "      <th>triplesPPA_ave</th>\n",
       "      <th>HRPPA_ave</th>\n",
       "      <th>BBPPA_ave</th>\n",
       "      <th>OPW</th>\n",
       "      <th>nameGiven</th>\n",
       "      <th>nameLast</th>\n",
       "      <th>salary</th>\n",
       "    </tr>\n",
       "  </thead>\n",
       "  <tbody>\n",
       "    <tr>\n",
       "      <th>4920</th>\n",
       "      <td>tejadmi01</td>\n",
       "      <td>2001</td>\n",
       "      <td>2006</td>\n",
       "      <td>0.011184</td>\n",
       "      <td>0.003086</td>\n",
       "      <td>-0.003607</td>\n",
       "      <td>0.004192</td>\n",
       "      <td>-0.027989</td>\n",
       "      <td>74</td>\n",
       "      <td>Miguel Odalis</td>\n",
       "      <td>Tejada</td>\n",
       "      <td>5062500</td>\n",
       "    </tr>\n",
       "    <tr>\n",
       "      <th>0</th>\n",
       "      <td>abreubo01</td>\n",
       "      <td>2001</td>\n",
       "      <td>2005</td>\n",
       "      <td>-0.022295</td>\n",
       "      <td>0.008226</td>\n",
       "      <td>-0.002379</td>\n",
       "      <td>-0.003980</td>\n",
       "      <td>0.054759</td>\n",
       "      <td>95</td>\n",
       "      <td>Bob Kelly</td>\n",
       "      <td>Abreu</td>\n",
       "      <td>9000000</td>\n",
       "    </tr>\n",
       "    <tr>\n",
       "      <th>4135</th>\n",
       "      <td>rodrial01</td>\n",
       "      <td>2001</td>\n",
       "      <td>2005</td>\n",
       "      <td>0.001807</td>\n",
       "      <td>-0.009283</td>\n",
       "      <td>-0.003888</td>\n",
       "      <td>0.030119</td>\n",
       "      <td>0.017702</td>\n",
       "      <td>108</td>\n",
       "      <td>Alexander Emmanuel</td>\n",
       "      <td>Rodriguez</td>\n",
       "      <td>22000000</td>\n",
       "    </tr>\n",
       "  </tbody>\n",
       "</table>\n",
       "</div>"
      ],
      "text/plain": [
       "       playerID  yearStarted  yearEnded  singlesPPA_ave  doublesPPA_ave  \\\n",
       "4920  tejadmi01         2001       2006        0.011184        0.003086   \n",
       "0     abreubo01         2001       2005       -0.022295        0.008226   \n",
       "4135  rodrial01         2001       2005        0.001807       -0.009283   \n",
       "\n",
       "      triplesPPA_ave  HRPPA_ave  BBPPA_ave  OPW           nameGiven  \\\n",
       "4920       -0.003607   0.004192  -0.027989   74       Miguel Odalis   \n",
       "0          -0.002379  -0.003980   0.054759   95           Bob Kelly   \n",
       "4135       -0.003888   0.030119   0.017702  108  Alexander Emmanuel   \n",
       "\n",
       "       nameLast    salary  \n",
       "4920     Tejada   5062500  \n",
       "0         Abreu   9000000  \n",
       "4135  Rodriguez  22000000  "
      ]
     },
     "execution_count": 577,
     "metadata": {},
     "output_type": "execute_result"
    }
   ],
   "source": [
    "### Your code here ###\n",
    "playerLS_subset=playerLS.ix[playerLS['yearStarted']<=2002].ix[playerLS['yearEnded']>=2003].ix[playerLS['yearEnded']\\\n",
    "                                                                                    -playerLS['yearStarted']>=3]\n",
    "playerLS_subset_no_dup=playerLS_subset.drop('POS',1).drop_duplicates().sort('OPW')\n",
    "playerLS_subset_no_dup"
   ]
  },
  {
   "cell_type": "code",
   "execution_count": 578,
   "metadata": {
    "collapsed": false
   },
   "outputs": [
    {
     "data": {
      "text/plain": [
       "<matplotlib.text.Text at 0x11292f590>"
      ]
     },
     "execution_count": 578,
     "metadata": {},
     "output_type": "execute_result"
    },
    {
     "data": {
      "image/png": "[encoded data removed]",
      "text/plain": [
       "<matplotlib.figure.Figure at 0x11bb37510>"
      ]
     },
     "metadata": {},
     "output_type": "display_data"
    }
   ],
   "source": [
    "plt.plot(playerLS_subset_no_dup['salary']/1000000,playerLS_subset_no_dup['OPW'])\n",
    "plt.xlabel('Salary in Million')\n",
    "plt.ylabel('OPW')"
   ]
  },
  {
   "cell_type": "markdown",
   "metadata": {},
   "source": [
    "The higher the salary the higher the number of predicted wins"
   ]
  },
  {
   "cell_type": "markdown",
   "metadata": {},
   "source": [
    "#### Problem 1(l)\n",
    "Pick one players from one of each of these 10 position C, 1B, 2B, 3B, SS, LF, CF, RF, DH, or OF keeping the total median salary of all 10 players below 20 million. Report their averaged predicted wins and total salary."
   ]
  },
  {
   "cell_type": "code",
   "execution_count": 599,
   "metadata": {
    "collapsed": false
   },
   "outputs": [
    {
     "name": "stdout",
     "output_type": "stream",
     "text": [
      "Total Salary of dream team is :  18299395.5\n",
      "Total OPW of dream team is :  980.0\n"
     ]
    }
   ],
   "source": [
    "### Your code here ###\n",
    "POS=['C', '1B', '2B', '3B', 'SS', 'LF', 'CF', 'RF', 'DH', 'OF']\n",
    "dream_team={}\n",
    "for pos in POS:\n",
    "    dream_team[pos]=playerLS.ix[playerLS['POS']==pos].dropna().sort('OPW', ascending=False).drop_duplicates().reset_index()\\\n",
    "                                    [['playerID','OPW','salary']].ix[0]\n",
    "salary_sum=sum([player['salary'] for player in dream_team.values()])\n",
    "i=1\n",
    "while (salary_sum>20000000):\n",
    "    for pos in POS:\n",
    "        dream_team[pos]=playerLS.ix[playerLS['POS']==pos].dropna().sort('OPW', ascending=False).drop_duplicates()\\\n",
    "                                                .reset_index()[['playerID','OPW','salary']].ix[i]\n",
    "        salary_sum=sum([player['salary'] for player in dream_team.values()])\n",
    "        if (salary_sum<=20000000):\n",
    "            break\n",
    "\n",
    "    i+=1\n",
    "print \"Total Salary of dream team is : \" ,sum([player['salary'] for player in dream_team.values()])\n",
    "print \"Total OPW of dream team is : \" ,sum([player['OPW'] for player in dream_team.values()])"
   ]
  },
  {
   "cell_type": "markdown",
   "metadata": {},
   "source": [
    "#### Problem 1(m)\n",
    "What do these players outperform in? Singles, doubles, triples HR or BB?"
   ]
  },
  {
   "cell_type": "code",
   "execution_count": 689,
   "metadata": {
    "collapsed": false
   },
   "outputs": [
    {
     "data": {
      "image/png": "[encoded data removed]",
      "text/plain": [
       "<matplotlib.figure.Figure at 0x11f4c8fd0>"
      ]
     },
     "metadata": {},
     "output_type": "display_data"
    }
   ],
   "source": [
    "colors=['r','b','g','k','brown']\n",
    "i=0\n",
    "for rate in ['singlesPPA_ave','doublesPPA_ave','triplesPPA_ave','HRPPA_ave','BBPPA_ave']:\n",
    "    dearm_player=playerLS.ix[playerLS['playerID'].isin([player['playerID'] for player in dream_team.values()])]\\\n",
    "             .drop_duplicates().reset_index()\n",
    "    plt.scatter(dearm_player.index, dearm_player[rate], c=colors[i], label=rate)\n",
    "    plt.legend()\n",
    "    i+=1"
   ]
  },
  {
   "cell_type": "markdown",
   "metadata": {},
   "source": [
    "** Your answer here: **"
   ]
  },
  {
   "cell_type": "markdown",
   "metadata": {},
   "source": [
    "### The players of the dream team outperform in BB"
   ]
  },
  {
   "cell_type": "markdown",
   "metadata": {},
   "source": [
    "### Use one of the classification methods to predict whether a player will be an Allstar?"
   ]
  },
  {
   "cell_type": "code",
   "execution_count": 695,
   "metadata": {
    "collapsed": false
   },
   "outputs": [
    {
     "data": {
      "text/html": [
       "<div>\n",
       "<table border=\"1\" class=\"dataframe\">\n",
       "  <thead>\n",
       "    <tr style=\"text-align: right;\">\n",
       "      <th></th>\n",
       "      <th>playerID</th>\n",
       "      <th>yearID</th>\n",
       "      <th>gameNum</th>\n",
       "      <th>gameID</th>\n",
       "      <th>teamID</th>\n",
       "      <th>lgID</th>\n",
       "      <th>GP</th>\n",
       "      <th>startingPos</th>\n",
       "    </tr>\n",
       "  </thead>\n",
       "  <tbody>\n",
       "    <tr>\n",
       "      <th>0</th>\n",
       "      <td>gomezle01</td>\n",
       "      <td>1933</td>\n",
       "      <td>0</td>\n",
       "      <td>ALS193307060</td>\n",
       "      <td>NYA</td>\n",
       "      <td>AL</td>\n",
       "      <td>1</td>\n",
       "      <td>1</td>\n",
       "    </tr>\n",
       "    <tr>\n",
       "      <th>1</th>\n",
       "      <td>ferreri01</td>\n",
       "      <td>1933</td>\n",
       "      <td>0</td>\n",
       "      <td>ALS193307060</td>\n",
       "      <td>BOS</td>\n",
       "      <td>AL</td>\n",
       "      <td>1</td>\n",
       "      <td>2</td>\n",
       "    </tr>\n",
       "    <tr>\n",
       "      <th>2</th>\n",
       "      <td>gehrilo01</td>\n",
       "      <td>1933</td>\n",
       "      <td>0</td>\n",
       "      <td>ALS193307060</td>\n",
       "      <td>NYA</td>\n",
       "      <td>AL</td>\n",
       "      <td>1</td>\n",
       "      <td>3</td>\n",
       "    </tr>\n",
       "    <tr>\n",
       "      <th>3</th>\n",
       "      <td>gehrich01</td>\n",
       "      <td>1933</td>\n",
       "      <td>0</td>\n",
       "      <td>ALS193307060</td>\n",
       "      <td>DET</td>\n",
       "      <td>AL</td>\n",
       "      <td>1</td>\n",
       "      <td>4</td>\n",
       "    </tr>\n",
       "    <tr>\n",
       "      <th>4</th>\n",
       "      <td>dykesji01</td>\n",
       "      <td>1933</td>\n",
       "      <td>0</td>\n",
       "      <td>ALS193307060</td>\n",
       "      <td>CHA</td>\n",
       "      <td>AL</td>\n",
       "      <td>1</td>\n",
       "      <td>5</td>\n",
       "    </tr>\n",
       "  </tbody>\n",
       "</table>\n",
       "</div>"
      ],
      "text/plain": [
       "    playerID  yearID  gameNum        gameID teamID lgID  GP  startingPos\n",
       "0  gomezle01    1933        0  ALS193307060    NYA   AL   1            1\n",
       "1  ferreri01    1933        0  ALS193307060    BOS   AL   1            2\n",
       "2  gehrilo01    1933        0  ALS193307060    NYA   AL   1            3\n",
       "3  gehrich01    1933        0  ALS193307060    DET   AL   1            4\n",
       "4  dykesji01    1933        0  ALS193307060    CHA   AL   1            5"
      ]
     },
     "execution_count": 695,
     "metadata": {},
     "output_type": "execute_result"
    }
   ],
   "source": [
    "### Your code here ###\n",
    "allstar=pd.read_csv('../lahman-csv_2014-02-14/AllstarFull.csv')\n",
    "allstar.head()"
   ]
  },
  {
   "cell_type": "code",
   "execution_count": 714,
   "metadata": {
    "collapsed": false
   },
   "outputs": [],
   "source": [
    "playerLS_all_star=playerLS.merge(allstar[['playerID','GP']], on='playerID', how='inner').drop(['playerID','nameGiven','nameLast'],1)\n",
    "\n",
    "from sklearn import preprocessing\n",
    "real_or_str=playerLS_all_star.applymap(np.isreal).all(0)\n",
    "non_num_feature=real_or_str[~real_or_str].keys()\n",
    "le = preprocessing.LabelEncoder()\n",
    "for col in non_num_feature:\n",
    "    #3- transform the non-numeric columns to numeric values using \n",
    "    #LabelEncoder method from SKLearn#\n",
    "    playerLS_all_star[col]=le.fit_transform(playerLS_all_star[col])\n",
    "\n",
    "playerLS_all_star=playerLS_all_star.fillna(playerLS_all_star.mean())"
   ]
  },
  {
   "cell_type": "code",
   "execution_count": 730,
   "metadata": {
    "collapsed": false
   },
   "outputs": [
    {
     "name": "stdout",
     "output_type": "stream",
     "text": [
      "The score of the randome forrest classifier (to predict all star player) on the test set is: 0.903181189488\n"
     ]
    }
   ],
   "source": [
    "X_features=playerLS_all_star.ix[:,:-1]\n",
    "y_target=playerLS_all_star['GP'].astype(int)\n",
    "\n",
    "X_train, X_test, y_train, y_test = train_test_split(X_features, y_target, test_size=0.2, random_state=42)\n",
    "\n",
    "clf = RandomForestClassifier(n_estimators=25)\n",
    "clf.fit(X_train, y_train)\n",
    "\n",
    "print \"The score of the randome forrest classifier (to predict all star player) on the test set is:\" ,clf.score(X_test,y_test)"
   ]
  },
  {
   "cell_type": "markdown",
   "metadata": {},
   "source": [
    "## Discussion for Problem 1\n",
    "\n",
    "*Write a brief discussion of your conclusions to the questions and tasks above in 100 words or less.*\n",
    "\n",
    "---"
   ]
  },
  {
   "cell_type": "markdown",
   "metadata": {},
   "source": [
    "# Problem 2:  $k$-Nearest Neighbors and Cross Validation \n",
    "\n",
    "What is the optimal $k$ for predicting species using $k$-nearest neighbor classification \n",
    "on the four features provided by the iris dataset.\n",
    "\n",
    "In this problem you will get to know the famous iris data set, and use cross validation to select the optimal $k$ for a $k$-nearest neighbor classification. This problem set makes heavy use of the [sklearn](http://scikit-learn.org/stable/) library. In addition to Pandas, it is one of the most useful libraries for data scientists. \n",
    "For the Iris data set  sklearn provides an extra function to load it - since it is one of the very commonly used data sets."
   ]
  },
  {
   "cell_type": "code",
   "execution_count": 372,
   "metadata": {
    "collapsed": false
   },
   "outputs": [],
   "source": [
    "#load the iris data set\n",
    "from sklearn import datasets\n",
    "iris = datasets.load_iris()\n",
    "iris_features = iris.data\n",
    "iris_target = iris.target"
   ]
  },
  {
   "cell_type": "markdown",
   "metadata": {},
   "source": [
    "#### Problem 2(a) \n",
    "Split the data into a train and a test set. Use a random selection of 33% of the samples as test data. Sklearn provides the [`train_test_split`](http://scikit-learn.org/stable/modules/generated/sklearn.cross_validation.train_test_split.html) function for this purpose. Print the dimensions of all the train and test data sets you have created. "
   ]
  },
  {
   "cell_type": "code",
   "execution_count": 445,
   "metadata": {
    "collapsed": false
   },
   "outputs": [
    {
     "name": "stdout",
     "output_type": "stream",
     "text": [
      "size of train set (features) is:  (100, 4)\n",
      "size of train set (targets) is:  (100,)\n",
      "size of test set (features) is:  (50, 4)\n",
      "size of test set (targets) is:  (50,)\n"
     ]
    }
   ],
   "source": [
    "### Your code here ###\n",
    "from sklearn.cross_validation import train_test_split\n",
    "X_train, X_test, y_train, y_test = train_test_split(iris_features, iris_target, test_size=0.33, random_state=33)\n",
    "print \"size of train set (features) is: \", X_train.shape\n",
    "print \"size of train set (targets) is: \", y_train.shape\n",
    "print \"size of test set (features) is: \", X_test.shape\n",
    "print \"size of test set (targets) is: \", y_test.shape"
   ]
  },
  {
   "cell_type": "markdown",
   "metadata": {},
   "source": [
    "#### Problem 2(b) \n",
    "\n",
    " Use ***ten fold cross validation*** to estimate the optimal value for $k$ for the iris data set. \n",
    "\n",
    "**Note**: For your convenience sklearn does not only include the [KNN classifier](http://scikit-learn.org/stable/modules/generated/sklearn.neighbors.KNeighborsClassifier.html), but also a [grid search function](http://scikit-learn.org/stable/modules/generated/sklearn.grid_search.GridSearchCV.html#sklearn.grid_search.GridSearchCV). The function is called grid search, because if you have to optimize more than one parameter, it is common practice to define a range of possible values for each parameter. An exhaustive search then runs over the complete grid defined by all the possible parameter combinations. This can get very computation heavy, but luckily our KNN classifier only requires tuning of a single parameter for this problem set. "
   ]
  },
  {
   "cell_type": "code",
   "execution_count": 446,
   "metadata": {
    "collapsed": false
   },
   "outputs": [
    {
     "data": {
      "text/plain": [
       "{'n_neighbors': 7}"
      ]
     },
     "execution_count": 446,
     "metadata": {},
     "output_type": "execute_result"
    }
   ],
   "source": [
    "### Your code here ###\n",
    "from sklearn.neighbors import KNeighborsClassifier\n",
    "from sklearn import grid_search\n",
    "parameters = {'n_neighbors':range(1,21)}\n",
    "neigh = KNeighborsClassifier()\n",
    "clf = grid_search.GridSearchCV(neigh, parameters, cv=10)\n",
    "clf.fit(X_train, y_train)\n",
    "clf.best_params_"
   ]
  },
  {
   "cell_type": "markdown",
   "metadata": {},
   "source": [
    "#### Problem 2(c)\n",
    "\n",
    "Visualize the result by plotting the score results versus values for $k$. "
   ]
  },
  {
   "cell_type": "code",
   "execution_count": 447,
   "metadata": {
    "collapsed": false
   },
   "outputs": [
    {
     "data": {
      "text/plain": [
       "[<matplotlib.lines.Line2D at 0x11b7371d0>]"
      ]
     },
     "execution_count": 447,
     "metadata": {},
     "output_type": "execute_result"
    },
    {
     "data": {
      "image/png": "[encoded data removed]",
      "text/plain": [
       "<matplotlib.figure.Figure at 0x11b60cb90>"
      ]
     },
     "metadata": {},
     "output_type": "display_data"
    }
   ],
   "source": [
    "### Your code here ###\n",
    "plt.plot(range(1,21),[scores[1] for scores in clf.grid_scores_])"
   ]
  },
  {
   "cell_type": "markdown",
   "metadata": {},
   "source": [
    "Verify that the grid search has indeed chosen the right parameter value for $k$."
   ]
  },
  {
   "cell_type": "code",
   "execution_count": 448,
   "metadata": {
    "collapsed": false
   },
   "outputs": [
    {
     "data": {
      "text/plain": [
       "[<matplotlib.lines.Line2D at 0x11b89f750>]"
      ]
     },
     "execution_count": 448,
     "metadata": {},
     "output_type": "execute_result"
    },
    {
     "data": {
      "image/png": "[encoded data removed]",
      "text/plain": [
       "<matplotlib.figure.Figure at 0x11b46da90>"
      ]
     },
     "metadata": {},
     "output_type": "display_data"
    }
   ],
   "source": [
    "### Your code here ###\n",
    "from sklearn import cross_validation\n",
    "knn_score=[]\n",
    "for i in range(1,21):\n",
    "    neigh = KNeighborsClassifier(n_neighbors=i)\n",
    "    knn_score.append(np.mean(cross_validation.cross_val_score(neigh, X_train, y_train, cv=10)))\n",
    "    \n",
    "plt.plot(range(1,21),knn_score)"
   ]
  },
  {
   "cell_type": "markdown",
   "metadata": {},
   "source": [
    "#### Problem 2(d)\n",
    "\n",
    "Test the performance of our tuned KNN classifier on the test set."
   ]
  },
  {
   "cell_type": "code",
   "execution_count": 449,
   "metadata": {
    "collapsed": false
   },
   "outputs": [
    {
     "name": "stdout",
     "output_type": "stream",
     "text": [
      "The score of the tuned KNN on the test set is: 0.98\n"
     ]
    }
   ],
   "source": [
    "### Your code here ###\n",
    "neigh = KNeighborsClassifier(n_neighbors=clf.best_params_['n_neighbors'])\n",
    "clf.fit(X_train, y_train)\n",
    "print \"The score of the tuned KNN on the test set is:\" ,clf.score(X_test,y_test)"
   ]
  },
  {
   "cell_type": "markdown",
   "metadata": {},
   "source": [
    "## Discussion for Problem 2\n",
    "\n",
    "*Write a brief discussion of your conclusions to the questions and tasks above in 100 words or less.*\n",
    "\n",
    "---"
   ]
  },
  {
   "cell_type": "markdown",
   "metadata": {},
   "source": [
    "## Problem 3: Supervised Learning - Estimating Auto pricing using Linear Regression and Regression Trees"
   ]
  },
  {
   "cell_type": "markdown",
   "metadata": {},
   "source": [
    "##### Download the UCI ML automobile dataset. (https://archive.ics.uci.edu/ml/datasets/Automobile)"
   ]
  },
  {
   "cell_type": "code",
   "execution_count": 122,
   "metadata": {
    "collapsed": false
   },
   "outputs": [
    {
     "name": "stdout",
     "output_type": "stream",
     "text": [
      "  % Total    % Received % Xferd  Average Speed   Time    Time     Time  Current\n",
      "                                 Dload  Upload   Total   Spent    Left  Speed\n",
      "100 25936  100 25936    0     0   101k      0 --:--:-- --:--:-- --:--:--  101k\n",
      "  % Total    % Received % Xferd  Average Speed   Time    Time     Time  Current\n",
      "                                 Dload  Upload   Total   Spent    Left  Speed\n",
      "100  4747  100  4747    0     0  19556      0 --:--:-- --:--:-- --:--:-- 19534\n",
      "  % Total    % Received % Xferd  Average Speed   Time    Time     Time  Current\n",
      "                                 Dload  Upload   Total   Spent    Left  Speed\n",
      "100  3757  100  3757    0     0  23061      0 --:--:-- --:--:-- --:--:-- 23191\n"
     ]
    }
   ],
   "source": [
    "### Your code here ###\n",
    "#!mkdir ../autos\n",
    "!curl  -o \"../autos/imports-85.data\" https://archive.ics.uci.edu/ml/machine-learning-databases/autos/imports-85.data\n",
    "!curl  -o \"../autos/imports-85.names\" https://archive.ics.uci.edu/ml/machine-learning-databases/autos/imports-85.names\n",
    "!curl  -o \"../autos/misc\" https://archive.ics.uci.edu/ml/machine-learning-databases/autos/misc"
   ]
  },
  {
   "cell_type": "markdown",
   "metadata": {},
   "source": [
    "#### Find the mostimportant features"
   ]
  },
  {
   "cell_type": "code",
   "execution_count": 463,
   "metadata": {
    "collapsed": false
   },
   "outputs": [
    {
     "data": {
      "text/html": [
       "<div>\n",
       "<table border=\"1\" class=\"dataframe\">\n",
       "  <thead>\n",
       "    <tr style=\"text-align: right;\">\n",
       "      <th></th>\n",
       "      <th>symboling</th>\n",
       "      <th>normalized-losses</th>\n",
       "      <th>make</th>\n",
       "      <th>fuel-type</th>\n",
       "      <th>aspiration</th>\n",
       "      <th>num-of-doors</th>\n",
       "      <th>body-style</th>\n",
       "      <th>drive-wheels</th>\n",
       "      <th>engine-location</th>\n",
       "      <th>wheel-base</th>\n",
       "      <th>...</th>\n",
       "      <th>engine-size</th>\n",
       "      <th>fuel-system</th>\n",
       "      <th>bore</th>\n",
       "      <th>stroke</th>\n",
       "      <th>compression-ratio</th>\n",
       "      <th>horsepower</th>\n",
       "      <th>peak-rpm</th>\n",
       "      <th>city-mpg</th>\n",
       "      <th>highway-mpg</th>\n",
       "      <th>price</th>\n",
       "    </tr>\n",
       "  </thead>\n",
       "  <tbody>\n",
       "    <tr>\n",
       "      <th>0</th>\n",
       "      <td>3</td>\n",
       "      <td>NaN</td>\n",
       "      <td>alfa-romero</td>\n",
       "      <td>gas</td>\n",
       "      <td>std</td>\n",
       "      <td>two</td>\n",
       "      <td>convertible</td>\n",
       "      <td>rwd</td>\n",
       "      <td>front</td>\n",
       "      <td>88.6</td>\n",
       "      <td>...</td>\n",
       "      <td>130</td>\n",
       "      <td>mpfi</td>\n",
       "      <td>3.47</td>\n",
       "      <td>2.68</td>\n",
       "      <td>9</td>\n",
       "      <td>111</td>\n",
       "      <td>5000</td>\n",
       "      <td>21</td>\n",
       "      <td>27</td>\n",
       "      <td>13495</td>\n",
       "    </tr>\n",
       "    <tr>\n",
       "      <th>1</th>\n",
       "      <td>3</td>\n",
       "      <td>NaN</td>\n",
       "      <td>alfa-romero</td>\n",
       "      <td>gas</td>\n",
       "      <td>std</td>\n",
       "      <td>two</td>\n",
       "      <td>convertible</td>\n",
       "      <td>rwd</td>\n",
       "      <td>front</td>\n",
       "      <td>88.6</td>\n",
       "      <td>...</td>\n",
       "      <td>130</td>\n",
       "      <td>mpfi</td>\n",
       "      <td>3.47</td>\n",
       "      <td>2.68</td>\n",
       "      <td>9</td>\n",
       "      <td>111</td>\n",
       "      <td>5000</td>\n",
       "      <td>21</td>\n",
       "      <td>27</td>\n",
       "      <td>16500</td>\n",
       "    </tr>\n",
       "    <tr>\n",
       "      <th>2</th>\n",
       "      <td>1</td>\n",
       "      <td>NaN</td>\n",
       "      <td>alfa-romero</td>\n",
       "      <td>gas</td>\n",
       "      <td>std</td>\n",
       "      <td>two</td>\n",
       "      <td>hatchback</td>\n",
       "      <td>rwd</td>\n",
       "      <td>front</td>\n",
       "      <td>94.5</td>\n",
       "      <td>...</td>\n",
       "      <td>152</td>\n",
       "      <td>mpfi</td>\n",
       "      <td>2.68</td>\n",
       "      <td>3.47</td>\n",
       "      <td>9</td>\n",
       "      <td>154</td>\n",
       "      <td>5000</td>\n",
       "      <td>19</td>\n",
       "      <td>26</td>\n",
       "      <td>16500</td>\n",
       "    </tr>\n",
       "    <tr>\n",
       "      <th>3</th>\n",
       "      <td>2</td>\n",
       "      <td>164</td>\n",
       "      <td>audi</td>\n",
       "      <td>gas</td>\n",
       "      <td>std</td>\n",
       "      <td>four</td>\n",
       "      <td>sedan</td>\n",
       "      <td>fwd</td>\n",
       "      <td>front</td>\n",
       "      <td>99.8</td>\n",
       "      <td>...</td>\n",
       "      <td>109</td>\n",
       "      <td>mpfi</td>\n",
       "      <td>3.19</td>\n",
       "      <td>3.40</td>\n",
       "      <td>10</td>\n",
       "      <td>102</td>\n",
       "      <td>5500</td>\n",
       "      <td>24</td>\n",
       "      <td>30</td>\n",
       "      <td>13950</td>\n",
       "    </tr>\n",
       "    <tr>\n",
       "      <th>4</th>\n",
       "      <td>2</td>\n",
       "      <td>164</td>\n",
       "      <td>audi</td>\n",
       "      <td>gas</td>\n",
       "      <td>std</td>\n",
       "      <td>four</td>\n",
       "      <td>sedan</td>\n",
       "      <td>4wd</td>\n",
       "      <td>front</td>\n",
       "      <td>99.4</td>\n",
       "      <td>...</td>\n",
       "      <td>136</td>\n",
       "      <td>mpfi</td>\n",
       "      <td>3.19</td>\n",
       "      <td>3.40</td>\n",
       "      <td>8</td>\n",
       "      <td>115</td>\n",
       "      <td>5500</td>\n",
       "      <td>18</td>\n",
       "      <td>22</td>\n",
       "      <td>17450</td>\n",
       "    </tr>\n",
       "  </tbody>\n",
       "</table>\n",
       "<p>5 rows × 26 columns</p>\n",
       "</div>"
      ],
      "text/plain": [
       "   symboling normalized-losses         make fuel-type aspiration num-of-doors  \\\n",
       "0          3               NaN  alfa-romero       gas        std          two   \n",
       "1          3               NaN  alfa-romero       gas        std          two   \n",
       "2          1               NaN  alfa-romero       gas        std          two   \n",
       "3          2               164         audi       gas        std         four   \n",
       "4          2               164         audi       gas        std         four   \n",
       "\n",
       "    body-style drive-wheels engine-location  wheel-base  ...    engine-size  \\\n",
       "0  convertible          rwd           front        88.6  ...            130   \n",
       "1  convertible          rwd           front        88.6  ...            130   \n",
       "2    hatchback          rwd           front        94.5  ...            152   \n",
       "3        sedan          fwd           front        99.8  ...            109   \n",
       "4        sedan          4wd           front        99.4  ...            136   \n",
       "\n",
       "   fuel-system  bore  stroke compression-ratio horsepower  peak-rpm city-mpg  \\\n",
       "0         mpfi  3.47    2.68                 9        111      5000       21   \n",
       "1         mpfi  3.47    2.68                 9        111      5000       21   \n",
       "2         mpfi  2.68    3.47                 9        154      5000       19   \n",
       "3         mpfi  3.19    3.40                10        102      5500       24   \n",
       "4         mpfi  3.19    3.40                 8        115      5500       18   \n",
       "\n",
       "  highway-mpg  price  \n",
       "0          27  13495  \n",
       "1          27  16500  \n",
       "2          26  16500  \n",
       "3          30  13950  \n",
       "4          22  17450  \n",
       "\n",
       "[5 rows x 26 columns]"
      ]
     },
     "execution_count": 463,
     "metadata": {},
     "output_type": "execute_result"
    }
   ],
   "source": [
    "### Your code here ###\n",
    "attr_names= ['symboling',\n",
    " 'normalized-losses',\n",
    " 'make',\n",
    " 'fuel-type',\n",
    " 'aspiration',\n",
    " 'num-of-doors',\n",
    " 'body-style',\n",
    " 'drive-wheels',\n",
    " 'engine-location',\n",
    " 'wheel-base',\n",
    " 'length',\n",
    " 'width',\n",
    " 'height',\n",
    " 'curb-weight',\n",
    " 'engine-type',\n",
    " 'num-of-cylinders',\n",
    " 'engine-size',\n",
    " 'fuel-system',\n",
    " 'bore',\n",
    " 'stroke',\n",
    " 'compression-ratio',\n",
    " 'horsepower',\n",
    " 'peak-rpm',\n",
    " 'city-mpg',\n",
    " 'highway-mpg',\n",
    " 'price']\n",
    "\n",
    "cars_DF = pd.read_csv(\"../autos/imports-85.data\", names=attr_names).replace(to_replace='?', value=np.nan)\n",
    "cars_DF.head()"
   ]
  },
  {
   "cell_type": "code",
   "execution_count": 614,
   "metadata": {
    "collapsed": false
   },
   "outputs": [],
   "source": [
    "from sklearn import preprocessing\n",
    "real_or_str=cars_DF.applymap(np.isreal).all(0)\n",
    "non_num_feature=real_or_str[~real_or_str].keys()\n",
    "le = preprocessing.LabelEncoder()\n",
    "for col in non_num_feature:\n",
    "    #2- fill the NaN in non-numeric columns with the most used element#\n",
    "    cars_DF[col].fillna(cars_DF[col].describe().top, inplace=True)\n",
    "    #3- transform the non-numeric columns to numeric values using \n",
    "    #LabelEncoder method from SKLearn#\n",
    "    cars_DF[col]=le.fit_transform(cars_DF[col])"
   ]
  },
  {
   "cell_type": "code",
   "execution_count": 736,
   "metadata": {
    "collapsed": false
   },
   "outputs": [
    {
     "data": {
      "text/plain": [
       "RandomForestClassifier(bootstrap=True, class_weight=None, criterion='gini',\n",
       "            max_depth=None, max_features='auto', max_leaf_nodes=None,\n",
       "            min_samples_leaf=1, min_samples_split=2,\n",
       "            min_weight_fraction_leaf=0.0, n_estimators=25, n_jobs=1,\n",
       "            oob_score=False, random_state=None, verbose=0,\n",
       "            warm_start=False)"
      ]
     },
     "execution_count": 736,
     "metadata": {},
     "output_type": "execute_result"
    },
    {
     "name": "stdout",
     "output_type": "stream",
     "text": [
      "\n"
     ]
    }
   ],
   "source": [
    "from sklearn.ensemble import RandomForestClassifier, ExtraTreesClassifier\n",
    "X_features=cars_DF.ix[:,:-1]\n",
    "y_target=cars_DF['price']\n",
    "clf = RandomForestClassifier(n_estimators=25)\n",
    "clf.fit(X_features, y_target)"
   ]
  },
  {
   "cell_type": "code",
   "execution_count": 737,
   "metadata": {
    "collapsed": false
   },
   "outputs": [
    {
     "name": "stdout",
     "output_type": "stream",
     "text": [
      "The most important feature is:  curb-weight\n"
     ]
    }
   ],
   "source": [
    "print \"The most important feature is: \", attr_names[np.argmax(clf.feature_importances_)]"
   ]
  },
  {
   "cell_type": "markdown",
   "metadata": {},
   "source": [
    "#### Using 10-fold cross validation separate the test and training data sets"
   ]
  },
  {
   "cell_type": "code",
   "execution_count": 738,
   "metadata": {
    "collapsed": false
   },
   "outputs": [],
   "source": [
    "### Your code here ###\n",
    "X_train, X_test, y_train, y_test = train_test_split(X_features, y_target, test_size=0.1, random_state=2)"
   ]
  },
  {
   "cell_type": "markdown",
   "metadata": {
    "collapsed": false
   },
   "source": [
    "Normalize the data"
   ]
  },
  {
   "cell_type": "code",
   "execution_count": 752,
   "metadata": {
    "collapsed": false
   },
   "outputs": [],
   "source": [
    "### Your code here ###\n",
    "X_train_normalized= preprocessing.scale(X_train)\n",
    "X_test_normalized= preprocessing.scale(X_test)\n",
    "X_features_normalized=preprocessing.scale(X_features)"
   ]
  },
  {
   "cell_type": "markdown",
   "metadata": {},
   "source": [
    "### Start with a linear model and evaluate how well it can predict the price variable"
   ]
  },
  {
   "cell_type": "code",
   "execution_count": 740,
   "metadata": {
    "collapsed": false
   },
   "outputs": [
    {
     "name": "stdout",
     "output_type": "stream",
     "text": [
      "Residual sum of squares: 1551.17\n",
      "Variance score: 0.34\n"
     ]
    }
   ],
   "source": [
    "### Your code here ###\n",
    "from sklearn import linear_model\n",
    "regr = linear_model.LinearRegression()\n",
    "\n",
    "# Train the model using the training sets\n",
    "regr.fit(X_train_normalized, y_train)\n",
    "\n",
    "print(\"Residual sum of squares: %.2f\"\n",
    "      % np.mean((regr.predict(X_test_normalized) - y_test) ** 2))\n",
    "# Explained variance score: 1 is perfect prediction\n",
    "print('Variance score: %.2f' % regr.score(X_test_normalized, y_test))"
   ]
  },
  {
   "cell_type": "markdown",
   "metadata": {},
   "source": [
    "### Try using Ridge regression and evaluate the result of the 10-fold cross-validation"
   ]
  },
  {
   "cell_type": "code",
   "execution_count": 754,
   "metadata": {
    "collapsed": false
   },
   "outputs": [
    {
     "name": "stdout",
     "output_type": "stream",
     "text": [
      "Variance score: -0.09\n"
     ]
    }
   ],
   "source": [
    "### Your code here ###\n",
    "from sklearn.linear_model import Ridge\n",
    "clf = linear_model.Ridge()\n",
    "\n",
    "# Explained variance score: 1 is perfect prediction\n",
    "print('Variance score: %.2f' % np.mean(cross_val_score(clf, X_features_normalized, y_target, cv=10)))\n"
   ]
  },
  {
   "cell_type": "markdown",
   "metadata": {},
   "source": [
    "### Train the Regression Tree and evaluate using 10-fold cross validation; Specify the parapmeters used and how you changed them to increase the accuracy;  "
   ]
  },
  {
   "cell_type": "code",
   "execution_count": 779,
   "metadata": {
    "collapsed": false
   },
   "outputs": [
    {
     "name": "stdout",
     "output_type": "stream",
     "text": [
      " Average 10 fold CV score is : -0.927948780423\n"
     ]
    }
   ],
   "source": [
    "### Your code here ###\n",
    "from sklearn.tree import DecisionTreeRegressor\n",
    "from sklearn.cross_validation import cross_val_score\n",
    "regressor = DecisionTreeRegressor(random_state=0, max_depth=10,max_features=10)\n",
    "\n",
    "print \"Average 10 fold CV score is :\", np.mean(cross_val_score(regressor, X_features, y_target, cv=10))"
   ]
  },
  {
   "cell_type": "markdown",
   "metadata": {},
   "source": [
    "### Discussion for Problem 3  Write a brief discussion of your conclusions to the questions and tasks above in 100 words or less.Compare all three aproaches and discuss your findings in 100 words or less"
   ]
  },
  {
   "cell_type": "code",
   "execution_count": null,
   "metadata": {
    "collapsed": true
   },
   "outputs": [],
   "source": []
  }
 ],
 "metadata": {
  "kernelspec": {
   "display_name": "Python 2",
   "language": "python",
   "name": "python2"
  },
  "language_info": {
   "codemirror_mode": {
    "name": "ipython",
    "version": 2
   },
   "file_extension": ".py",
   "mimetype": "text/x-python",
   "name": "python",
   "nbconvert_exporter": "python",
   "pygments_lexer": "ipython2",
   "version": "2.7.10"
  }
 },
 "nbformat": 4,
 "nbformat_minor": 0
}
