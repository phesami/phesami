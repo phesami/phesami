{
 "cells": [
  {
   "cell_type": "code",
   "execution_count": 229,
   "metadata": {
    "collapsed": false
   },
   "outputs": [
    {
     "name": "stdout",
     "output_type": "stream",
     "text": [
      "Populating the interactive namespace from numpy and matplotlib\n"
     ]
    }
   ],
   "source": [
    "##importing the required libariries##\n",
    "import pandas as pd\n",
    "import numpy as np\n",
    "import matplotlib.pyplot as plt\n",
    "from sklearn import svm\n",
    "from sklearn import preprocessing\n",
    "from sklearn.cross_validation import train_test_split\n",
    "from sklearn.decomposition import PCA\n",
    "from sklearn.ensemble.forest import RandomForestRegressor\n",
    "from sklearn.cross_validation import cross_val_score\n",
    "import operator\n",
    "from sklearn.metrics import mean_squared_error\n",
    "%pylab inline"
   ]
  },
  {
   "cell_type": "code",
   "execution_count": 222,
   "metadata": {
    "collapsed": false
   },
   "outputs": [],
   "source": [
    "##importing the data into a pandas data frame##\n",
    "train_DF=pd.read_csv('codetest_train.txt', delimiter='\\t')"
   ]
  },
  {
   "cell_type": "code",
   "execution_count": 223,
   "metadata": {
    "collapsed": false
   },
   "outputs": [
    {
     "data": {
      "text/plain": [
       "count    5000.000000\n",
       "mean        1.143878\n",
       "std         5.259896\n",
       "min       -26.705570\n",
       "25%        -2.034383\n",
       "50%         1.166835\n",
       "75%         4.439549\n",
       "max        26.347818\n",
       "Name: target, dtype: float64"
      ]
     },
     "execution_count": 223,
     "metadata": {},
     "output_type": "execute_result"
    },
    {
     "data": {
      "image/png": "[encoded data removed]",
      "text/plain": [
       "<matplotlib.figure.Figure at 0x10b09e510>"
      ]
     },
     "metadata": {},
     "output_type": "display_data"
    }
   ],
   "source": [
    "##getting the statistics of the target values to get a better underestanding\n",
    "#of the proper learning method##\n",
    "n, bins, patches = plt.hist(train_DF['target'], 50, normed=1, facecolor='green', alpha=0.75)\n",
    "train_DF['target'].describe()"
   ]
  },
  {
   "cell_type": "code",
   "execution_count": 224,
   "metadata": {
    "collapsed": false
   },
   "outputs": [],
   "source": [
    "##splitting the data into train/test set to have a set for performance evaluation##\n",
    "X_train, X_test, y_train, y_test = train_test_split(train_DF.iloc[:,1:255], \\\n",
    "                                                    train_DF['target'], test_size=0.2)"
   ]
  },
  {
   "cell_type": "code",
   "execution_count": 225,
   "metadata": {
    "collapsed": false
   },
   "outputs": [],
   "source": [
    "##data_refine function will: 1-find the non-numeric columns, 2- fill the NaN \n",
    "#in non-numeric columns with the most used element 3- transform the non-numeric \n",
    "#columns to numeric values using LabelEncoder method from SKLearn, 4- fill the \n",
    "#NaN values in the numeric columns using the mean value of them##\n",
    "def data_refine(train_DF):\n",
    "    #1-find the non-numeric columns#\n",
    "    real_or_str=train_DF.applymap(np.isreal).all(0)\n",
    "    non_num_feature=real_or_str[~real_or_str].keys()\n",
    "    le = preprocessing.LabelEncoder()\n",
    "    for col in non_num_feature:\n",
    "        #2- fill the NaN in non-numeric columns with the most used element#\n",
    "        train_DF[col].fillna(train_DF[col].describe().top, inplace=True)\n",
    "        #3- transform the non-numeric columns to numeric values using \n",
    "        #LabelEncoder method from SKLearn#\n",
    "        train_DF[col]=le.fit_transform(train_DF[col])\n",
    "    #4- fill the NaN values in the numeric columns using the mean value of them\n",
    "    train_DF.fillna(train_DF.mean(), inplace=True)\n",
    "    return train_DF\n",
    "\n",
    "X_train_refined=data_refine(X_train)\n",
    "X_test_refined=data_refine(X_test)"
   ]
  },
  {
   "cell_type": "code",
   "execution_count": 226,
   "metadata": {
    "collapsed": false
   },
   "outputs": [
    {
     "name": "stdout",
     "output_type": "stream",
     "text": [
      "MSE on the training set is:\n",
      "12.0869268614\n",
      "MSE on the test set is:\n",
      "17.2529650053\n"
     ]
    }
   ],
   "source": [
    "##Using a Support Vector Regressor as our learning technique##\n",
    "clf = svm.SVR(C=1, epsilon=0.2)\n",
    "clf.fit(X_train_refined, y_train)\n",
    "print (\"MSE on the training set is:\\n\"), mean_squared_error(y_train, \\\n",
    "                                        clf.predict(X_train_refined))\n",
    "print (\"MSE on the test set is:\\n\"), mean_squared_error(y_test, \\\n",
    "                                        clf.predict(X_test_refined))"
   ]
  },
  {
   "cell_type": "code",
   "execution_count": 227,
   "metadata": {
    "collapsed": false
   },
   "outputs": [
    {
     "name": "stdout",
     "output_type": "stream",
     "text": [
      "MSE on the training set is:\n",
      "2.49144749533\n",
      "MSE on the test set is:\n",
      "15.9314309093\n"
     ]
    }
   ],
   "source": [
    "##Using another learning technique (Random Forrest Regressor) on our data##\n",
    "rfr = RandomForestRegressor(n_estimators=10, random_state=0)\n",
    "rfr.fit(X_train_refined, y_train)\n",
    "print (\"MSE on the training set is:\\n\"), mean_squared_error(y_train, \\\n",
    "                                        rfr.predict(X_train_refined))\n",
    "print (\"MSE on the test set is:\\n\"), mean_squared_error(y_test, \\\n",
    "                                    rfr.predict(X_test_refined))"
   ]
  },
  {
   "cell_type": "markdown",
   "metadata": {},
   "source": [
    "**As we can see, both of these models tend to overfit the training set. Linear Regressors/K Nearest Neighbor/Neural Networks yield the same performance and all tend to overfit as well. We will try two different method to overcome overfitting.**\n",
    "\n",
    "    1- We will try to use PCA to reduce the number of features\n",
    "    2- We will pick Random Forrest Regressor as our model and using the k-fold cross \n",
    "    validation technique fine tune the parameters of the SVR."
   ]
  },
  {
   "cell_type": "code",
   "execution_count": 231,
   "metadata": {
    "collapsed": false
   },
   "outputs": [
    {
     "name": "stdout",
     "output_type": "stream",
     "text": [
      "With 50 features, 0.281870 of variance is preserved and the MSE on    the test set is 36.695022\n",
      "With 100 features, 0.509171 of variance is preserved and the MSE on    the test set is 36.815525\n",
      "With 150 features, 0.702820 of variance is preserved and the MSE on    the test set is 36.236900\n",
      "With 200 features, 0.866501 of variance is preserved and the MSE on    the test set is 36.795260\n"
     ]
    }
   ],
   "source": [
    "##Trying PCA and reducing the number of features and checking if the \n",
    "#performance on the test set improves##\n",
    "for n in [50,100,150,200]:\n",
    "    pca = PCA(n_components=n)\n",
    "    rfr.fit(pca.fit_transform(X_train_refined),y_train)\n",
    "    print \"With %d features, %f of variance is preserved and the MSE on\\\n",
    "    the test set is %f\"%(n, pca.explained_variance_ratio_.sum(),\\\n",
    "    mean_squared_error(y_test, rfr.predict(pca.fit_transform(X_test_refined)))) \n"
   ]
  },
  {
   "cell_type": "markdown",
   "metadata": {},
   "source": [
    "**We can see that almost all of the columns are containing significant amount of variance/data and even using 200 features we are still losing around 15% of the data. Also the performance of our model doesn't improve by using less features and it still overfit. So, next we try to fine tune the parameters of our RFR model using a 5-fold cross-validation**"
   ]
  },
  {
   "cell_type": "code",
   "execution_count": 159,
   "metadata": {
    "collapsed": false
   },
   "outputs": [],
   "source": [
    "##trying different values for n_estimators parameters (number of trees in the forrest) and evaluating the performance \n",
    "#using a 5-folded cross validation on the training set##\n",
    "est_list=[10,20,50,100,200]\n",
    "score={}\n",
    "for est in est_list:\n",
    "    rfr = RandomForestRegressor(n_estimators=est, random_state=0)\n",
    "    rfr.fit(X_train_refined, y_train)\n",
    "    score[est]=cross_val_score(rfr, X_train_refined, y_train, cv=5).mean()"
   ]
  },
  {
   "cell_type": "code",
   "execution_count": 215,
   "metadata": {
    "collapsed": false
   },
   "outputs": [
    {
     "name": "stdout",
     "output_type": "stream",
     "text": [
      "the optimal value of n_estimators=200\n"
     ]
    }
   ],
   "source": [
    "##finding the optimal value of n_estimators##\n",
    "n_est=max(score.iteritems(), key=operator.itemgetter(1))[0]\n",
    "print \"the optimal value of n_estimators=%d\"%(n_est)"
   ]
  },
  {
   "cell_type": "code",
   "execution_count": 232,
   "metadata": {
    "collapsed": false
   },
   "outputs": [
    {
     "name": "stdout",
     "output_type": "stream",
     "text": [
      "score on the training set using optimal value of n_estimators is:\n",
      "1.67265451698\n",
      "score on the test set using optimal value of n_estimators is:\n",
      "13.7596595741\n"
     ]
    }
   ],
   "source": [
    "##Using a Random Forest Regressor with the optimal C and epsilon parameters##\n",
    "rfr = RandomForestRegressor(n_estimators=n_est, random_state=0)\n",
    "rfr.fit(X_train_refined, y_train)\n",
    "print (\"score on the training set using optimal value of n_estimators is:\\n\"),\\\n",
    "mean_squared_error(y_train, rfr.predict(X_train_refined))\n",
    "print (\"score on the test set using optimal value of n_estimators is:\\n\"), \\\n",
    "mean_squared_error(y_test, rfr.predict(X_test_refined))"
   ]
  },
  {
   "cell_type": "markdown",
   "metadata": {},
   "source": [
    "**As we can see the performance improvement using a larger number of trees was marginal**"
   ]
  },
  {
   "cell_type": "code",
   "execution_count": 233,
   "metadata": {
    "collapsed": false
   },
   "outputs": [],
   "source": [
    "##predicting the target on the given test set and writing the output into a text file##\n",
    "final_test_DF=pd.read_csv('codetest_test.txt', delimiter='\\t')\n",
    "X_test_final_refined=data_refine(final_test_DF)\n",
    "predictions=rfr.predict(X_test_final_refined)\n",
    "f = open('predicted_target_test.txt', 'w')\n",
    "for pre in predictions:\n",
    "    f.writelines(str(pre)+'\\n')\n",
    "f.close()"
   ]
  }
 ],
 "metadata": {
  "kernelspec": {
   "display_name": "Python 2",
   "language": "python",
   "name": "python2"
  },
  "language_info": {
   "codemirror_mode": {
    "name": "ipython",
    "version": 2
   },
   "file_extension": ".py",
   "mimetype": "text/x-python",
   "name": "python",
   "nbconvert_exporter": "python",
   "pygments_lexer": "ipython2",
   "version": "2.7.10"
  }
 },
 "nbformat": 4,
 "nbformat_minor": 0
}
