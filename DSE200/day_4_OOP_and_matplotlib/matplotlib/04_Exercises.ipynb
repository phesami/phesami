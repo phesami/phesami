{
 "cells": [
  {
   "cell_type": "markdown",
   "metadata": {},
   "source": [
    "# Lecture4 Exercises"
   ]
  },
  {
   "cell_type": "markdown",
   "metadata": {},
   "source": [
    "##Functional Programming\n",
    "\n",
    "Use the [map](https://docs.python.org/2/library/functions.html#map) and [filter](https://docs.python.org/2/library/functions.html#filter) functions to convert the list `l = [0,1,2,3,4,5,6,7,8,9,10]` into a list of the squares of the even numbers in `l`.\n",
    "\n",
    "Hints:\n",
    "\n",
    "1. Use map() to apply a function to each element in the list\n",
    "2. Use filter() to filter elements of a list\n",
    "3. Use lambda to define anonymous functions\n",
    "4. *Do not* use list comprehensions"
   ]
  },
  {
   "cell_type": "code",
   "execution_count": 105,
   "metadata": {
    "collapsed": false
   },
   "outputs": [
    {
     "data": {
      "text/plain": [
       "[0, 4, 16, 36, 64, 100]"
      ]
     },
     "execution_count": 105,
     "metadata": {},
     "output_type": "execute_result"
    }
   ],
   "source": [
    "l = [0,1,2,3,4,5,6,7,8,9,10]\n",
    "map(lambda x:x*x,filter(lambda x:x%2==0,l))"
   ]
  },
  {
   "cell_type": "markdown",
   "metadata": {},
   "source": [
    "### Object Oriented Programming"
   ]
  },
  {
   "cell_type": "markdown",
   "metadata": {},
   "source": [
    "Implement a Python iterator which iterates over string characters (ASCII only) returning their ASCII code\n",
    "\n",
    "1. Define a new iterator class which contains two methods:\n",
    "    -init – a constructor taking the ASCII string as a argument,\n",
    "    -next – returns the ASCII code of the next character or raises a StopIteration exception if the string end was encountered.\n",
    "\n",
    "2. Define a new iterable class which wraps around a string and contains iter method which returns the iterator instance.\n",
    "3. Test your code using explicit calls of next method (see example in the lecture) and for loop."
   ]
  },
  {
   "cell_type": "code",
   "execution_count": 106,
   "metadata": {
    "collapsed": false
   },
   "outputs": [],
   "source": [
    "class StringIterator:\n",
    "    def __init__(self, string):\n",
    "        self.string=string\n",
    "        self.Index=0\n",
    "    def next(self):\n",
    "        try:\n",
    "            self.Index+=1\n",
    "            return (self.string[self.Index-1],ord(self.string[self.Index-1]))\n",
    "        except IndexError:\n",
    "            raise StopIteration    \n",
    "\n",
    "\n",
    "class StringIterable(StringIterator):\n",
    "    def __init__(self,string):\n",
    "        self.string=string\n",
    "        self.Index=0\n",
    "    \n",
    "    def __iter__(self):\n",
    "        return self\n",
    "        \n"
   ]
  },
  {
   "cell_type": "code",
   "execution_count": 107,
   "metadata": {
    "collapsed": false
   },
   "outputs": [
    {
     "name": "stdout",
     "output_type": "stream",
     "text": [
      "('A', 65)\n",
      "('B', 66)\n",
      "('C', 67)\n",
      "('l', 108)\n",
      "('d', 100)\n",
      "('e', 101)\n",
      "(')', 41)\n",
      "('/', 47)\n",
      "('?', 63)\n",
      "('`', 96)\n",
      "('&', 38)\n"
     ]
    }
   ],
   "source": [
    "Iterator=StringIterator('ABClde)/?`&')\n",
    "Iterable=StringIterable('ABClde)/?`&')\n",
    "\n",
    "for char in Iterable:\n",
    "    print Iterator.next()"
   ]
  },
  {
   "cell_type": "code",
   "execution_count": 103,
   "metadata": {
    "collapsed": true
   },
   "outputs": [],
   "source": [
    "#Simpler solution using just one class\n",
    "class StringIterator2:\n",
    "    def __init__(self, string):\n",
    "        self.string=string\n",
    "        self.Index=0\n",
    "    def next(self):\n",
    "        try:\n",
    "            self.Index+=1\n",
    "            return (self.string[self.Index-1],ord(self.string[self.Index-1]))\n",
    "        except IndexError:\n",
    "            raise StopIteration    \n",
    "    \n",
    "    def __iter__(self):\n",
    "        return self\n"
   ]
  },
  {
   "cell_type": "code",
   "execution_count": 104,
   "metadata": {
    "collapsed": false
   },
   "outputs": [
    {
     "name": "stdout",
     "output_type": "stream",
     "text": [
      "('A', 65)\n",
      "('B', 66)\n",
      "('C', 67)\n",
      "('l', 108)\n",
      "('d', 100)\n",
      "('e', 101)\n",
      "(')', 41)\n",
      "('/', 47)\n",
      "('?', 63)\n",
      "('`', 96)\n",
      "('&', 38)\n"
     ]
    }
   ],
   "source": [
    "Iterator2=StringIterator2('ABClde)/?`&')\n",
    "\n",
    "for char in Iterator2:\n",
    "    print char"
   ]
  },
  {
   "cell_type": "markdown",
   "metadata": {},
   "source": [
    "##Fibonacci Sequence\n",
    "\n",
    "write a class Fibonacci whose constructor takes two numbers; the class uses these two numbers as the first two numbers in the sequence. \n",
    "\n",
    "1. The class should have a method calculate(n) that returns the n-th number in the sequence.\n",
    "2. Add a method next(). The first call to next() returns the first number in the sequence, the second call returns the second number, and so on. You'll need instance variables to save state between calls. \n",
    "3. Finally, add a method writeToFile(n, filename), that writes the first n numbers in the sequence to the file named filename, one number per line.\n",
    "\n",
    "**HINT:** you should store previously computed fibonachi numbers instead of recomputing every one as they are needed"
   ]
  },
  {
   "cell_type": "code",
   "execution_count": 108,
   "metadata": {
    "collapsed": false
   },
   "outputs": [],
   "source": [
    "class Fibonacci:\n",
    "    def __init__(self):\n",
    "        self.a=0\n",
    "        self.b=1\n",
    "        self.fib_seq=[self.a,self.b]\n",
    "        self.index=1\n",
    "        self.state=0\n",
    "    \n",
    "    def next(self):\n",
    "        self.state+=1\n",
    "        return self.calculate(self.state-1)\n",
    "        \n",
    "    def calculate(self, n):\n",
    "        for i in xrange(len(self.fib_seq)-1,n):\n",
    "            next_fib=self.fib_seq[i]+self.fib_seq[i-1]\n",
    "            self.fib_seq.append(next_fib)\n",
    "        return self.fib_seq[n]\n",
    "        \n",
    "    def writeToFile(self, n, filename):\n",
    "        with open(filename,'w') as Fib_file: \n",
    "            [Fib_file.write(str(self.fib_seq[f])+'\\n') for f in xrange(n)] "
   ]
  },
  {
   "cell_type": "code",
   "execution_count": 109,
   "metadata": {
    "collapsed": false
   },
   "outputs": [
    {
     "name": "stdout",
     "output_type": "stream",
     "text": [
      "True\n",
      "True\n",
      "True\n",
      "True\n",
      "True\n",
      "True\n",
      "True\n",
      "True\n",
      "True\n"
     ]
    }
   ],
   "source": [
    "#Testing code, should all equal print true\n",
    "fib = Fibonacci()\n",
    "\n",
    "print fib.calculate(0) == 0\n",
    "print fib.calculate(1) == 1\n",
    "print fib.calculate(2) == 1\n",
    "print fib.calculate(3) == 2\n",
    "print fib.calculate(20) == 6765\n",
    "print fib.calculate(100) == 354224848179261915075\n",
    "print fib.next() == fib.calculate(0)\n",
    "print fib.next() == fib.calculate(1)\n",
    "print fib.next() == fib.calculate(2)\n",
    "fib.writeToFile(30, \"fib.out\")"
   ]
  },
  {
   "cell_type": "markdown",
   "metadata": {},
   "source": [
    "Write a function solve(h,l) which solves the folowing classic puzzle: \n",
    "\n",
    "We count h heads and l legs among the chickens and rabbits in a farm. How many rabbits and how many chickens do we have? where h and l are the parameters passed to the function solve\n",
    "\n",
    "    >> numheads=35\n",
    "    >> numlegs=94\n",
    "    >> solutions=solve(numheads,numlegs)\n",
    "    >> print solutions\n",
    "\n"
   ]
  },
  {
   "cell_type": "code",
   "execution_count": 110,
   "metadata": {
    "collapsed": false
   },
   "outputs": [],
   "source": [
    "#Chicken+Rabbit=h and 2*chicken+4*Rabbit=l\n",
    "def solve(h,l):\n",
    "    Num_Chicken=(2*h)-(l/2)\n",
    "    Num_Rabbit=(l/2)-h\n",
    "    print \"With %d heads and %d legs \\n\"%(h,l)\n",
    "    print \"Number of Chickens are:\", Num_Chicken\n",
    "    print \"Number of Rabbits are:\", Num_Rabbit"
   ]
  },
  {
   "cell_type": "code",
   "execution_count": 111,
   "metadata": {
    "collapsed": false
   },
   "outputs": [
    {
     "name": "stdout",
     "output_type": "stream",
     "text": [
      "With 35 heads and 94 legs \n",
      "\n",
      "Number of Chickens are: 23\n",
      "Number of Rabbits are: 12\n"
     ]
    }
   ],
   "source": [
    "solve(35,94)"
   ]
  }
 ],
 "metadata": {
  "kernelspec": {
   "display_name": "Python 2",
   "language": "python",
   "name": "python2"
  },
  "language_info": {
   "codemirror_mode": {
    "name": "ipython",
    "version": 2
   },
   "file_extension": ".py",
   "mimetype": "text/x-python",
   "name": "python",
   "nbconvert_exporter": "python",
   "pygments_lexer": "ipython2",
   "version": "2.7.10"
  }
 },
 "nbformat": 4,
 "nbformat_minor": 0
}
