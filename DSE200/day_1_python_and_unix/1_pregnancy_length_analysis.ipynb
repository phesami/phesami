{
 "metadata": {
  "name": "",
  "signature": "sha256:910479a94ad29932684d4c41cf29db1c53c6905f0528751d0814ef08e558acad"
 },
 "nbformat": 3,
 "nbformat_minor": 0,
 "worksheets": [
  {
   "cells": [
    {
     "cell_type": "markdown",
     "metadata": {},
     "source": [
      "### Birth Statistics Data ###\n",
      "\n",
      "This notebook's goal is to study the question: *Are first-born babis more likely to arrive late?*\n",
      "\n",
      "It is based on the book [Think Stats](http://www.greenteapress.com/thinkstats/)\n",
      "\n",
      "#### Loading the data ####\n",
      "The data we use is originally from NSFG (National Survey of Family Growth) and can also be downloaded from from [the data section of the Think Stats web site](http://www.greenteapress.com/thinkstats/nsfg.html).\n",
      "\n",
      "The file that we use in this notebook is `2002FemPreg.dat`\n",
      "\n",
      "As a first step we extract from the file `survey.py` (which is part of the [Think-Stats code examples zip file](http://www.greenteapress.com/thinkstats/thinkstats.code.zip)) a few lines that define the format of the file `2002FemPreg.dat`."
     ]
    },
    {
     "cell_type": "code",
     "collapsed": false,
     "input": [
      "!head -2 ../../data/ThinkStatsData/2002FemPreg.dat"
     ],
     "language": "python",
     "metadata": {},
     "outputs": []
    },
    {
     "cell_type": "markdown",
     "metadata": {},
     "source": [
      "#### record format ###\n",
      "\n",
      "The data consists of records, one record per line, each record corresponds to a single birth. The fields of the record are organized in a **Location specific** format, as defined below.\n",
      "\n",
      "* **field:** The name of the attribute where the field will be stored. Most of the time I use the name from the NSFG codebook, converted to all lower case.\n",
      "* **start:** The index of the starting column for this field. For example, the indices for caseid are 1\u201312.\n",
      "* **end:** The index of the ending column for this field. Unlike in Python,the end index is inclusive.\n",
      "* **conversion function:** A function that takes a string and converts it to an appropriate type. You can use built-in functions, like int and float, or user-defined functions. If the conversion fails, the attribute gets the string value \u2019NA\u2019. If you don\u2019t want to convert a field, you can provide an identity function or use str.\n"
     ]
    },
    {
     "cell_type": "code",
     "collapsed": false,
     "input": [
      "## This list of tuples defines the names and locations of the elements.\n",
      "fields=[\n",
      "    ('caseid', 1, 12, int),\n",
      "    ('nbrnaliv', 22, 22, int),\n",
      "    ('babysex', 56, 56, int),\n",
      "    ('birthwgt_lb', 57, 58, int),\n",
      "    ('birthwgt_oz', 59, 60, int),\n",
      "    ('prglength', 275, 276, int),\n",
      "    ('outcome', 277, 277, int),\n",
      "    ('birthord', 278, 279, int),\n",
      "    ('agepreg', 284, 287, int),\n",
      "    ('finalwgt', 423, 440, float),\n",
      "]"
     ],
     "language": "python",
     "metadata": {},
     "outputs": []
    },
    {
     "cell_type": "markdown",
     "metadata": {},
     "source": [
      "#### Description of the fields\n",
      "\n",
      "* **caseid** is the integer ID of the respondent.\n",
      "* **nbrnaliv** number of babies born together (twins, triplets etc.)\n",
      "* **babysex** 1=male, 2=female\n",
      "* **birthwgt_lb** weight of newborn (pounds)\n",
      "* **birthwgt_oz** weight of newborn (ounces)\n",
      "* **prglength** is the integer duration of the pregnancy in weeks.\n",
      "* **outcome** is an integer code for the outcome of the pregnancy. The code 1 indicates a live birth.\n",
      "* **birthord** is the integer birth order of each live birth; for example, the code for a first child is 1. For outcomes other than live birth, this field is blank.\n",
      "* **agepreg** mother's age at pregnancy outcome (devide by 100 to get years)\n",
      "* **finalwgt** is the statistical weight associated with the respondent. It is a floating- point value that indicates the number of people in the U.S. population this respondent represents. Members of oversampled groups have lower weights.\n"
     ]
    },
    {
     "cell_type": "markdown",
     "metadata": {},
     "source": [
      "### read and parse data ###\n",
      "In the next cell we read the file, parse it according to `fields`, and create a dictionary of lists, one for each field."
     ]
    },
    {
     "cell_type": "code",
     "collapsed": false,
     "input": [
      "# columns is initialized as a dictionary\n",
      "columns={}\n",
      "# an empty list is created for each field\n",
      "for (field, start, end, cast) in fields:\n",
      "    columns[field]=[]\n",
      "    \n",
      "# The data is read from the file and inserted into the table.\n",
      "file=open('../../data/ThinkStatsData/2002FemPreg.dat','r')\n",
      "for line in file.readlines():\n",
      "    for (field, start, end, cast) in fields:\n",
      "        try:\n",
      "            s = line[start-1:end]\n",
      "            val = cast(s)\n",
      "        except ValueError:\n",
      "            #print line\n",
      "            #print field, start, end, s\n",
      "            val = None\n",
      "        columns[field].append(val)"
     ],
     "language": "python",
     "metadata": {},
     "outputs": []
    },
    {
     "cell_type": "markdown",
     "metadata": {},
     "source": [
      "#### Read into a Pandas Dataframe"
     ]
    },
    {
     "cell_type": "code",
     "collapsed": false,
     "input": [
      "import pandas\n",
      "DF=pandas.DataFrame(data=columns)\n",
      "DF.head()"
     ],
     "language": "python",
     "metadata": {},
     "outputs": []
    },
    {
     "cell_type": "markdown",
     "metadata": {},
     "source": [
      "### Normalizing the distribution of weights ###"
     ]
    },
    {
     "cell_type": "code",
     "collapsed": false,
     "input": [
      "DF['birthwgt_lb'].hist()"
     ],
     "language": "python",
     "metadata": {},
     "outputs": []
    },
    {
     "cell_type": "code",
     "collapsed": false,
     "input": [
      "DF[DF['birthwgt_lb']>20].head()"
     ],
     "language": "python",
     "metadata": {},
     "outputs": []
    },
    {
     "cell_type": "markdown",
     "metadata": {},
     "source": [
      "Clearly the ones with weight 99 pounds are cases for which the weight is not available."
     ]
    },
    {
     "cell_type": "code",
     "collapsed": false,
     "input": [
      "selector=(DF['birthwgt_lb']>20) & (DF['birthwgt_lb']<99)\n",
      "DF[selector].head()"
     ],
     "language": "python",
     "metadata": {},
     "outputs": []
    },
    {
     "cell_type": "code",
     "collapsed": false,
     "input": [
      "DF=DF[~selector]"
     ],
     "language": "python",
     "metadata": {},
     "outputs": []
    },
    {
     "cell_type": "markdown",
     "metadata": {},
     "source": [
      "It seems that these three cases are mistakes. It is safer to leave them out.\n",
      "\n",
      "We do thatm and also combine the lb and oz columns into a single weight column."
     ]
    },
    {
     "cell_type": "code",
     "collapsed": false,
     "input": [
      "select=DF['birthwgt_lb']<20\n",
      "DF['weight']=DF[select]['birthwgt_lb']+DF[select]['birthwgt_oz']/16\n",
      "DF['weight'].hist(bins=32)\n",
      "shape(DF)"
     ],
     "language": "python",
     "metadata": {},
     "outputs": []
    },
    {
     "cell_type": "code",
     "collapsed": false,
     "input": [
      "anomalies=isnan(DF)\n",
      "print shape(anomalies),shape(DF)\n",
      "sum(anomalies)"
     ],
     "language": "python",
     "metadata": {},
     "outputs": []
    },
    {
     "cell_type": "markdown",
     "metadata": {},
     "source": [
      "There seem to be about 4445 cases with about 6 undefined fields\n",
      "\n",
      "Next, we'll try to find out who these are"
     ]
    },
    {
     "cell_type": "code",
     "collapsed": false,
     "input": [
      "from collections import Counter\n",
      "Counter(DF.ix[sum(anomalies,axis=1)>4,:]['outcome'])"
     ],
     "language": "python",
     "metadata": {},
     "outputs": []
    },
    {
     "cell_type": "markdown",
     "metadata": {},
     "source": [
      "The records with a large number of undefined fields correspond to outcomes other than 1=live born. It seems like they correspond to dead newborns of different types. We therefor remove them from the dataset."
     ]
    },
    {
     "cell_type": "code",
     "collapsed": false,
     "input": [
      "DF=DF[DF['outcome']==1]"
     ],
     "language": "python",
     "metadata": {},
     "outputs": []
    },
    {
     "cell_type": "markdown",
     "metadata": {},
     "source": [
      "Finished cleaning the data, now back to the question."
     ]
    },
    {
     "cell_type": "code",
     "collapsed": false,
     "input": [
      "scatter(DF['birthord'],DF['prglength'])"
     ],
     "language": "python",
     "metadata": {},
     "outputs": []
    },
    {
     "cell_type": "code",
     "collapsed": false,
     "input": [
      "DF.boxplot(column='prglength',by='birthord')"
     ],
     "language": "python",
     "metadata": {},
     "outputs": []
    },
    {
     "cell_type": "code",
     "collapsed": false,
     "input": [
      "DF['prglength'].hist(bins=50);\n",
      "DF[DF['birthord']==1]['prglength'].hist(bins=50);"
     ],
     "language": "python",
     "metadata": {},
     "outputs": []
    },
    {
     "cell_type": "markdown",
     "metadata": {},
     "source": [
      "## How sure are we? Using statistical tests ##\n",
      "We use the ttest statistic to decide whether the mean pregnancy length for he first-born is lower for the first pregnancy."
     ]
    },
    {
     "cell_type": "code",
     "collapsed": false,
     "input": [
      "from scipy.stats import ttest_ind\n",
      "\n",
      "D1 = DF['prglength']\n",
      "D2 = DF[DF['birthord']==1]['prglength']\n",
      "ttest_ind(D1,D2)\n"
     ],
     "language": "python",
     "metadata": {},
     "outputs": []
    },
    {
     "cell_type": "markdown",
     "metadata": {},
     "source": [
      "A p-value of 0.415 corresponds to no confidence (result could have been generated by chance alone with prob %41.5 ."
     ]
    },
    {
     "cell_type": "code",
     "collapsed": false,
     "input": [],
     "language": "python",
     "metadata": {},
     "outputs": []
    }
   ],
   "metadata": {}
  }
 ]
}