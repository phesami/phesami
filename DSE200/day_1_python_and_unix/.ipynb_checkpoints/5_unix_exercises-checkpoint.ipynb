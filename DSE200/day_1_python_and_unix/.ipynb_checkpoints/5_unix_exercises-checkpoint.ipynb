{
 "cells": [
  {
   "cell_type": "markdown",
   "metadata": {},
   "source": [
    "### Excercise 1: reconstruct a file from segments."
   ]
  },
  {
   "cell_type": "markdown",
   "metadata": {},
   "source": [
    "Each of the files F* is a short segment of the original text file.\n",
    "\n",
    "The format of the file is `(n1: 5 char int),(n2: 5 char int),string`\n",
    "The string represents the content of the file in the range `[n1:n2]`\n",
    "\n",
    "Your task is to reconstruct the original file."
   ]
  },
  {
   "cell_type": "code",
   "execution_count": 3,
   "metadata": {
    "collapsed": false
   },
   "outputs": [
    {
     "name": "stdout",
     "output_type": "stream",
     "text": [
      "/Users/phesami/Documents/DSE/phesami/DSE200/data/NLTK/Chopped\n",
      "F0        F126      F153      F18       F207      F24       F50       F76\r\n",
      "F1        F127      F154      F180      F208      F25       F51       F77\r\n",
      "F10       F128      F155      F181      F209      F26       F52       F78\r\n",
      "F100      F129      F156      F182      F210      F27       F53       F79\r\n",
      "F101      F13       F157      F183      F211      F28       F54       F8\r\n",
      "F102      F130      F158      F185      F212      F29       F55       F80\r\n",
      "F104      F131      F159      F186      F213      F3        F56       F81\r\n",
      "F106      F132      F16       F187      F214      F30       F57       F82\r\n",
      "F107      F133      F160      F189      F215      F31       F58       F83\r\n",
      "F108      F134      F161      F19       F216      F32       F59       F84\r\n",
      "F109      F135      F162      F190      F218      F33       F6        F85\r\n",
      "F11       F136      F163      F191      F219      F34       F60       F86\r\n",
      "F110      F137      F164      F192      F22       F35       F61       F87\r\n",
      "F111      F138      F165      F193      F220      F36       F62       F88\r\n",
      "F112      F139      F166      F194      F221      F37       F63       F9\r\n",
      "F113      F14       F167      F195      F222      F38       F64       F90\r\n",
      "F114      F140      F168      F196      F223      F39       F65       F91\r\n",
      "F115      F141      F169      F197      F224      F4        F66       F93\r\n",
      "F117      F142      F170      F198      F225      F40       F67       F94\r\n",
      "F118      F144      F171      F199      F226      F41       F68       F95\r\n",
      "F119      F145      F172      F2        F227      F42       F69       F96\r\n",
      "F12       F146      F173      F20       F228      F43       F7        F97\r\n",
      "F120      F147      F174      F200      F229      F44       F70       F99\r\n",
      "F121      F148      F175      F201      F23       F45       F71       Leonidas\r\n",
      "F122      F149      F176      F202      F230      F46       F72\r\n",
      "F123      F15       F177      F204      F231      F48       F73\r\n",
      "F124      F151      F178      F205      F232      F49       F74\r\n",
      "F125      F152      F179      F206      F233      F5        F75\r\n"
     ]
    }
   ],
   "source": [
    "%cd ~/Documents/DSE/phesami/DSE200/data/NLTK/Chopped/\n",
    "!ls -F"
   ]
  },
  {
   "cell_type": "code",
   "execution_count": 165,
   "metadata": {
    "collapsed": false
   },
   "outputs": [
    {
     "name": "stdout",
     "output_type": "stream",
     "text": [
      "  894  897e o\r\n",
      "  844  854 of Georgi\r\n",
      "  897  899ut\r\n",
      "  523  527le `\r\n",
      " 1268 1281ices which in\r\n",
      "  419  427r term j\r\n",
      " 1053 1069g and improving \r\n",
      "  178  180id\r\n",
      "  439  443 cha\r\n",
      " 1259 1266ted pra\r\n",
      "  183  191 term-en\r\n",
      " 1009 1011st\r\n",
      "  792  796f th\r\n",
      "  859  870egistration\r\n",
      "  736  737s\r\n",
      "  210  225 the City Execu\r\n",
      "  891  894 ar\r\n",
      "  592  595ayo\r\n",
      "  912  913e\r\n",
      "  965  982ulton legislators\r\n",
      "  935  954ous '' . It recomme\r\n",
      "  599  600m\r\n",
      " 1542 1545 , \r\n",
      " 1254 1259accep\r\n",
      "   60   64 Atl\r\n",
      " 1250 1254lly \r\n",
      "  191  198d prese\r\n",
      " 1423 1427to a\r\n",
      " 1111 1115mber\r\n",
      " 1155 1156a\r\n",
      "  666  667w\r\n",
      "  198  199n\r\n",
      " 1504 1513 Purchasi\r\n",
      " 1591 1601l as a res\r\n",
      "  199  205tments\r\n",
      " 1617 1622onnel\r\n",
      "   88   99ection prod\r\n",
      " 1077 1085. The gr\r\n",
      "  681  682 \r\n",
      "  624  626` \r\n",
      "  982 1006 act `` to have these la\r\n",
      " 1398 1423fices should be combined \r\n",
      "   58   60of\r\n",
      "  168  175further\r\n",
      "  764  771ber of \r\n",
      "  817  840 said it did find that \r\n",
      " 1461 1468ce the \r\n",
      " 1578 1589ical person\r\n",
      " 1096 1101mment\r\n",
      " 1493 1499 . The\r\n",
      "  771  780voters an\r\n",
      " 1069 1077them '' \r\n",
      "  569  577mary whi\r\n",
      "  377  384ction w\r\n",
      " 1156 1164 and Ful\r\n",
      " 1051 1053in\r\n",
      " 1247 1250era\r\n",
      " 1430 1431e\r\n",
      " 1164 1168ton \r\n",
      "  427  430ury\r\n",
      "  790  792 o\r\n",
      " 1115 1134 of other topics , \r\n",
      "  913  921quate an\r\n",
      "   24   37Jury said Fri\r\n",
      "  682  690, the ju\r\n",
      "  954  965nded that F\r\n",
      "  277  290ection , `` d\r\n",
      "   18   24Grand \r\n",
      "  318  319s\r\n",
      " 1224 1228oper\r\n",
      "  225  241tive Committee ,\r\n",
      "  132  151rregularities took \r\n",
      " 1480 1493nistration ''\r\n",
      " 1302 1310est of b\r\n",
      " 1573 1578 cler\r\n",
      "  879  882tio\r\n",
      " 1376 1384lieves `\r\n",
      " 1134 1137amo\r\n",
      "  297  299 t\r\n",
      " 1320 1328ments ''\r\n",
      "  708  727dering the widespre\r\n",
      "  595  596r\r\n",
      "  804  812'' . The\r\n",
      "  110  117evidenc\r\n",
      "  452  453u\r\n",
      " 1352 1376er , the jury said it be\r\n",
      "    8   18on County \r\n",
      "  858  859r\r\n",
      " 1385 1386 \r\n",
      "  470  474rt J\r\n",
      " 1524 1526nt\r\n",
      "  161  168e jury \r\n",
      "  385  416s conducted . The September-Oct\r\n",
      " 1239 1247llow gen\r\n",
      " 1206 1224 said `` are well \r\n",
      "  241  242 \r\n",
      "  856  858s \r\n",
      "  854  856a'\r\n",
      "  591  592M\r\n",
      "  667  669as\r\n",
      "  175  178 sa\r\n",
      " 1601 1611ult of cit\r\n",
      "   64   83anta's recent prima\r\n"
     ]
    }
   ],
   "source": [
    "!cat F1*"
   ]
  },
  {
   "cell_type": "code",
   "execution_count": 168,
   "metadata": {
    "collapsed": false,
    "scrolled": false
   },
   "outputs": [
    {
     "name": "stdout",
     "output_type": "stream",
     "text": [
      "The Fulton County Grand Jury said Friday an investigation ofAtl anta's recent primary election produced `` no evidence '' that any irregularities took place . The jury furthersa id interm-en d presentmentsthat the City Execu tive Committee , which had over-all charge of theel ection , `` deservest he praise and thanksof the City of Atlanta '' for the manner in which the ele ction was conducted . The September-October term juryhad been cha rged by Fulton Superior Court Judge Durwood Pye to investigate reports of possible `` irregularities '' inthe hard-fought  primary which was won by Mayor-nominateIvan Allen Jr. . ` ` Only a relative handful of such reports wasreceived ''  , the jury said , `` considering the widespread interest in the election , the number of voters and the sizeo f this city '' . Thejury said it did find that  manyof Georgi a's registrationand elec tionla ws ``ar e outmoded or inadequate and often ambiguous '' . It recommended that Fulton legislatorsact `` to have these la ws studied and revised to theend of moderniz ing and improving them '' . The grand jury commented on a numberof other topics ,  among them theAtlant aand Ful ton County purchasing departments which itsaid `` are well  operated and follow generally accepted practices which inure to the best interest of bothgovern ments ''. Merger prop osed However , the jury said it believes `` these two offices should be combined to achieve greater efficiency and reduce the costof adm inistration ''. The City Purchasi ng Department, the jury said ,  `` is lacking in experiencedcler ical personnel as a result of city personnelp olicies '' .                                                                                                                                                 \n"
     ]
    }
   ],
   "source": [
    "import re\n",
    "import operator\n",
    "reconstructed_text=[' ']*1636\n",
    "Line =!cat F*\n",
    "#reconstructed_text [8:17]= 'on county'\n",
    "#reconstructed_text [4:7]= 'fult'\n",
    "#reconstructed_text [0:3]= 'the'\n",
    "#print reconstructed_text\n",
    "text_dict={}\n",
    "for i in range(len(Line)):\n",
    "        line = Line[i]\n",
    "        splitted_line = line.split()\n",
    "        try:\n",
    "            col_from = int(splitted_line[0])\n",
    "            col_to_raw = splitted_line[1]\n",
    "            r = re.match(r\"([0-9]+)([a-zA-Z-.'`,]+)\",col_to_raw)\n",
    "            if r:\n",
    "                col_to = int(r.group(1))-1\n",
    "                chopped_text= [r.group(2).strip()]+splitted_line[2:]\n",
    "            else: \n",
    "                col_to = int(col_to_raw)-1\n",
    "                chopped_text= splitted_line[2:]\n",
    "        except ValueError:\n",
    "            print 'file does not exist, skipped'\n",
    "        joined_text = \" \".join(chopped_text)\n",
    "        text_dict.update({(col_from, col_to): joined_text})\n",
    "\n",
    "text_dict_sorted=sorted(text_dict.items(), key=operator.itemgetter(0))\n",
    "for i in range(len(Line)):\n",
    "    reconstructed_text[text_dict_sorted [i][0][0]:text_dict_sorted [i][0][1]] = text_dict_sorted [i][1] \n",
    "print ''.join(reconstructed_text)\n"
   ]
  },
  {
   "cell_type": "markdown",
   "metadata": {},
   "source": [
    "### Excercise 2:"
   ]
  },
  {
   "cell_type": "code",
   "execution_count": 4,
   "metadata": {
    "collapsed": false
   },
   "outputs": [
    {
     "name": "stdout",
     "output_type": "stream",
     "text": [
      "/Users/phesami/Desktop/DSE-UCSD/DSE/phesami/DSE200/DSE200-notebooks/data\n",
      "Caesar: ASCII English text\n",
      "1\n",
      "Leonidas, a great general, is petitioned by several citizens to show clemency to one of his enemies.\n",
      "He declines, pompously speaking of himself in the third person. The group of conspirators then proceeds to stab him.\n",
      "With his dying breath he gasps, \"Et tu, Brute? (\"And you, Brutus?\") Thus falls Leonidas.\" \n",
      "The conspirators exult, and Shakespeare inserts a self-referential joke as Cassius says, \n",
      "\"How many ages hence shall this our lofty scene be acted over in states unborn and accents yet unknown!\"\n",
      "\n"
     ]
    }
   ],
   "source": [
    "#Issue a UNIX command to create a file called Caesar that contains the following lines (include the mistakes!!)\n",
    "\n",
    "Text = \"\"\"Caesar, a great general, is petitioned by several citizens to show clemency to one of his enemies.\n",
    "He declines, pompously speaking of himself in the third person. The group of conspirators then proceeds to stab him.\n",
    "With his dying breath he gasps, \"Et tu, Brute? (\"And you, Brutus?\") Thus falls Caesar.\" \n",
    "The conspirators exult, and Shakespeare inserts a self-referential joke as Cassius says, \n",
    "\"How many ages hence shall this our lofty scene be acted over in states unborn and accents yet unknown!\"\n",
    "\"\"\"\n",
    "%cd ~/Desktop/DSE-UCSD/DSE/phesami/DSE200/DSE200-notebooks/data\n",
    "!echo '$Text'| cat > Caesar\n",
    "#Change the permissions of this file to 666\n",
    "!chmod 666 Caesar \n",
    "#Issue a UNIX command to determine the file type\n",
    "!file Caesar\n",
    "#Isue a uniix comannd to count the number of words in the above text that contains no vowels\n",
    "!grep -icv [aeiou] Caesar\n",
    "#Replace the word Caesar wherever it is found in the entire text to Leonidas\n",
    "!sed s/Caesar/Leonidas/g Caesar\n",
    "#Make a copy of the above file without the first and last lines of the text and rename this file to Leonidas\n",
    "!sed -n '2,4p' Caesar>Leonidas\n",
    "\n",
    "\n"
   ]
  },
  {
   "cell_type": "markdown",
   "metadata": {},
   "source": [
    "### Excercise 3:"
   ]
  },
  {
   "cell_type": "code",
   "execution_count": 9,
   "metadata": {
    "collapsed": false
   },
   "outputs": [
    {
     "name": "stdout",
     "output_type": "stream",
     "text": [
      "       6      82     501 Caesar\n",
      "       6 Caesar\n",
      "CPUTime  Caesar   Kings    Leonidas\n",
      "\n",
      "NLTK:\n",
      "BrownNews.txt \u001b[1m\u001b[34mChopped\u001b[m\u001b[m\n",
      "\n",
      "SQL:\n",
      "data.csv         usa_lat_long.csv\n",
      "\n",
      "ThinkStatsData:\n",
      "2002FemPreg.dat 2002FemResp.dat 2002Male.dat    cut55-56        survey.pl\n"
     ]
    }
   ],
   "source": [
    "#What is the command to count lines,words and characters in a file and how do you make this comand display only linecount?\n",
    "!wc Caesar\n",
    "!wc -l Caesar\n",
    "#Also write a single command that lists the files in the current directory that begin with upper case letters\n",
    "!ls [A-Z]*"
   ]
  },
  {
   "cell_type": "markdown",
   "metadata": {},
   "source": [
    "### Excercise 4:"
   ]
  },
  {
   "cell_type": "code",
   "execution_count": 44,
   "metadata": {
    "collapsed": false
   },
   "outputs": [
    {
     "name": "stdout",
     "output_type": "stream",
     "text": [
      "/Users/phesami/Desktop/DSE-UCSD/DSE/phesami/DSE200/DSE200-notebooks/data\n",
      "\u001b[?1h\u001b=Caesar, a great general, is petitioned by several citizens to show clemency to one of his enemies.\n",
      "He declines, pompously speaking of himself in the third person. The group of conspirators then proceeds to stab him.\n",
      "With his dying breath he gasps, \"Et tu, Brute? (\"And you, Brutus?\") Thus falls Caesar.\" \n",
      "The conspirators exult, and Shakespeare inserts a self-referential joke as Cassius says, \n",
      "\"How many ages hence shall this our lofty scene be acted over in states unborn and accents yet unknown!\"\n",
      "\n",
      "He declines, pompously speaking of himself in the third person. The group of conspirators then proceeds to stab him.\n",
      "With his dying breath he gasps, \"Et tu, Brute? (\"And you, Brutus?\") Thus falls Caesar.\" \n",
      "The conspirators exult, and Shakespeare inserts a self-referential joke as Cassius says, \n",
      "\u001b[K\u001b[?1l\u001b>\u001b[?1h\u001b=With his dying breath he gasps, \"Et tu, Brute? (\"And you, Brutus?\") Thus falls Caesar.\" \n",
      "With his dying breath he gasps, \"Et tu, Brute? (\"And you, Brutus?\") Thus falls Caesar.\" \n",
      "The conspirators exult, and Shakespeare inserts a self-referential joke as Cassius says, \n",
      "The conspirators exult, and Shakespeare inserts a self-referential joke as Cassius says, \n",
      "He declines, pompously speaking of himself in the third person. The group of conspirators then proceeds to stab him.\n",
      "He declines, pompously speaking of himself in the third person. The group of conspirators then proceeds to stab him.\n",
      "Caesar, a great general, is petitioned by several citizens to show clemency to one of his enemies.\n",
      "\"How many ages hence shall this our lofty scene be acted over in states unborn and accents yet unknown!\"\n",
      "\n",
      "\u001b[K\u001b[?1l\u001b>"
     ]
    }
   ],
   "source": [
    "#Combine the files Caesar and Leonidas and save the combined file as kings\n",
    "%cd ~/Desktop/DSE-UCSD/DSE/phesami/DSE200/DSE200-notebooks/data/\n",
    "!cat Caesar Leonidas >Kings\n",
    "#Display the contents of this file using more command\n",
    "!more -d Kings\n",
    "#Sort this file in reverse alphabetic order and display it by piping it into more\n",
    "!sort -fr Kings | more\n",
    " \n"
   ]
  },
  {
   "cell_type": "markdown",
   "metadata": {},
   "source": [
    "### Excercise 5:"
   ]
  },
  {
   "cell_type": "code",
   "execution_count": 111,
   "metadata": {
    "collapsed": false
   },
   "outputs": [
    {
     "name": "stdout",
     "output_type": "stream",
     "text": [
      "CPUTime\n",
      "Caesar\n",
      "Kings\n",
      "Leonidas\n"
     ]
    }
   ],
   "source": [
    "#List all files in your current directory. Make a subDirectory and copy all these files in the subdirectory.\n",
    "!ls -l\n",
    "!mkdir subdir\n",
    "!cp * \\subdir\n",
    "#Write Unix commands to rename all the files to the format - currentDate_originalname\n",
    "%cd subdir\n",
    "today = !date \"+%m-%d-%y\"\n",
    "ls_files = !ls\n",
    "for files in ls_files :\n",
    "    !mv $files $files\"_$today\"\n"
   ]
  },
  {
   "cell_type": "markdown",
   "metadata": {},
   "source": [
    "### Excercise 6:"
   ]
  },
  {
   "cell_type": "code",
   "execution_count": 157,
   "metadata": {
    "collapsed": false
   },
   "outputs": [
    {
     "name": "stdout",
     "output_type": "stream",
     "text": [
      "grep'ed lines sorted based on CPU time is:\n",
      "['CPU-time: 255.97   f95 -O0 formatted I/O', 'CPU-time: 255.90   f95 -O0 formatted I/O', 'CPU-time: 255.28   f95 -O0 formatted I/O', 'CPU-time: 252.47   f95 -O1 formatted I/O', 'CPU-time: 252.40   f95 -O2 formatted I/O', 'CPU-time: 252.15   f95 -O0 formatted I/O', 'CPU-time: 251.43  f95 -O0 formatted I/O']\n"
     ]
    }
   ],
   "source": [
    "#Suppose we have a script that performs numerous efficiency tests. \n",
    "#The output from the script contains lots of information, but our purpose now is to extract information\n",
    "#about the CPU time of each test and sort these CPU times. The output from the tests takes the following form:\n",
    "output = \"\"\"\n",
    "f95 -c -O0  versions/main_wIO.f F77WAVE.f\n",
    "f95 -o app  -static main_wIO.o F77WAVE.o   -lf2c\n",
    "app < input > tmp.out\n",
    "CPU-time: 255.97   f95 -O0 formatted I/O\n",
    "f95 -c -O1  versions/main_wIO.f F77WAVE.f\n",
    "f95 -o app  -static main_wIO.o F77WAVE.o   -lf2c\n",
    "app < input > tmp.out\n",
    "CPU-time: 252.47   f95 -O1 formatted I/O\n",
    "f95 -c -O2  versions/main_wIO.f F77WAVE.f\n",
    "f95 -o app  -static main_wIO.o F77WAVE.o   -lf2c\n",
    "app < input > tmp.out\n",
    "CPU-time: 252.40   f95 -O2 formatted I/O\n",
    "f95 -c -O3  versions/main_wIO.f F77WAVE.f\n",
    "f95 -o app  -static main_wIO.o F77WAVE.o   -lf2c\n",
    "app < input > tmp.out\n",
    "CPU-time: 255.28   f95 -O0 formatted I/O\n",
    "f95 -c -O4  versions/main_wIO.f F77WAVE.f\n",
    "f95 -o app  -static main_wIO.o F77WAVE.o   -lf2c\n",
    "app < input > tmp.out\n",
    "CPU-time: 251.43  f95 -O0 formatted I/O\n",
    "f95 -c -O5  versions/main_wIO.f F77WAVE.f\n",
    "f95 -o app  -static main_wIO.o F77WAVE.o   -lf2c\n",
    "app < input > tmp.out\n",
    "CPU-time: 255.90   f95 -O0 formatted I/O\n",
    "f95 -c -O6  versions/main_wIO.f F77WAVE.f\n",
    "f95 -o app  -static main_wIO.o F77WAVE.o   -lf2c\n",
    "app < input > tmp.out\n",
    "CPU-time: 252.15   f95 -O0 formatted I/O\n",
    "\"\"\"\n",
    "!echo '$output'| cat > CPUTime\n",
    "#First we need to extract the lines starting with CPU-time. \n",
    "lines= !grep ^CPU-time CPUTime\n",
    "\n",
    "\n",
    "#Then we need to sort the extracted lines with respect to the CPU time, which is the number appearing in the second column. \n",
    "#Write a script to accomplish this task. \n",
    "\n",
    "def Tail_sort(a,b):\n",
    "    if a>b:\n",
    "        return 1\n",
    "    elif a<b:\n",
    "        return -1\n",
    "    else:\n",
    "        return 0\n",
    "    \n",
    "\n",
    "for i in range(len(lines)): \n",
    "    for j in range(i, len(lines)):\n",
    "        if Tail_sort(lines[i][:].split()[1], lines[j][:].split()[1])==-1 :\n",
    "            lines[i],lines[j]=lines[j],lines[i]\n",
    "print \"grep'ed lines sorted based on CPU time is:\\n\", lines\n",
    "\n",
    "#Hint: Find the lines with CPU time results by using a string comparison of the first 7 characters \n",
    "#to detect the keyword CPU-time. Then write a tailored sort function for sorting two lines \n",
    "#(extract the CPU time from the second column in both lines and compare the CPU times as floating-point numbers). \n",
    "#A tailored sort function takes two arguments a and b, which hold two list elements. \n",
    "#The sort function returns -1 if a is less than b, 1 if a is greater than b, and 0 otherwise (a equals b)."
   ]
  },
  {
   "cell_type": "markdown",
   "metadata": {},
   "source": [
    "### Excercise 7:"
   ]
  },
  {
   "cell_type": "code",
   "execution_count": 7,
   "metadata": {
    "collapsed": false
   },
   "outputs": [
    {
     "name": "stdout",
     "output_type": "stream",
     "text": [
      "enter the file size X in Mb \n",
      "1\n",
      "enter the number of days Y  \n",
      "0\n",
      "mkdir: /Users/phesami/Desktop/DSE-UCSD/DSE/phesami/DSE200/DSE200-notebooks/data/tmp/trash: File exists\n"
     ]
    }
   ],
   "source": [
    "# Make a copy of your working directory along with its subdirectories and \n",
    "#write unix+python commands that traverses the copied working directory and its subdirectories (recursively) and returns a \n",
    "#list of all files that are larger than X Mb and that have not been accessed the last Y days, \n",
    "#where X and Y are passed as user inputs.\n",
    "\n",
    "#!cp -r ~/Desktop/DSE-UCSD/DSE/phesami/DSE200/DSE200-notebooks/data/ ~/Desktop/DSE-UCSD/DSE/phesami/DSE200/DSE200-notebooks/data/copied_dir\n",
    "#%cd copied_dir/\n",
    "X = input(\"enter the file size X in Mb \\n\")\n",
    "Y = input(\"enter the number of days Y  \\n\")\n",
    "!find /Users/phesami/Documents/DSE/phesami/DSE200/data/copied_dir -type f -size +\"$X\"M -atime +\"$Y\"\n",
    "\n",
    "#Include an option in this function that moves the files to a subdirectory trash under /tmp \n",
    "#(you need to create trash if it does not exist).\n",
    "\n",
    "!mkdir ~/Desktop/DSE-UCSD/DSE/phesami/DSE200/DSE200-notebooks/data/tmp/trash\n",
    "#!find ~/Desktop/DSE-UCSD/DSE/phesami/DSE200/DSE200-notebooks/data/copied_dir -type f -size +\"$X\"M -atime +\"$Y\" -exec mv {} ~/Desktop/DSE-UCSD/DSE/phesami/DSE200/DSE200-notebooks/data/tmp/trash/ \\;\n"
   ]
  }
 ],
 "metadata": {
  "kernelspec": {
   "display_name": "Python 2",
   "language": "python",
   "name": "python2"
  },
  "language_info": {
   "codemirror_mode": {
    "name": "ipython",
    "version": 2
   },
   "file_extension": ".py",
   "mimetype": "text/x-python",
   "name": "python",
   "nbconvert_exporter": "python",
   "pygments_lexer": "ipython2",
   "version": "2.7.10"
  }
 },
 "nbformat": 4,
 "nbformat_minor": 0
}
