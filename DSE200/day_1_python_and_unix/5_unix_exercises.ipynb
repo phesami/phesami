{
 "cells": [
  {
   "cell_type": "markdown",
   "metadata": {},
   "source": [
    "### Excercise 1: reconstruct a file from segments."
   ]
  },
  {
   "cell_type": "markdown",
   "metadata": {},
   "source": [
    "Each of the files F* is a short segment of the original text file.\n",
    "\n",
    "The format of the file is `(n1: 5 char int),(n2: 5 char int),string`\n",
    "The string represents the content of the file in the range `[n1:n2]`\n",
    "\n",
    "Your task is to reconstruct the original file."
   ]
  },
  {
   "cell_type": "code",
   "execution_count": 8,
   "metadata": {
    "collapsed": false
   },
   "outputs": [
    {
     "name": "stdout",
     "output_type": "stream",
     "text": [
      "/Users/phesami/Documents/DSE/phesami/DSE200/data/NLTK/Chopped\n"
     ]
    }
   ],
   "source": [
    "%cd ~/Documents/DSE/phesami/DSE200/data/NLTK/Chopped/"
   ]
  },
  {
   "cell_type": "code",
   "execution_count": 10,
   "metadata": {
    "collapsed": false,
    "scrolled": false
   },
   "outputs": [
    {
     "name": "stdout",
     "output_type": "stream",
     "text": [
      "The Fulton County Grand Jury said Friday an investigation ofAtl anta's recent primary election produced `` no evidence '' that any irregularities took place . The jury furthersa id interm-en d presentmentsthat the City Execu tive Committee , which had over-all charge of theel ection , `` deservest he praise and thanksof the City of Atlanta '' for the manner in which the ele ction was conducted . The September-October term juryhad been cha rged by Fulton Superior Court Judge Durwood Pye to investigate reports of possible `` irregularities '' inthe hard-fought  primary which was won by Mayor-nominateIvan Allen Jr. . ` ` Only a relative handful of such reports wasreceived ''  , the jury said , `` considering the widespread interest in the election , the number of voters and the sizeo f this city '' . Thejury said it did find that  manyof Georgi a's registrationand elec tionla ws ``ar e outmoded or inadequate and often ambiguous '' . It recommended that Fulton legislatorsact `` to have these la ws studied and revised to theend of moderniz ing and improving them '' . The grand jury commented on a numberof other topics ,  among them theAtlant aand Ful ton County purchasing departments which itsaid `` are well  operated and follow generally accepted practices which inure to the best interest of bothgovern ments ''. Merger prop osed However , the jury said it believes `` these two offices should be combined to achieve greater efficiency and reduce the costof adm inistration ''. The City Purchasi ng Department, the jury said ,  `` is lacking in experiencedcler ical personnel as a result of city personnelp olicies '' .                                                                                                                                                 \n"
     ]
    }
   ],
   "source": [
    "import re\n",
    "import operator\n",
    "reconstructed_text=[' ']*1636\n",
    "Line =!cat F*\n",
    "text_dict={}\n",
    "for i in range(len(Line)):\n",
    "        line = Line[i]\n",
    "        splitted_line = line.split()\n",
    "        try:\n",
    "            col_from = int(splitted_line[0])\n",
    "            col_to_raw = splitted_line[1]\n",
    "            r = re.match(r\"([0-9]+)([a-zA-Z-.'`,]+)\",col_to_raw)\n",
    "            if r:\n",
    "                col_to = int(r.group(1))-1\n",
    "                chopped_text= [r.group(2).strip()]+splitted_line[2:]\n",
    "            else: \n",
    "                col_to = int(col_to_raw)-1\n",
    "                chopped_text= splitted_line[2:]\n",
    "        except ValueError:\n",
    "            print 'file does not exist, skipped'\n",
    "        joined_text = \" \".join(chopped_text)\n",
    "        text_dict.update({(col_from, col_to): joined_text})\n",
    "\n",
    "text_dict_sorted=sorted(text_dict.items(), key=operator.itemgetter(0))\n",
    "for i in range(len(Line)):\n",
    "    reconstructed_text[text_dict_sorted [i][0][0]:text_dict_sorted [i][0][1]] = text_dict_sorted [i][1] \n",
    "print ''.join(reconstructed_text)\n"
   ]
  },
  {
   "cell_type": "markdown",
   "metadata": {},
   "source": [
    "### Excercise 2:"
   ]
  },
  {
   "cell_type": "code",
   "execution_count": 11,
   "metadata": {
    "collapsed": false
   },
   "outputs": [
    {
     "name": "stdout",
     "output_type": "stream",
     "text": [
      "/Users/phesami/Documents/DSE/phesami/DSE200/data\n",
      "Caesar: ASCII English text\n",
      "1\n",
      "Leonidas, a great general, is petitioned by several citizens to show clemency to one of his enemies.\n",
      "He declines, pompously speaking of himself in the third person. The group of conspirators then proceeds to stab him.\n",
      "With his dying breath he gasps, \"Et tu, Brute? (\"And you, Brutus?\") Thus falls Leonidas.\" \n",
      "The conspirators exult, and Shakespeare inserts a self-referential joke as Cassius says, \n",
      "\"How many ages hence shall this our lofty scene be acted over in states unborn and accents yet unknown!\"\n",
      "\n"
     ]
    }
   ],
   "source": [
    "#Issue a UNIX command to create a file called Caesar that contains the following lines (include the mistakes!!)\n",
    "\n",
    "Text = \"\"\"Caesar, a great general, is petitioned by several citizens to show clemency to one of his enemies.\n",
    "He declines, pompously speaking of himself in the third person. The group of conspirators then proceeds to stab him.\n",
    "With his dying breath he gasps, \"Et tu, Brute? (\"And you, Brutus?\") Thus falls Caesar.\" \n",
    "The conspirators exult, and Shakespeare inserts a self-referential joke as Cassius says, \n",
    "\"How many ages hence shall this our lofty scene be acted over in states unborn and accents yet unknown!\"\n",
    "\"\"\"\n",
    "%cd ~/Documents/DSE/phesami/DSE200/data\n",
    "!echo '$Text'| cat > Caesar\n",
    "#Change the permissions of this file to 666\n",
    "!chmod 666 Caesar \n",
    "#Issue a UNIX command to determine the file type\n",
    "!file Caesar\n",
    "#Isue a uniix comannd to count the number of words in the above text that contains no vowels\n",
    "!grep -icv [aeiou] Caesar\n",
    "#Replace the word Caesar wherever it is found in the entire text to Leonidas\n",
    "!sed s/Caesar/Leonidas/g Caesar\n",
    "#Make a copy of the above file without the first and last lines of the text and rename this file to Leonidas\n",
    "!sed -n '2,4p' Caesar>Leonidas\n",
    "\n",
    "\n"
   ]
  },
  {
   "cell_type": "markdown",
   "metadata": {},
   "source": [
    "### Excercise 3:"
   ]
  },
  {
   "cell_type": "code",
   "execution_count": 12,
   "metadata": {
    "collapsed": false
   },
   "outputs": [
    {
     "name": "stdout",
     "output_type": "stream",
     "text": [
      "       6      82     501 Caesar\n",
      "       6 Caesar\n",
      "CPUTime  Caesar   Kings    Leonidas\n",
      "\n",
      "NLTK:\n",
      "BrownNews.txt \u001b[1m\u001b[34mChopped\u001b[m\u001b[m\n",
      "\n",
      "SQL:\n",
      "data.csv         usa_lat_long.csv\n",
      "\n",
      "ThinkStatsData:\n",
      "2002FemPreg.dat 2002FemResp.dat 2002Male.dat    cut55-56        survey.pl\n"
     ]
    }
   ],
   "source": [
    "#What is the command to count lines,words and characters in a file and how do you make this comand display only linecount?\n",
    "!wc Caesar\n",
    "!wc -l Caesar\n",
    "#Also write a single command that lists the files in the current directory that begin with upper case letters\n",
    "!ls [A-Z]*"
   ]
  },
  {
   "cell_type": "markdown",
   "metadata": {},
   "source": [
    "### Excercise 4:"
   ]
  },
  {
   "cell_type": "code",
   "execution_count": 143,
   "metadata": {
    "collapsed": false
   },
   "outputs": [
    {
     "name": "stdout",
     "output_type": "stream",
     "text": [
      "\u001b[?1h\u001b=Caesar, a great general, is petitioned by several citizens to show clemency to one of his enemies.\n",
      "He declines, pompously speaking of himself in the third person. The group of conspirators then proceeds to stab him.\n",
      "With his dying breath he gasps, \"Et tu, Brute? (\"And you, Brutus?\") Thus falls Caesar.\" \n",
      "The conspirators exult, and Shakespeare inserts a self-referential joke as Cassius says, \n",
      "\"How many ages hence shall this our lofty scene be acted over in states unborn and accents yet unknown!\"\n",
      "\n",
      "He declines, pompously speaking of himself in the third person. The group of conspirators then proceeds to stab him.\n",
      "With his dying breath he gasps, \"Et tu, Brute? (\"And you, Brutus?\") Thus falls Caesar.\" \n",
      "The conspirators exult, and Shakespeare inserts a self-referential joke as Cassius says, \n",
      "\u001b[K\u001b[?1l\u001b>you\tyou\tyet\tWith\tWith\tunknown\tunborn\ttu\ttu\tto\tto\tto\tto\tThus\tThus\tthis\tthird\tthird\tthen\tthen\tthe\tthe\tThe\tThe\tThe\tThe\tstates\tstab\tstab\tspeaking\tspeaking\tshow\tshall\tShakespeare\tShakespeare\tseveral\tself\tself\tscene\tsays\tsays\treferential\treferential\tproceeds\tproceeds\tpompously\tpompously\tpetitioned\tperson\tperson\tover\tour\tone\tof\tof\tof\tof\tof\tmany\tlofty\tjoke\tjoke\tis\tinserts\tinserts\tin\tin\tin\tHow\this\this\this\thimself\thimself\thim\thim\thence\the\the\tHe\tHe\tgroup\tgroup\tgreat\tgeneral\tgasps\tgasps\tfalls\tfalls\texult\texult\tEt\tEt\tenemies\tdying\tdying\tdeclines\tdeclines\tconspirators\tconspirators\tconspirators\tconspirators\tclemency\tcitizens\tCassius\tCassius\tCaesar\tCaesar\tCaesar\tby\tBrutus\tBrutus\tBrute\tBrute\tbreath\tbreath\tbe\tas\tas\tand\tand\tand\tAnd\tAnd\tages\tacted\taccents\ta\ta\ta\t\t\t\t\t\t\t\t\t\t\t\t\t\t\t\t\t\t\t\t\t\t\t\t\t\t\t\t\t\t\t\t\t\t\t\t\t\t\t\t\t\t\t\t\t\t"
     ]
    }
   ],
   "source": [
    "#Combine the files Caesar and Leonidas and save the combined file as kings\n",
    "!cat Caesar Leonidas >Kings\n",
    "#Display the contents of this file using more command\n",
    "!more -s Kings\n",
    "#Sort this file in reverse alphabetic order and display it by piping it into more\n",
    "#!sort -fr Kings | more\n",
    "!more -s Kings| tr  \"[:punct:][:space:]\" '\\n'|sort -fr|tr  '\\n' [:blank:]\n",
    "\n"
   ]
  },
  {
   "cell_type": "markdown",
   "metadata": {},
   "source": [
    "### Excercise 5:"
   ]
  },
  {
   "cell_type": "code",
   "execution_count": 26,
   "metadata": {
    "collapsed": false
   },
   "outputs": [
    {
     "name": "stdout",
     "output_type": "stream",
     "text": [
      "/Users/phesami/Documents/DSE/phesami/DSE200/data\n",
      "total 40\n",
      "-rw-r--r--   1 phesami  staff  1079 Oct  7 22:01 CPUTime\n",
      "-rw-rw-rw-   1 phesami  staff   501 Oct 14 21:09 Caesar\n",
      "-rw-r--r--   1 phesami  staff   797 Oct 14 21:10 Kings\n",
      "-rw-r--r--   1 phesami  staff   296 Oct 14 21:10 Leonidas\n",
      "drwxr-xr-x   5 phesami  staff   170 Oct  4 13:52 \u001b[1m\u001b[34mNLTK\u001b[m\u001b[m\n",
      "drwxr-xr-x   4 phesami  staff   136 Oct  2 09:37 \u001b[1m\u001b[34mSQL\u001b[m\u001b[m\n",
      "drwxr-xr-x   9 phesami  staff   306 Oct  3 13:16 \u001b[1m\u001b[34mThinkStatsData\u001b[m\u001b[m\n",
      "drwxr-xr-x  17 phesami  staff   578 Oct 10 13:06 \u001b[1m\u001b[34mcopied_dir\u001b[m\u001b[m\n",
      "drwxr-xr-x  11 phesami  staff   374 Oct  2 15:16 \u001b[1m\u001b[34meconomics\u001b[m\u001b[m\n",
      "-rw-r--r--   1 phesami  staff   393 Oct 10 19:27 sorted_TEXT.csv\n",
      "drwxr-xr-x   3 phesami  staff   102 Oct 10 13:11 \u001b[1m\u001b[34mtmp\u001b[m\u001b[m\n",
      "drwxr-xr-x   5 phesami  staff   170 Oct  2 09:37 \u001b[1m\u001b[34mtwitter-diversity\u001b[m\u001b[m\n",
      "drwxr-xr-x  13 phesami  staff   442 Oct  2 09:37 \u001b[1m\u001b[34mweather\u001b[m\u001b[m\n",
      "cp: NLTK is a directory (not copied).\n",
      "cp: SQL is a directory (not copied).\n",
      "cp: ThinkStatsData is a directory (not copied).\n",
      "cp: copied_dir is a directory (not copied).\n",
      "cp: economics is a directory (not copied).\n",
      "cp: subdir is a directory (not copied).\n",
      "cp: tmp is a directory (not copied).\n",
      "cp: twitter-diversity is a directory (not copied).\n",
      "cp: weather is a directory (not copied).\n",
      "/Users/phesami/Documents/DSE/phesami/DSE200/data/subdir\n"
     ]
    }
   ],
   "source": [
    "#List all files in your current directory. Make a subDirectory and copy all these files in the subdirectory.\n",
    "%cd ~/Documents/DSE/phesami/DSE200/data\n",
    "!ls -l\n",
    "!mkdir subdir\n",
    "!cp * \\subdir\n",
    "#Write Unix commands to rename all the files to the format - currentDate_originalname\n",
    "%cd subdir\n",
    "today = !date \"+%m-%d-%y\"\n",
    "ls_files = !ls\n",
    "for files in ls_files :\n",
    "    !mv \"$files\" \"$files\"_$today\"\"\n"
   ]
  },
  {
   "cell_type": "markdown",
   "metadata": {},
   "source": [
    "### Excercise 6:"
   ]
  },
  {
   "cell_type": "code",
   "execution_count": 27,
   "metadata": {
    "collapsed": false
   },
   "outputs": [
    {
     "name": "stdout",
     "output_type": "stream",
     "text": [
      "/Users/phesami/Documents/DSE/phesami/DSE200/data\n",
      "grep'ed lines sorted based on CPU time is:\n",
      "['CPU-time: 255.97   f95 -O0 formatted I/O', 'CPU-time: 255.90   f95 -O0 formatted I/O', 'CPU-time: 255.28   f95 -O0 formatted I/O', 'CPU-time: 252.47   f95 -O1 formatted I/O', 'CPU-time: 252.40   f95 -O2 formatted I/O', 'CPU-time: 252.15   f95 -O0 formatted I/O', 'CPU-time: 251.43  f95 -O0 formatted I/O']\n"
     ]
    }
   ],
   "source": [
    "#Suppose we have a script that performs numerous efficiency tests. \n",
    "#The output from the script contains lots of information, but our purpose now is to extract information\n",
    "#about the CPU time of each test and sort these CPU times. The output from the tests takes the following form:\n",
    "output = \"\"\"\n",
    "f95 -c -O0  versions/main_wIO.f F77WAVE.f\n",
    "f95 -o app  -static main_wIO.o F77WAVE.o   -lf2c\n",
    "app < input > tmp.out\n",
    "CPU-time: 255.97   f95 -O0 formatted I/O\n",
    "f95 -c -O1  versions/main_wIO.f F77WAVE.f\n",
    "f95 -o app  -static main_wIO.o F77WAVE.o   -lf2c\n",
    "app < input > tmp.out\n",
    "CPU-time: 252.47   f95 -O1 formatted I/O\n",
    "f95 -c -O2  versions/main_wIO.f F77WAVE.f\n",
    "f95 -o app  -static main_wIO.o F77WAVE.o   -lf2c\n",
    "app < input > tmp.out\n",
    "CPU-time: 252.40   f95 -O2 formatted I/O\n",
    "f95 -c -O3  versions/main_wIO.f F77WAVE.f\n",
    "f95 -o app  -static main_wIO.o F77WAVE.o   -lf2c\n",
    "app < input > tmp.out\n",
    "CPU-time: 255.28   f95 -O0 formatted I/O\n",
    "f95 -c -O4  versions/main_wIO.f F77WAVE.f\n",
    "f95 -o app  -static main_wIO.o F77WAVE.o   -lf2c\n",
    "app < input > tmp.out\n",
    "CPU-time: 251.43  f95 -O0 formatted I/O\n",
    "f95 -c -O5  versions/main_wIO.f F77WAVE.f\n",
    "f95 -o app  -static main_wIO.o F77WAVE.o   -lf2c\n",
    "app < input > tmp.out\n",
    "CPU-time: 255.90   f95 -O0 formatted I/O\n",
    "f95 -c -O6  versions/main_wIO.f F77WAVE.f\n",
    "f95 -o app  -static main_wIO.o F77WAVE.o   -lf2c\n",
    "app < input > tmp.out\n",
    "CPU-time: 252.15   f95 -O0 formatted I/O\n",
    "\"\"\"\n",
    "%cd ~/Documents/DSE/phesami/DSE200/data\n",
    "!echo '$output'| cat > CPUTime\n",
    "#First we need to extract the lines starting with CPU-time. \n",
    "lines= !grep ^CPU-time CPUTime\n",
    "\n",
    "\n",
    "#Then we need to sort the extracted lines with respect to the CPU time, which is the number appearing in the second column. \n",
    "#Write a script to accomplish this task. \n",
    "\n",
    "def Tail_sort(a,b):\n",
    "    if a>b:\n",
    "        return 1\n",
    "    elif a<b:\n",
    "        return -1\n",
    "    else:\n",
    "        return 0\n",
    "    \n",
    "\n",
    "for i in range(len(lines)): \n",
    "    for j in range(i, len(lines)):\n",
    "        if Tail_sort(lines[i][:].split()[1], lines[j][:].split()[1])==-1 :\n",
    "            lines[i],lines[j]=lines[j],lines[i]\n",
    "print \"grep'ed lines sorted based on CPU time is:\\n\", lines\n",
    "\n",
    "#Hint: Find the lines with CPU time results by using a string comparison of the first 7 characters \n",
    "#to detect the keyword CPU-time. Then write a tailored sort function for sorting two lines \n",
    "#(extract the CPU time from the second column in both lines and compare the CPU times as floating-point numbers). \n",
    "#A tailored sort function takes two arguments a and b, which hold two list elements. \n",
    "#The sort function returns -1 if a is less than b, 1 if a is greater than b, and 0 otherwise (a equals b)."
   ]
  },
  {
   "cell_type": "markdown",
   "metadata": {},
   "source": [
    "### Excercise 7:"
   ]
  },
  {
   "cell_type": "code",
   "execution_count": 81,
   "metadata": {
    "collapsed": false
   },
   "outputs": [
    {
     "name": "stdout",
     "output_type": "stream",
     "text": [
      "/Users/phesami/Documents/DSE/phesami/DSE200/data\n",
      "/Users/phesami/Documents/DSE/phesami/DSE200/data/copied_dir\n",
      "enter the file size X in Mb \n",
      "1\n",
      "enter the number of days Y  \n",
      "0\n",
      "mkdir: /Users/phesami/Documents/DSE/phesami/DSE200/data/tmp/trash: File exists\n"
     ]
    }
   ],
   "source": [
    "# Make a copy of your working directory along with its subdirectories and \n",
    "#write unix+python commands that traverses the copied working directory and its subdirectories (recursively) and returns a \n",
    "#list of all files that are larger than X Mb and that have not been accessed the last Y days, \n",
    "#where X and Y are passed as user inputs.\n",
    "%cd ~/Documents/DSE/phesami/DSE200/data\n",
    "#!cp -r ~/Documents/DSE/phesami/DSE200/data/ ~/Documents/DSE/phesami/DSE200/data/copied_dir\n",
    "%cd copied_dir/\n",
    "#!rm -rf copied_dir/\n",
    "X = input(\"enter the file size X in Mb \\n\")\n",
    "Y = input(\"enter the number of days Y  \\n\")\n",
    "!find . -type f -size +$X\"M\" -atime $Y\n",
    "\n",
    "#Include an option in this function that moves the files to a subdirectory trash under /tmp \n",
    "#(you need to create trash if it does not exist).\n",
    "\n",
    "!mkdir ~/Documents/DSE/phesami/DSE200/data/tmp/trash\n",
    "!find . -type f -size +1M -atime 0 -exec mv {} ~/Documents/DSE/phesami/DSE200/data/tmp/trash/ \\;\n"
   ]
  },
  {
   "cell_type": "code",
   "execution_count": null,
   "metadata": {
    "collapsed": true
   },
   "outputs": [],
   "source": []
  }
 ],
 "metadata": {
  "kernelspec": {
   "display_name": "Python 2",
   "language": "python",
   "name": "python2"
  },
  "language_info": {
   "codemirror_mode": {
    "name": "ipython",
    "version": 2
   },
   "file_extension": ".py",
   "mimetype": "text/x-python",
   "name": "python",
   "nbconvert_exporter": "python",
   "pygments_lexer": "ipython2",
   "version": "2.7.10"
  }
 },
 "nbformat": 4,
 "nbformat_minor": 0
}
