{
 "cells": [
  {
   "cell_type": "markdown",
   "metadata": {},
   "source": [
    "#DSE 200 Final Exam\n",
    "There are **seven** problems listed below in approximatly increacing difficulty and length.\n",
    "Most problems involve just a couple lines of code denoted by comments within the code.\n",
    "If a problem seems to require a ton of code you are likely over thinking it and should try to find a simpler solution.\n",
    "\n",
    "Here are the topics of each problem:\n",
    "1. Exception Handling\n",
    "2. Unix Piping\n",
    "3. Directory Walking\n",
    "4. Linear Regression\n",
    "5. Object Oriented Model Selection\n",
    "6. Scraping\n",
    "7. Matplotlib\n",
    "\n",
    "This test is open internet; however, communication with your peers/others is strictly prohibited.  \n",
    "\n",
    "Good Luck!"
   ]
  },
  {
   "cell_type": "markdown",
   "metadata": {},
   "source": [
    "##Exception Handling\n",
    "\n",
    "Write a function to add two numbers, if either of the arguements is not an int or float, throw a new ArguementsMustBeNumbers exception."
   ]
  },
  {
   "cell_type": "code",
   "execution_count": 2,
   "metadata": {
    "collapsed": false
   },
   "outputs": [],
   "source": [
    "class ArguementsMustBeNumbers(Exception):\n",
    "    None"
   ]
  },
  {
   "cell_type": "code",
   "execution_count": 6,
   "metadata": {
    "collapsed": false
   },
   "outputs": [
    {
     "data": {
      "text/plain": [
       "True"
      ]
     },
     "execution_count": 6,
     "metadata": {},
     "output_type": "execute_result"
    }
   ],
   "source": [
    "x=1\n",
    "type(x) in [float,int]"
   ]
  },
  {
   "cell_type": "code",
   "execution_count": 426,
   "metadata": {
    "collapsed": false
   },
   "outputs": [],
   "source": [
    "def add_two(x,y):\n",
    "    if (type(x) not in [float,int] or type(y) not in [float,int]):#Check types of x and y\n",
    "        raise ArguementsMustBeNumbers()\n",
    "    return x+y\n"
   ]
  },
  {
   "cell_type": "markdown",
   "metadata": {},
   "source": [
    "After this code is correctly implemented, the following code should print True 4 times (no exceptions should be uncaught)."
   ]
  },
  {
   "cell_type": "code",
   "execution_count": 427,
   "metadata": {
    "collapsed": false
   },
   "outputs": [
    {
     "name": "stdout",
     "output_type": "stream",
     "text": [
      "True\n",
      "True\n",
      "True\n",
      "True\n"
     ]
    }
   ],
   "source": [
    "print add_two(1,1)==2\n",
    "try:\n",
    "    add_two(\"t\",1)\n",
    "    print False\n",
    "except ArguementsMustBeNumbers:\n",
    "    print True\n",
    "try:\n",
    "    add_two(2,\"f\")\n",
    "    print False\n",
    "except ArguementsMustBeNumbers:\n",
    "    print True\n",
    "try:\n",
    "    add_two(\"t\",\"f\")\n",
    "    print False\n",
    "except ArguementsMustBeNumbers:\n",
    "    print True"
   ]
  },
  {
   "cell_type": "markdown",
   "metadata": {},
   "source": [
    "##Unix Piping \n",
    "\n",
    "Below we generate a file called ps_out which contains a details about all processes on our machine.  In particular it is a csv file containing the PID, Username which owns the process, and the percent of the CPU time occupied by it.\n",
    "\n",
    "We'll ask you to process this file using unix tools."
   ]
  },
  {
   "cell_type": "code",
   "execution_count": 428,
   "metadata": {
    "collapsed": false
   },
   "outputs": [
    {
     "name": "stdout",
     "output_type": "stream",
     "text": [
      "PID,USER,%CPU\r\n",
      "1,root,0.0\r\n",
      "43,root,0.0\r\n",
      "44,root,0.0\r\n",
      "46,root,0.0\r\n",
      "47,root,0.0\r\n",
      "51,_appleevents,0.0\r\n",
      "52,root,0.0\r\n",
      "53,root,0.0\r\n",
      "59,root,0.0\r\n"
     ]
    }
   ],
   "source": [
    "#Do not modify this section\n",
    "!ps -Ao \"pid,user,%cpu\" | sed \"s/^ *//\" | sed \"s/  */,/g\" > ps_out\n",
    "!head ps_out"
   ]
  },
  {
   "cell_type": "markdown",
   "metadata": {},
   "source": [
    "First, using **only unix tools**, count the number of processes each user is running"
   ]
  },
  {
   "cell_type": "code",
   "execution_count": 431,
   "metadata": {
    "collapsed": false
   },
   "outputs": [
    {
     "data": {
      "text/plain": [
       "['USER',\n",
       " '_appleevents',\n",
       " '_coreaudiod',\n",
       " '_distnote',\n",
       " '_locationd',\n",
       " '_mdnsresponder',\n",
       " '_netbios',\n",
       " '_networkd',\n",
       " '_nsurlstoraged',\n",
       " '_softwareupdate',\n",
       " '_spotlight',\n",
       " '_usbmuxd',\n",
       " '_windowserver',\n",
       " 'phesami',\n",
       " 'root']"
      ]
     },
     "execution_count": 431,
     "metadata": {},
     "output_type": "execute_result"
    }
   ],
   "source": [
    "#Extracting the unique users\n",
    "users= !cat ps_out| awk -F ,  '{print $2}' ps_out| sort -u\n",
    "users"
   ]
  },
  {
   "cell_type": "code",
   "execution_count": 432,
   "metadata": {
    "collapsed": false
   },
   "outputs": [
    {
     "name": "stdout",
     "output_type": "stream",
     "text": [
      "Number of process that _appleevents is running is: \n",
      "\n",
      "1\n",
      "Number of process that _coreaudiod is running is: \n",
      "\n",
      "1\n",
      "Number of process that _distnote is running is: \n",
      "\n",
      "1\n",
      "Number of process that _locationd is running is: \n",
      "\n",
      "1\n",
      "Number of process that _mdnsresponder is running is: \n",
      "\n",
      "1\n",
      "Number of process that _netbios is running is: \n",
      "\n",
      "1\n",
      "Number of process that _networkd is running is: \n",
      "\n",
      "2\n",
      "Number of process that _nsurlstoraged is running is: \n",
      "\n",
      "1\n",
      "Number of process that _softwareupdate is running is: \n",
      "\n",
      "2\n",
      "Number of process that _spotlight is running is: \n",
      "\n",
      "4\n",
      "Number of process that _usbmuxd is running is: \n",
      "\n",
      "1\n",
      "Number of process that _windowserver is running is: \n",
      "\n",
      "1\n",
      "Number of process that phesami is running is: \n",
      "\n",
      "129\n",
      "Number of process that  root is running is: \n",
      "\n",
      "73\n"
     ]
    }
   ],
   "source": [
    "for user in users[1:]:\n",
    "    print \"Number of process that %5s is running is: \\n\" %(user)\n",
    "    !cat ps_out |grep -c $user #TODO"
   ]
  },
  {
   "cell_type": "markdown",
   "metadata": {},
   "source": [
    "Second, using **only unix tools**, find the pid which is using the largest cpu %.\n",
    "\n",
    "Your output should only be a single number (the process id consuming the largest cpu amount), i.e. `30048`"
   ]
  },
  {
   "cell_type": "code",
   "execution_count": 435,
   "metadata": {
    "collapsed": false
   },
   "outputs": [
    {
     "name": "stdout",
     "output_type": "stream",
     "text": [
      "41741\r\n"
     ]
    }
   ],
   "source": [
    "!cat ps_out |sort -k 3 -t , -fr | head -n 1 |cut -d \",\" -f1 #TODO"
   ]
  },
  {
   "cell_type": "markdown",
   "metadata": {},
   "source": [
    "##Directory Walking\n",
    "\n",
    "Below we have written a program which uses os.walk, unix tools, and python to find the 3 longest files by line count within each directory under the /etc/ directory.\n",
    "\n",
    "However, it is currently has several problems which you are tasked with fixing.\n",
    "\n",
    "Here are the current problems which must be fixed:\n",
    "\n",
    "1. the output is not sorted by line count\n",
    "2. the \"total\" line listing the total lines across the directory is not a file and should be removed\n",
    "3. more than three files are being printed\n",
    "4. directories that contain no files are being printed\n",
    "\n",
    "These issues should be resolved by using a combintation of python and or unix commands.  Please ensure the output format is not changed."
   ]
  },
  {
   "cell_type": "code",
   "execution_count": 436,
   "metadata": {
    "collapsed": false,
    "scrolled": false
   },
   "outputs": [
    {
     "name": "stdout",
     "output_type": "stream",
     "text": [
      "Longest files in /etc/:\n",
      "\t/etc//afpovertcp.cfg\t\n",
      "\t/etc//afpovertcp.cfg\t\n",
      "\t/etc//afpovertcp.cfg\t\n",
      "\n",
      "Longest files in /etc/apache2:\n",
      "\t/etc/apache2/httpd.conf\t\n",
      "\t/etc/apache2/httpd.conf\t\n",
      "\t/etc/apache2/httpd.conf\t\n",
      "\n",
      "Longest files in /etc/apache2/extra:\n",
      "\t/etc/apache2/extra/httpd-autoindex.conf\t\n",
      "\t/etc/apache2/extra/httpd-autoindex.conf\t\n",
      "\t/etc/apache2/extra/httpd-autoindex.conf\t\n",
      "\n",
      "Longest files in /etc/apache2/original:\n",
      "\t/etc/apache2/original/httpd.conf\t\n",
      "\t/etc/apache2/original/httpd.conf\t\n",
      "\t/etc/apache2/original/httpd.conf\t\n",
      "\n",
      "Longest files in /etc/apache2/original/extra:\n",
      "\t/etc/apache2/original/extra/httpd-autoindex.conf\t\n",
      "\t/etc/apache2/original/extra/httpd-autoindex.conf\t\n",
      "\t/etc/apache2/original/extra/httpd-autoindex.conf\t\n",
      "\n",
      "Longest files in /etc/apache2/other:\n",
      "\t/etc/apache2/other/php5.conf\t\n",
      "\t/etc/apache2/other/php5.conf\t\n",
      "\t/etc/apache2/other/php5.conf\t\n",
      "\n",
      "Longest files in /etc/apache2/users:\n",
      "\t/etc/apache2/users/phesami.conf\t\n",
      "\t/etc/apache2/users/phesami.conf\t\n",
      "\t/etc/apache2/users/phesami.conf\t\n",
      "\n",
      "Longest files in /etc/asl:\n",
      "\t/etc/asl/com.apple.AccountPolicyHelper\t\n",
      "\t/etc/asl/com.apple.AccountPolicyHelper\t\n",
      "\t/etc/asl/com.apple.AccountPolicyHelper\t\n",
      "\n",
      "Longest files in /etc/cups:\n",
      "\t/etc/cups/cups-files.conf\t\n",
      "\t/etc/cups/cups-files.conf\t\n",
      "\t/etc/cups/cups-files.conf\t\n",
      "\n",
      "Longest files in /etc/cups/ppd:\n",
      "\t/etc/cups/ppd/_129_74_156_147.ppd\t\n",
      "\t/etc/cups/ppd/_129_74_156_147.ppd\t\n",
      "\t/etc/cups/ppd/_129_74_156_147.ppd\t\n",
      "\n",
      "Longest files in /etc/defaults:\n",
      "\t/etc/defaults/periodic.conf\t\n",
      "\t/etc/defaults/periodic.conf\t\n",
      "\t/etc/defaults/periodic.conf\t\n",
      "\n",
      "Longest files in /etc/emond.d:\n",
      "\t/etc/emond.d/emond.plist\t\n",
      "\t/etc/emond.d/emond.plist\t\n",
      "\t/etc/emond.d/emond.plist\t\n",
      "\n",
      "Longest files in /etc/emond.d/rules:\n",
      "\t/etc/emond.d/rules/SampleRules.plist\t\n",
      "\t/etc/emond.d/rules/SampleRules.plist\t\n",
      "\t/etc/emond.d/rules/SampleRules.plist\t\n",
      "\n",
      "Longest files in /etc/manpaths.d:\n",
      "\t/etc/manpaths.d/40-XQuartz\t\n",
      "\t/etc/manpaths.d/40-XQuartz\t\n",
      "\t/etc/manpaths.d/40-XQuartz\t\n",
      "\n",
      "Longest files in /etc/newsyslog.d:\n",
      "\t/etc/newsyslog.d/com.apple.slapconfig.conf\t\n",
      "\t/etc/newsyslog.d/com.apple.slapconfig.conf\t\n",
      "\t/etc/newsyslog.d/com.apple.slapconfig.conf\t\n",
      "\n",
      "Longest files in /etc/openldap:\n",
      "\t/etc/openldap/AppleOpenLDAP.plist\t\n",
      "\t/etc/openldap/AppleOpenLDAP.plist\t\n",
      "\t/etc/openldap/AppleOpenLDAP.plist\t\n",
      "\n",
      "Longest files in /etc/openldap/schema:\n",
      "\t/etc/openldap/schema/README\t\n",
      "\t/etc/openldap/schema/README\t\n",
      "\t/etc/openldap/schema/README\t\n",
      "\n",
      "Longest files in /etc/pam.d:\n",
      "\t/etc/pam.d/authorization\t\n",
      "\t/etc/pam.d/authorization\t\n",
      "\t/etc/pam.d/authorization\t\n",
      "\n",
      "Longest files in /etc/paths.d:\n",
      "\t/etc/paths.d/40-XQuartz\t\n",
      "\t/etc/paths.d/40-XQuartz\t\n",
      "\t/etc/paths.d/40-XQuartz\t\n",
      "\n",
      "Longest files in /etc/periodic:\n",
      "\ttotal\t\n",
      "\ttotal\t\n",
      "\ttotal\t\n",
      "\n",
      "Longest files in /etc/periodic/daily:\n",
      "\t/etc/periodic/daily/110.clean-tmps\t\n",
      "\t/etc/periodic/daily/110.clean-tmps\t\n",
      "\t/etc/periodic/daily/110.clean-tmps\t\n",
      "\n",
      "Longest files in /etc/periodic/monthly:\n",
      "\t/etc/periodic/monthly/199.rotate-fax\t\n",
      "\t/etc/periodic/monthly/199.rotate-fax\t\n",
      "\t/etc/periodic/monthly/199.rotate-fax\t\n",
      "\n",
      "Longest files in /etc/periodic/weekly:\n",
      "\t/etc/periodic/weekly/320.whatis\t\n",
      "\t/etc/periodic/weekly/320.whatis\t\n",
      "\t/etc/periodic/weekly/320.whatis\t\n",
      "\n",
      "Longest files in /etc/pf.anchors:\n",
      "\t/etc/pf.anchors/com.apple\t\n",
      "\t/etc/pf.anchors/com.apple\t\n",
      "\t/etc/pf.anchors/com.apple\t\n",
      "\n",
      "Longest files in /etc/postfix:\n",
      "\t/etc/postfix/LICENSE\t\n",
      "\t/etc/postfix/LICENSE\t\n",
      "\t/etc/postfix/LICENSE\t\n",
      "\n",
      "Longest files in /etc/racoon:\n",
      "\t/etc/racoon/racoon.conf\t\n",
      "\t/etc/racoon/racoon.conf\t\n",
      "\t/etc/racoon/racoon.conf\t\n",
      "\n",
      "Longest files in /etc/security:\n",
      "\t/etc/security/audit_class\t\n",
      "\t/etc/security/audit_class\t\n",
      "\t/etc/security/audit_class\t\n",
      "\n",
      "Longest files in /etc/snmp:\n",
      "\t/etc/snmp/snmpd.conf\t\n",
      "\t/etc/snmp/snmpd.conf\t\n",
      "\t/etc/snmp/snmpd.conf\t\n",
      "\n",
      "Longest files in /etc/ssh:\n",
      "\t/etc/ssh/moduli\t\n",
      "\t/etc/ssh/moduli\t\n",
      "\t/etc/ssh/moduli\t\n",
      "\n"
     ]
    }
   ],
   "source": [
    "import os\n",
    "from itertools import chain,groupby\n",
    "for d,ds,fs in os.walk(\"/etc/\"):\n",
    "    #TODO: 1) Make output sorted by line count\n",
    "    #      2) Remove the Total line\n",
    "    #      3) Limit to 3 files per directory\n",
    "    #      4) Ignore directories containing no files\n",
    "    lines = !wc -l $d/* 2> /dev/null | sed \"s/^ *//\"\n",
    "    \n",
    "    files = []\n",
    "    for line in lines:\n",
    "        try:\n",
    "            fields = line.split(\" \")\n",
    "            files.append((int(fields[0]),fields[1]))\n",
    "        except ValueError:\n",
    "            print \"Bad line: \" + line\n",
    "            \n",
    "    sorted(files, key=lambda x:x[0], reverse=True)   #TODO: 1) Make output sorted by line count                \n",
    "    if files!=[]:    #      4) Ignore directories containing no files\n",
    "        print \"Longest files in \" + d + \":\"\n",
    "        num_file=1\n",
    "        for lc, f in files:\n",
    "            while num_file<4:     #      3) Limit to 3 files per directory\n",
    "                print \"\\t%s\\t\" %(f)    #      2) Remove the Total line\n",
    "                num_file+=1\n",
    "        print"
   ]
  },
  {
   "cell_type": "markdown",
   "metadata": {},
   "source": [
    "##Linear Regression\n",
    "\n",
    "In the file linear.csv there is a set of 100 x,y pairs of numbers in csv format.\n",
    "\n",
    "About 10% of the lines have a missing y value.\n",
    "\n",
    "Your goal is to do the following:\n",
    "\n",
    "1. Preprocess the data to remove any points with a missing y value\n",
    "2. Fit a linear regression model using sklearn's LinearRegression package\n",
    "3. Plot a scatter plot of the populated x,y pairs as blue points and the best fit linear regression line in red"
   ]
  },
  {
   "cell_type": "code",
   "execution_count": 437,
   "metadata": {
    "collapsed": false
   },
   "outputs": [
    {
     "name": "stdout",
     "output_type": "stream",
     "text": [
      "Populating the interactive namespace from numpy and matplotlib\n"
     ]
    },
    {
     "name": "stderr",
     "output_type": "stream",
     "text": [
      "WARNING: pylab import has clobbered these variables: ['f', 'record']\n",
      "`%matplotlib` prevents importing * from pylab and numpy\n"
     ]
    },
    {
     "data": {
      "text/html": [
       "<div>\n",
       "<table border=\"1\" class=\"dataframe\">\n",
       "  <thead>\n",
       "    <tr style=\"text-align: right;\">\n",
       "      <th></th>\n",
       "      <th>x</th>\n",
       "      <th>y</th>\n",
       "    </tr>\n",
       "  </thead>\n",
       "  <tbody>\n",
       "    <tr>\n",
       "      <th>0</th>\n",
       "      <td>82.583220</td>\n",
       "      <td>134.907414</td>\n",
       "    </tr>\n",
       "    <tr>\n",
       "      <th>1</th>\n",
       "      <td>73.922466</td>\n",
       "      <td>134.085180</td>\n",
       "    </tr>\n",
       "    <tr>\n",
       "      <th>2</th>\n",
       "      <td>34.887445</td>\n",
       "      <td>NaN</td>\n",
       "    </tr>\n",
       "    <tr>\n",
       "      <th>3</th>\n",
       "      <td>61.839983</td>\n",
       "      <td>114.530638</td>\n",
       "    </tr>\n",
       "    <tr>\n",
       "      <th>4</th>\n",
       "      <td>16.775940</td>\n",
       "      <td>31.376437</td>\n",
       "    </tr>\n",
       "  </tbody>\n",
       "</table>\n",
       "</div>"
      ],
      "text/plain": [
       "           x           y\n",
       "0  82.583220  134.907414\n",
       "1  73.922466  134.085180\n",
       "2  34.887445         NaN\n",
       "3  61.839983  114.530638\n",
       "4  16.775940   31.376437"
      ]
     },
     "execution_count": 437,
     "metadata": {},
     "output_type": "execute_result"
    }
   ],
   "source": [
    "#Do not modify\n",
    "import numpy as np\n",
    "import pandas as pd\n",
    "from sklearn.linear_model import LinearRegression\n",
    "%pylab inline\n",
    "import matplotlib.pyplot as plt\n",
    "data = pd.read_csv(\"./linear.csv\")\n",
    "data.head()"
   ]
  },
  {
   "cell_type": "markdown",
   "metadata": {},
   "source": [
    "1. Preprocess the data to remove any points with a missing y value"
   ]
  },
  {
   "cell_type": "code",
   "execution_count": 438,
   "metadata": {
    "collapsed": false
   },
   "outputs": [
    {
     "data": {
      "text/html": [
       "<div>\n",
       "<table border=\"1\" class=\"dataframe\">\n",
       "  <thead>\n",
       "    <tr style=\"text-align: right;\">\n",
       "      <th></th>\n",
       "      <th>x</th>\n",
       "      <th>y</th>\n",
       "    </tr>\n",
       "  </thead>\n",
       "  <tbody>\n",
       "    <tr>\n",
       "      <th>0</th>\n",
       "      <td>82.583220</td>\n",
       "      <td>134.907414</td>\n",
       "    </tr>\n",
       "    <tr>\n",
       "      <th>1</th>\n",
       "      <td>73.922466</td>\n",
       "      <td>134.085180</td>\n",
       "    </tr>\n",
       "    <tr>\n",
       "      <th>3</th>\n",
       "      <td>61.839983</td>\n",
       "      <td>114.530638</td>\n",
       "    </tr>\n",
       "    <tr>\n",
       "      <th>4</th>\n",
       "      <td>16.775940</td>\n",
       "      <td>31.376437</td>\n",
       "    </tr>\n",
       "    <tr>\n",
       "      <th>5</th>\n",
       "      <td>0.016737</td>\n",
       "      <td>8.764634</td>\n",
       "    </tr>\n",
       "  </tbody>\n",
       "</table>\n",
       "</div>"
      ],
      "text/plain": [
       "           x           y\n",
       "0  82.583220  134.907414\n",
       "1  73.922466  134.085180\n",
       "3  61.839983  114.530638\n",
       "4  16.775940   31.376437\n",
       "5   0.016737    8.764634"
      ]
     },
     "execution_count": 438,
     "metadata": {},
     "output_type": "execute_result"
    }
   ],
   "source": [
    "training_data = data.dropna()\n",
    "training_data.head()"
   ]
  },
  {
   "cell_type": "markdown",
   "metadata": {},
   "source": [
    "Fit a linear regression model using sklearn's LinearRegression package"
   ]
  },
  {
   "cell_type": "code",
   "execution_count": 439,
   "metadata": {
    "collapsed": false
   },
   "outputs": [
    {
     "name": "stdout",
     "output_type": "stream",
     "text": [
      "formula: y = 1.583197 x + 4.470197\n"
     ]
    }
   ],
   "source": [
    "mdl = LinearRegression().fit(training_data['x'].reshape(-1,1), training_data['y'].reshape(-1,1)) #Todo\n",
    "\n",
    "#Print formula so we can see the best fit line\n",
    "m = mdl.coef_[0]\n",
    "b = mdl.intercept_\n",
    "print \"formula: y = %f x + %f\" % (m,b)"
   ]
  },
  {
   "cell_type": "markdown",
   "metadata": {},
   "source": [
    "Plot a scatter plot of the populated x,y pairs as blue points and the best fit linear regression line in red"
   ]
  },
  {
   "cell_type": "code",
   "execution_count": 443,
   "metadata": {
    "collapsed": false
   },
   "outputs": [
    {
     "data": {
      "text/plain": [
       "<matplotlib.legend.Legend at 0x1168d2a50>"
      ]
     },
     "execution_count": 443,
     "metadata": {},
     "output_type": "execute_result"
    },
    {
     "data": {
      "image/png": "[encoded data removed]",
      "text/plain": [
       "<matplotlib.figure.Figure at 0x1177bab50>"
      ]
     },
     "metadata": {},
     "output_type": "display_data"
    }
   ],
   "source": [
    "#Todo\n",
    "plt.scatter(training_data['x'],training_data['y'], label='training data')\n",
    "plt.plot(training_data['x'],mdl.predict(training_data['x'].reshape(-1,1)), color='r', label='linear regressor fit')\n",
    "plt.xlabel('x values')\n",
    "plt.ylabel('y values')\n",
    "plt.grid()\n",
    "plt.legend(loc='upper left')"
   ]
  },
  {
   "cell_type": "markdown",
   "metadata": {},
   "source": [
    "##Object Oriented Model Selection\n",
    "\n",
    "Throughout the quarter, several problems have involved choosing the best model from a set of candidate models to get the best accuracy.\n",
    "\n",
    "Besides using it for selecting model hyperparmeters (as in grid search) or features, you can also use it to select the modeling method (regression, nearest neighbor, etc.).  \n",
    "\n",
    "We define three steps on the way to finding the best model.\n",
    "\n",
    "1. Define a base model class.\n",
    "1. Define four models by inheriting from a base model class.\n",
    "2. Use train/test errors to choose the best of the four model\n",
    "\n",
    "#### The base class\n",
    "We defined the base class, from which all of the other classes are derived."
   ]
  },
  {
   "cell_type": "code",
   "execution_count": 508,
   "metadata": {
    "collapsed": false
   },
   "outputs": [],
   "source": [
    "# Do not modify this code\n",
    "class BaseModel:\n",
    "    def __init__(self, train_x, train_y):\n",
    "        \"\"\"Abstract constructor, subclasses should train a model of their type here and store\n",
    "           it in a way that predict can be used to compute predictions\"\"\"\n",
    "        raise Exception(\"This is an abstract class\")\n",
    "        \n",
    "    def predict(self, x):\n",
    "        \"\"\"Abstract method to compute a single prediction given a single example x\"\"\"\n",
    "        raise Exception(\"This is an abstract class\")\n",
    "        \n",
    "    def score(self, xs, ys):\n",
    "        \"\"\"Returns the accuracy of this model using xs as a list of inputs and ys as a list of correct values.\"\"\"\n",
    "        return sum([(self.predict(x)-y)**2 for x,y in zip(xs,ys)])/(len(xs))\n",
    "    "
   ]
  },
  {
   "cell_type": "markdown",
   "metadata": {},
   "source": [
    "Now that you have implemented the BaseModel, implement a class for LinearModel, QuadraticModel, CubicModel, and QuarticModel. Use numpy's [polyfit](http://docs.scipy.org/doc/numpy/reference/generated/numpy.polyfit.html) function to find the coefficients ($a_i$) using the training data given as parameters `train_x, train_y` to the constructor.\n",
    "\n",
    "The input to each model is the variable $x$ and the output is the variable $y$.  $a_i$ refers to the coefficients found by polyfit.\n",
    "\n",
    "* **LinearModel** $y=a_1x+a_0$\n",
    "* **QuadraticModel** $y=a_2x^2+a_1x+a_0$\n",
    "* **CubicModel** $y=a_3x^3+a_2x^2+a_1x+a_0$\n",
    "* **QuarticModel** $y=a_4x^4+a_3x^3+a_2x^2+a_1x+a_0$\n"
   ]
  },
  {
   "cell_type": "code",
   "execution_count": 509,
   "metadata": {
    "collapsed": false
   },
   "outputs": [],
   "source": [
    "from numpy import polyfit\n",
    "\n",
    "#This model has been solved as below, and can be used as reference to write classes for models ahead.\n",
    "\n",
    "class LinearModel(BaseModel):\n",
    "    def __init__(self, train_x, train_y):\n",
    "        #calculate coefficients\n",
    "        self.coef = polyfit(train_x, train_y,1)\n",
    "        \n",
    "    def predict(self, x):\n",
    "        #use coeficients/formula to compute solution\n",
    "        y = (self.coef[0] * x) + self.coef[1]\n",
    "        return y"
   ]
  },
  {
   "cell_type": "code",
   "execution_count": 510,
   "metadata": {
    "collapsed": false
   },
   "outputs": [],
   "source": [
    "class QuadraticModel(BaseModel):\n",
    "    def __init__(self, train_x, train_y):\n",
    "        #calculate coefficients\n",
    "        self.coef = polyfit(train_x, train_y,2)\n",
    "    def predict(self, x):\n",
    "        y = (self.coef[0] * pow(x,2)) + (self.coef[1] * x)+ self.coef[2] #use coeficients/formula to compute solution\n",
    "        return y"
   ]
  },
  {
   "cell_type": "code",
   "execution_count": 511,
   "metadata": {
    "collapsed": false
   },
   "outputs": [],
   "source": [
    "class CubicModel(BaseModel):\n",
    "    def __init__(self, train_x, train_y):\n",
    "        #calculate coefficients\n",
    "        self.coef = polyfit(train_x, train_y,3)\n",
    "\n",
    "    def predict(self, x):\n",
    "        y = (self.coef[0] * pow(x,3)) + (self.coef[1] * pow(x,2))+ (self.coef[2] * x)+ self.coef[3] #use coeficients/formula to compute solution\n",
    "        return y"
   ]
  },
  {
   "cell_type": "code",
   "execution_count": 512,
   "metadata": {
    "collapsed": false
   },
   "outputs": [],
   "source": [
    "class QuarticModel(BaseModel):\n",
    "    def __init__(self, train_x, train_y):\n",
    "        #calculate coefficients\n",
    "        self.coef = polyfit(train_x, train_y,4)\n",
    "\n",
    "    def predict(self, x):\n",
    "        y = (self.coef[0] * pow(x,4) )+ (self.coef[1] * pow(x,3))+ (self.coef[2] * pow(x,2))+ (self.coef[3] * x+ self.coef[4]) #use coeficients/formula to compute solution\n",
    "        return y"
   ]
  },
  {
   "cell_type": "markdown",
   "metadata": {},
   "source": [
    "Next, we evaluate each of these models on our data.  Fill in the parts of the function marked \"TODO\" below."
   ]
  },
  {
   "cell_type": "code",
   "execution_count": 513,
   "metadata": {
    "collapsed": false
   },
   "outputs": [],
   "source": [
    "#Load Data, do not modify\n",
    "train = pd.read_csv(\"train_data.csv\")\n",
    "valid = pd.read_csv(\"validation_data.csv\")\n",
    "train_x = train[\"x\"].tolist()\n",
    "train_y = train[\"y\"].tolist()\n",
    "valid_x = valid[\"x\"].tolist()\n",
    "valid_y = valid[\"y\"].tolist()"
   ]
  },
  {
   "cell_type": "code",
   "execution_count": 514,
   "metadata": {
    "collapsed": false
   },
   "outputs": [
    {
     "name": "stdout",
     "output_type": "stream",
     "text": [
      "technique with minimum validation error is: \n",
      "QuarticModel\n"
     ]
    },
    {
     "data": {
      "image/png": "[encoded data removed]",
      "text/plain": [
       "<matplotlib.figure.Figure at 0x11b072190>"
      ]
     },
     "metadata": {},
     "output_type": "display_data"
    }
   ],
   "source": [
    "####added plot for my own underestanding\n",
    "Models = [LinearModel, QuadraticModel, CubicModel, QuarticModel]\n",
    "\n",
    "train_error = []\n",
    "valid_error = []\n",
    "colors=['k','r','g','y']\n",
    "labels=['LinearModel', 'QuadraticModel', 'CubicModel', 'QuarticModel']\n",
    "i=0\n",
    "plt.scatter(train_x,train_y)\n",
    "for Model in Models:\n",
    "    pre=[]\n",
    "    mdl = Model(train_x,train_y)#Todo: Learn model using technique\n",
    "    train_error.append(mdl.score(train_x,train_y))\n",
    "    valid_error.append(mdl.score(valid_x,valid_y))\n",
    "    \n",
    "    for x in train_x:\n",
    "        pre.append(mdl.predict(x))\n",
    "    plt.scatter(train_x,pre, color=colors[i])\n",
    "    i=i+1\n",
    "#Todo: Find technique with minimum validation error\n",
    "print \"technique with minimum validation error is: \\n\" ,str(Models[valid_error.index(min(valid_error))])[9:]"
   ]
  },
  {
   "cell_type": "markdown",
   "metadata": {},
   "source": [
    "Finally plot the training and validation error on the same plot.  Have a legend denoting which line is validation/training error."
   ]
  },
  {
   "cell_type": "code",
   "execution_count": 526,
   "metadata": {
    "collapsed": false
   },
   "outputs": [
    {
     "data": {
      "image/png": "[encoded data removed]",
      "text/plain": [
       "<matplotlib.figure.Figure at 0x11ca34990>"
      ]
     },
     "metadata": {},
     "output_type": "display_data"
    }
   ],
   "source": [
    "#Todo: Plot data\n",
    "#large error is due to the score being mean square root and not sqrt of mse\n",
    "ax=subplot(111)\n",
    "ax.plot(train_error, label='Training Error')\n",
    "ax.plot(valid_error, label='Validation Error')\n",
    "ax.xaxis.set_major_locator(plt.MultipleLocator(1))\n",
    "ax.set_ylabel('Linear Regresser Prediction Error')\n",
    "ax.set_xlabel('Polynomial Degree')\n",
    "ax.legend()\n",
    "ax.grid()"
   ]
  },
  {
   "cell_type": "markdown",
   "metadata": {},
   "source": [
    "##Scraping\n",
    "\n",
    "Started as a travel journal, Lonely Planet has gone on to become the world’s most successful travel publisher, and they maintain an award winning website giving all the necessary details a traveller could ask for. \n",
    "In this question we will try to use their website lonelyplanet.com to find the top sightseeing places in San diego and how far they are from our current location\n",
    "\n",
    "In order to do this, we will scrape the website to find the top sightseeing places and develop a table containing the name of the place and its corresponding latitude, longitude values. We will then define a function to calculate distance between two points given their latitude and longitude.\n",
    "\n",
    "You can take your current location as UCSD Rady School of Management, with Latitude 32.88661 and longitude -117.24128"
   ]
  },
  {
   "cell_type": "code",
   "execution_count": 527,
   "metadata": {
    "collapsed": false
   },
   "outputs": [],
   "source": [
    "#Do not modify\n",
    "import lxml.html as lh\n",
    "import requests\n",
    "import urllib\n",
    "import pandas as pd\n",
    "import re"
   ]
  },
  {
   "cell_type": "markdown",
   "metadata": {},
   "source": [
    "Here we download the index of san diego sights for us to process."
   ]
  },
  {
   "cell_type": "code",
   "execution_count": 528,
   "metadata": {
    "collapsed": false
   },
   "outputs": [],
   "source": [
    "#Do not modify\n",
    "website = \"http://www.lonelyplanet.com\"\n",
    "country = \"usa\"\n",
    "city = \"san-diego\"\n",
    "scrape_topic = \"sights\"\n",
    "base_url = website+\"/\"+country+\"/\"+city+\"/\"+scrape_topic+\"/\"\n",
    "r  = requests.get(base_url)\n",
    "doc = lh.fromstring(r.content)"
   ]
  },
  {
   "cell_type": "markdown",
   "metadata": {},
   "source": [
    "Once you have retrieved the entire data from the website, The urls can be printed as follows. "
   ]
  },
  {
   "cell_type": "code",
   "execution_count": 529,
   "metadata": {
    "collapsed": false
   },
   "outputs": [
    {
     "name": "stdout",
     "output_type": "stream",
     "text": [
      "[]\n",
      "[]\n",
      "['http://www.lonelyplanet.com/legal/cookies']\n",
      "['http://www.lonelyplanet.com/legal/cookies/']\n",
      "['#container']\n",
      "['#search-box']\n",
      "['#global-nav']\n",
      "['http://www.lonelyplanet.com']\n",
      "['http://shop.lonelyplanet.com/cart/view']\n",
      "['https://www.lonelyplanet.com/thorntree/my_account']\n",
      "['http://www.lonelyplanet.com/search']\n",
      "['http://www.lonelyplanet.com/places']\n",
      "['http://www.lonelyplanet.com/best-in-travel']\n",
      "['http://www.lonelyplanet.com/africa']\n",
      "['http://www.lonelyplanet.com/antarctica-1007062']\n",
      "['http://www.lonelyplanet.com/asia']\n",
      "['http://www.lonelyplanet.com/caribbean']\n",
      "['http://www.lonelyplanet.com/central-america']\n",
      "['http://www.lonelyplanet.com/europe']\n",
      "['http://www.lonelyplanet.com/middle-east']\n",
      "['http://www.lonelyplanet.com/north-america']\n",
      "['http://www.lonelyplanet.com/pacific']\n",
      "['http://www.lonelyplanet.com/south-america']\n",
      "['/places']\n",
      "['http://www.lonelyplanet.com/inspiration']\n",
      "['http://www.lonelyplanet.com/adventure-travel']\n",
      "['http://www.lonelyplanet.com/beaches']\n",
      "['http://www.lonelyplanet.com/budget-travel']\n",
      "['http://www.lonelyplanet.com/coasts-and-islands']\n",
      "['http://www.lonelyplanet.com/family-travel']\n",
      "['http://www.lonelyplanet.com/festivals-and-events']\n",
      "['http://www.lonelyplanet.com/food-and-drink']\n",
      "['http://www.lonelyplanet.com/honeymoons-and-romance']\n",
      "['http://www.lonelyplanet.com/luxury-travel']\n",
      "['http://www.lonelyplanet.com/round-the-world-travel']\n",
      "['http://www.lonelyplanet.com/wildlife-and-nature']\n",
      "['http://shop.lonelyplanet.com']\n",
      "['http://www.lonelyplanet.com/thorntree']\n",
      "['http://www.lonelyplanet.com/bookings/']\n",
      "['http://www.lonelyplanet.com/hotels']\n",
      "['http://www.lonelyplanet.com/flights/']\n",
      "['http://www.lonelyplanet.com/car-rental/']\n",
      "['http://www.lonelyplanet.com/adventure-tours/']\n",
      "['http://www.lonelyplanet.com/sightseeing-tours/']\n",
      "['http://www.lonelyplanet.com/airport-transfers/']\n",
      "['http://www.lonelyplanet.com/travel-insurance']\n",
      "['/usa/san-diego/places']\n",
      "['/usa/san-diego']\n",
      "['/usa/places']\n",
      "['/usa']\n",
      "[]\n",
      "['/usa/san-diego']\n",
      "['/usa/san-diego/things-to-do']\n",
      "['/usa/san-diego/activities']\n",
      "['/usa/san-diego/restaurants']\n",
      "['/usa/san-diego/sights']\n",
      "['/usa/san-diego/entertainment-nightlife']\n",
      "['/usa/san-diego/shopping']\n",
      "['/usa/san-diego/transport']\n",
      "['/usa/san-diego/events']\n",
      "['/usa/san-diego/tours']\n",
      "['/usa/san-diego/hotels']\n",
      "['/usa/san-diego/essential-information']\n",
      "['/usa/san-diego/travel-tips-and-articles']\n",
      "['/usa/san-diego/images']\n",
      "['/usa/san-diego/activities']\n",
      "['/usa/san-diego/restaurants']\n",
      "['/usa/san-diego/sights']\n",
      "['/usa/san-diego/entertainment-nightlife']\n",
      "['/usa/san-diego/shopping']\n",
      "['/usa/san-diego/transport']\n",
      "['/usa/san-diego/events']\n",
      "['/usa/san-diego/tours']\n",
      "['/usa/san-diego/sights/nature-wildlife/san-diego-zoo']\n",
      "['/usa/san-diego/sights/architecture/hotel-del-coronado']\n",
      "['/usa/san-diego/sights/historic/old-town-state-historic-park']\n",
      "['/usa/san-diego/sights/museums-galleries/uss-midway-museum']\n",
      "['/usa/san-diego/sights/museums-galleries/maritime-museum']\n",
      "['/usa/san-diego/sights/museums-galleries/new-childrens-museum']\n",
      "['/usa/san-diego/sights/arts-culture-literary/san-diego-main-library']\n",
      "['/usa/san-diego/sights/arts-culture-literary/spreckels-organ-pavilion']\n",
      "['/usa/san-diego/sights/museums-galleries/museum-contemporary-art-san-diego-la-jolla']\n",
      "['/usa/san-diego/sights/museums-galleries/mingei-international-museum']\n",
      "['/usa/san-diego/sights/museums-galleries/california-surf-museum/item-a-1424314-id']\n",
      "['/usa/san-diego/sights/natural-landmarks/cave-store/item-a-1400178-id']\n",
      "['/usa/san-diego/sights/attractions-performances/legoland/item-a-1251746-id']\n",
      "['/usa/san-diego/sights/attractions-performances/seaworld-san-diego']\n",
      "['/usa/san-diego/sights/beaches-islands-waterfronts/mission-pacific-beaches']\n",
      "['/usa/san-diego/sights/landmarks-monuments/cabrillo-national-monument']\n",
      "['/usa/san-diego/sights?page=2']\n",
      "['/usa/san-diego/sights?page=3']\n",
      "['/usa/san-diego/sights?page=4']\n",
      "['/usa/san-diego/sights?page=5']\n",
      "['/usa/san-diego/sights?page=6']\n",
      "['/usa/san-diego/sights?page=7']\n",
      "['/usa/san-diego/sights?page=2']\n",
      "['/usa/san-diego/hotels/best-places-to-stay-in-san-diego']\n",
      "['/usa/san-diego/things-to-do/top-things-to-do-in-san-diego']\n",
      "['/']\n",
      "['http://www.lonelyplanet.com/americas']\n",
      "['http://www.lonelyplanet.com/north-america']\n",
      "['http://www.lonelyplanet.com/usa']\n",
      "['http://www.lonelyplanet.com/usa/california']\n",
      "['http://www.lonelyplanet.com/usa/california/los-angeles-san-diego-southern-california']\n",
      "['http://www.lonelyplanet.com/americas']\n",
      "['http://www.lonelyplanet.com/north-america']\n",
      "['http://www.lonelyplanet.com/usa']\n",
      "['http://www.lonelyplanet.com/usa/california']\n",
      "['http://www.lonelyplanet.com/usa/california/los-angeles-san-diego-southern-california']\n",
      "['http://www.lonelyplanet.com/destinations']\n",
      "['http://www.lonelyplanet.com/africa']\n",
      "['http://www.lonelyplanet.com/antarctica']\n",
      "['http://www.lonelyplanet.com/asia']\n",
      "['http://www.lonelyplanet.com/caribbean']\n",
      "['http://www.lonelyplanet.com/central-america']\n",
      "['http://www.lonelyplanet.com/europe']\n",
      "['http://www.lonelyplanet.com/middle-east']\n",
      "['http://www.lonelyplanet.com/north-america']\n",
      "['http://www.lonelyplanet.com/pacific']\n",
      "['http://www.lonelyplanet.com/south-america']\n",
      "['http://www.lonelyplanet.com/shop']\n",
      "['http://www.lonelyplanet.com/shop/destination-guides']\n",
      "['http://www.lonelyplanet.com/shop/ebooks']\n",
      "['http://www.lonelyplanet.com/shop/pictorials-and-gifts']\n",
      "['http://www.lonelyplanet.com/shop/phrasebooks']\n",
      "['http://www.lonelyplanet.com/shop/childrens-books']\n",
      "['http://www.lonelyplanet.com/shop/special-offers']\n",
      "['http://www.lonelyplanet.com/thorntree']\n",
      "['http://www.lonelyplanet.com/thorntree/categories/country-forums']\n",
      "['http://www.lonelyplanet.com/thorntree/categories/talk-to-lonely-planet']\n",
      "['http://www.lonelyplanet.com/thorntree/categories/interest-forums']\n",
      "['http://www.lonelyplanet.com/thorntree/categories/sell-swap-meet-up']\n",
      "['http://www.lonelyplanet.com/interests']\n",
      "['http://www.lonelyplanet.com/adventure-travel']\n",
      "['http://www.lonelyplanet.com/beaches']\n",
      "['http://www.lonelyplanet.com/budget-travel']\n",
      "['http://www.lonelyplanet.com/family-travel']\n",
      "['http://www.lonelyplanet.com/festivals-and-events']\n",
      "['http://www.lonelyplanet.com/food-and-drink']\n",
      "['http://www.lonelyplanet.com/honeymoons-and-romance']\n",
      "['http://www.lonelyplanet.com/luxury-travel']\n",
      "['http://www.lonelyplanet.com/round-the-world-travel']\n",
      "['http://www.lonelyplanet.com/wildlife-and-nature']\n",
      "['http://www.lonelyplanet.com/bookings']\n",
      "['http://www.lonelyplanet.com/hotels']\n",
      "['http://www.lonelyplanet.com/flights']\n",
      "['http://www.lonelyplanet.com/travel-insurance']\n",
      "['http://www.lonelyplanet.com']\n",
      "['http://www.lonelyplanet.com/about/']\n",
      "['http://www.lonelyplanet.com/jobs/']\n",
      "['http://www.lonelyplanet.com/contact/']\n",
      "['http://www.lonelyplanet.com/press-trade-advertising/']\n",
      "['http://www.lonelyplanet.com/legal/website-terms/']\n",
      "['http://www.lonelyplanet.com/legal/privacy-policy/']\n",
      "['http://www.lonelyplanet.com']\n",
      "['https://twitter.com/lonelyplanet']\n",
      "['https://www.facebook.com/lonelyplanet']\n",
      "['https://plus.google.com/+LonelyPlanet/']\n",
      "['http://www.flickr.com/groups/lonelyplanetpublications/']\n",
      "['http://www.youtube.com/user/LonelyPlanet']\n",
      "['http://pinterest.com/lonelyplanet/']\n",
      "['http://instagram.com/lonelyplanet']\n",
      "['https://vine.co/lonelyplanet']\n",
      "['/blog']\n"
     ]
    }
   ],
   "source": [
    "a_elements=doc.xpath('//a')\n",
    "for a in a_elements:\n",
    "    print a.xpath('@href')"
   ]
  },
  {
   "cell_type": "markdown",
   "metadata": {},
   "source": [
    "the next step is to extract the URLs corresponding to specific sights. \n",
    "\n",
    "In order to do so, we need to define a regular expression for the links in which we are interested. \n",
    "\n",
    "Browsing the HTML of the site we find URLs of the following type\n",
    "\n",
    "    1. /usa/san-diego/sights/\n",
    "    2. /usa/san-diego/sights/nature-wildlife/san-diego-zoo\n",
    "    3. /usa/san-diego/sights/architecture/hotel-del-coronado\n",
    "    4. /usa/san-diego/sights/?page2=id\n",
    "    5. /usa/san-diego/sights/?page1=id+data=x \n",
    "\n",
    "URLs like 2,3 correspond to pages of sights that we are interested in. On the other hand, URLs like 1,4,5 correspond to other information which is not of interest.\n",
    " \n",
    "Write a regex pattern which parses all links starting with /usa/san-diego/sights/ followed by more characters. Make sure that the pattern does not allow links with question marks such as 4,5."
   ]
  },
  {
   "cell_type": "code",
   "execution_count": 531,
   "metadata": {
    "collapsed": false
   },
   "outputs": [
    {
     "data": {
      "text/plain": [
       "['/usa/san-diego/sights/nature-wildlife/san-diego-zoo',\n",
       " '/usa/san-diego/sights/architecture/hotel-del-coronado',\n",
       " '/usa/san-diego/sights/historic/old-town-state-historic-park',\n",
       " '/usa/san-diego/sights/museums-galleries/uss-midway-museum',\n",
       " '/usa/san-diego/sights/museums-galleries/maritime-museum',\n",
       " '/usa/san-diego/sights/museums-galleries/new-childrens-museum',\n",
       " '/usa/san-diego/sights/arts-culture-literary/san-diego-main-library',\n",
       " '/usa/san-diego/sights/arts-culture-literary/spreckels-organ-pavilion',\n",
       " '/usa/san-diego/sights/museums-galleries/museum-contemporary-art-san-diego-la-jolla',\n",
       " '/usa/san-diego/sights/museums-galleries/mingei-international-museum',\n",
       " '/usa/san-diego/sights/museums-galleries/california-surf-museum/item-a-1424314-id',\n",
       " '/usa/san-diego/sights/natural-landmarks/cave-store/item-a-1400178-id',\n",
       " '/usa/san-diego/sights/attractions-performances/legoland/item-a-1251746-id',\n",
       " '/usa/san-diego/sights/attractions-performances/seaworld-san-diego',\n",
       " '/usa/san-diego/sights/beaches-islands-waterfronts/mission-pacific-beaches',\n",
       " '/usa/san-diego/sights/landmarks-monuments/cabrillo-national-monument']"
      ]
     },
     "execution_count": 531,
     "metadata": {},
     "output_type": "execute_result"
    }
   ],
   "source": [
    "#change the search pattern from \"/usa/san-diego/sights/\" to \"/usa/san-diego/sights\" such that it's loser to include \"?page\"\n",
    "pattern = re.compile(r'(\\/usa\\/san-diego\\/sights)[^?page].*')   #TODO: Write regex to match desired URLS here\n",
    "url_list=[re.search(pattern, str(a.xpath('@href'))[2:-2]).group() for a in a_elements if re.search(pattern, str(a.xpath('@href'))[2:-2])] #use the above pattern to create a list of matching urls\n",
    "url_list"
   ]
  },
  {
   "cell_type": "markdown",
   "metadata": {},
   "source": [
    "Now we extract the information about each sight, we provide the `makeRecord` function that takes a beautiful soup object and returns a Dictionary containing the location name, latitude, and longitude."
   ]
  },
  {
   "cell_type": "code",
   "execution_count": 568,
   "metadata": {
    "collapsed": false
   },
   "outputs": [],
   "source": [
    "#The following is a bottomline working code to proceed ahead if you are stuck. Points will be awarded form\n",
    "def makeRecord(doc):\n",
    "    record = {}\n",
    "    div_elements=doc.xpath('//div')\n",
    "    for div in div_elements:\n",
    "        if len(div.xpath('@data-latitude'))>0:\n",
    "            record[\"latitude\"] =div.xpath('@data-latitude')[0]\n",
    "        if len(div.xpath('@data-longitude'))>0:\n",
    "            record[\"longitude\"] =div.xpath('@data-longitude')[0]\n",
    "        if (len(div.xpath('//h1'))>0):\n",
    "            record[\"title\"] = div.xpath('//h1')[0].text_content().strip() #write code to add title for the sight\n",
    "    return record\n"
   ]
  },
  {
   "cell_type": "markdown",
   "metadata": {},
   "source": [
    "Now loop through the sights pages you found and make records for each.  Fill in the template with the requested actions."
   ]
  },
  {
   "cell_type": "code",
   "execution_count": 569,
   "metadata": {
    "collapsed": false
   },
   "outputs": [
    {
     "data": {
      "text/plain": [
       "[{'latitude': '32.735288',\n",
       "  'longitude': '-117.151517',\n",
       "  'title': 'San Diego Zoo'},\n",
       " {'latitude': '32.67987211',\n",
       "  'longitude': '-117.18040515',\n",
       "  'title': 'Hotel del Coronado'},\n",
       " {'latitude': '32.755146',\n",
       "  'longitude': '-117.19815',\n",
       "  'title': 'Old Town State Historic Park'},\n",
       " {'latitude': '32.714365',\n",
       "  'longitude': '-117.173666',\n",
       "  'title': 'USS Midway Museum'},\n",
       " {'latitude': '32.720795',\n",
       "  'longitude': '-117.173303',\n",
       "  'title': 'Maritime Museum'},\n",
       " {'latitude': '32.710639',\n",
       "  'longitude': '-117.164257',\n",
       "  'title': u'New Children\\xe2\\x80\\x99s Museum'},\n",
       " {'latitude': '32.708824',\n",
       "  'longitude': '-117.154083',\n",
       "  'title': 'San Diego Main Library'},\n",
       " {'latitude': '32.729363',\n",
       "  'longitude': '-117.150389',\n",
       "  'title': 'Spreckels Organ Pavilion'},\n",
       " {'latitude': '32.844404',\n",
       "  'longitude': '-117.278012',\n",
       "  'title': u'Museum of Contemporary Art San Diego \\xe2\\x80\\x93 La Jolla'},\n",
       " {'latitude': '32.73098',\n",
       "  'longitude': '-117.151002',\n",
       "  'title': 'Mingei International Museum'},\n",
       " {'latitude': '33.199281',\n",
       "  'longitude': '-117.383871',\n",
       "  'title': 'California Surf Museum'},\n",
       " {'latitude': '32.849393', 'longitude': '-117.270432', 'title': 'Cave Store'},\n",
       " {'latitude': '33.129214', 'longitude': '-117.312355', 'title': 'Legoland'},\n",
       " {'latitude': '32.7641813751008',\n",
       "  'longitude': '-117.225151062012',\n",
       "  'title': 'SeaWorld San Diego'},\n",
       " {'title': 'Mission & Pacific Beaches'},\n",
       " {'latitude': '32.673483',\n",
       "  'longitude': '-117.239914',\n",
       "  'title': 'Cabrillo National Monument'}]"
      ]
     },
     "execution_count": 569,
     "metadata": {},
     "output_type": "execute_result"
    }
   ],
   "source": [
    "website = \"http://www.lonelyplanet.com\"\n",
    "sights_list = []\n",
    "\n",
    "for url in url_list:\n",
    "    new_url = website+url\n",
    "    r    = requests.get(new_url)#Use requests to get web page data\n",
    "    doc = lh.fromstring(r.content)\n",
    "    rec  = makeRecord(doc)\n",
    "    sights_list.append(rec)\n",
    "    \n",
    "sights_list"
   ]
  },
  {
   "cell_type": "markdown",
   "metadata": {},
   "source": [
    "Now that we have a table of sightseeiing places imediately around us along with their latitudes and longitudes, use the below function to find distance of each of the sightseeing place from your current location"
   ]
  },
  {
   "cell_type": "code",
   "execution_count": 570,
   "metadata": {
    "collapsed": false
   },
   "outputs": [],
   "source": [
    "#Do not modify\n",
    "import math\n",
    "def getDistanceFromLatLonInKm(lat1,lon1,lat2,lon2) :\n",
    "    R = 6371 # Radius of the earth in km\n",
    "    dLat = deg2rad(lat2-lat1) # deg2rad below\n",
    "    dLon = deg2rad(lon2-lon1) \n",
    "    a = math.sin(dLat/2)*math.sin(dLat/2)+math.cos(deg2rad(lat1))*math.cos(deg2rad(lat2))*math.sin(dLon/2)*math.sin(dLon/2)\n",
    "\n",
    "    c = 2 * math.atan2(math.sqrt(a), math.sqrt(1-a))\n",
    "    d = R * c #Distance in km\n",
    "    return d\n",
    "\n",
    "\n",
    "def deg2rad(deg) :\n",
    "  return deg * (3.1416/180)\n"
   ]
  },
  {
   "cell_type": "markdown",
   "metadata": {},
   "source": [
    "Now add a field to each record in `sights_list` called `distance` which reports the distance from the Rady School to it.  Then print the sights from closest to furthest"
   ]
  },
  {
   "cell_type": "code",
   "execution_count": 573,
   "metadata": {
    "collapsed": false
   },
   "outputs": [
    {
     "name": "stdout",
     "output_type": "stream",
     "text": [
      "{'latitude': '32.849393', 'distance': 4.953668392273999, 'longitude': '-117.270432', 'title': 'Cave Store'}\n",
      "{'latitude': '32.844404', 'distance': 5.813336590220005, 'longitude': '-117.278012', 'title': u'Museum of Contemporary Art San Diego \\xe2\\x80\\x93 La Jolla'}\n",
      "{'latitude': '32.7641813751008', 'distance': 13.696641537929542, 'longitude': '-117.225151062012', 'title': 'SeaWorld San Diego'}\n",
      "{'latitude': '32.755146', 'distance': 15.163570048027685, 'longitude': '-117.19815', 'title': 'Old Town State Historic Park'}\n",
      "{'latitude': '32.735288', 'distance': 18.801491283801134, 'longitude': '-117.151517', 'title': 'San Diego Zoo'}\n",
      "{'latitude': '32.73098', 'distance': 19.252515431000994, 'longitude': '-117.151002', 'title': 'Mingei International Museum'}\n",
      "{'latitude': '32.729363', 'distance': 19.439291974099067, 'longitude': '-117.150389', 'title': 'Spreckels Organ Pavilion'}\n",
      "{'latitude': '32.720795', 'distance': 19.501752539601206, 'longitude': '-117.173303', 'title': 'Maritime Museum'}\n",
      "{'latitude': '32.714365', 'distance': 20.168491184911712, 'longitude': '-117.173666', 'title': 'USS Midway Museum'}\n",
      "{'latitude': '32.710639', 'distance': 20.849485578897234, 'longitude': '-117.164257', 'title': u'New Children\\xe2\\x80\\x99s Museum'}\n",
      "{'latitude': '32.708824', 'distance': 21.38311448440342, 'longitude': '-117.154083', 'title': 'San Diego Main Library'}\n",
      "{'latitude': '32.67987211', 'distance': 23.68218242537074, 'longitude': '-117.18040515', 'title': 'Hotel del Coronado'}\n",
      "{'latitude': '32.673483', 'distance': 23.69904062363153, 'longitude': '-117.239914', 'title': 'Cabrillo National Monument'}\n",
      "{'latitude': '33.129214', 'distance': 27.778600656391593, 'longitude': '-117.312355', 'title': 'Legoland'}\n",
      "{'latitude': '33.199281', 'distance': 37.2213559843089, 'longitude': '-117.383871', 'title': 'California Surf Museum'}\n"
     ]
    }
   ],
   "source": [
    "myLat = 32.88661\n",
    "myLng = -117.24128\n",
    "\n",
    "for i in range(len(sights_list)):\n",
    "    try:\n",
    "        sights_list[i]['distance']=getDistanceFromLatLonInKm(myLat,myLng,float(sights_list[i]['latitude']),float(sights_list[i]['longitude']))\n",
    "    except KeyError:# one of the locations doesn't have long and lat and have this try to handle the error and remove it\n",
    "        sights_list.remove(sights_list[i])\n",
    "    #Todo: add distance to record i in sights list\n",
    "    \n",
    "#Todo: sort sights_list\n",
    "sights_list=sorted(sights_list, key=lambda x:x['distance'])\n",
    "\n",
    "for record in sights_list:\n",
    "    print record\n",
    "    "
   ]
  },
  {
   "cell_type": "markdown",
   "metadata": {},
   "source": [
    "## MatplotLib\n"
   ]
  },
  {
   "cell_type": "code",
   "execution_count": 536,
   "metadata": {
    "collapsed": false
   },
   "outputs": [
    {
     "name": "stdout",
     "output_type": "stream",
     "text": [
      "Populating the interactive namespace from numpy and matplotlib\n"
     ]
    },
    {
     "name": "stderr",
     "output_type": "stream",
     "text": [
      "WARNING: pylab import has clobbered these variables: ['rec', 'colors', 'deg2rad', 'record']\n",
      "`%matplotlib` prevents importing * from pylab and numpy\n"
     ]
    }
   ],
   "source": [
    "%pylab inline\n",
    "import numpy as np\n",
    "import matplotlib.pyplot as plt"
   ]
  },
  {
   "cell_type": "markdown",
   "metadata": {},
   "source": [
    "In this exercise we will plot a list of datasets in the form of histograms in the same plot. For this we will use the function plotHistograms given below, which takes a dataset, and bin count and outputs a histogram plot containing multiple horizonta bars."
   ]
  },
  {
   "cell_type": "code",
   "execution_count": 540,
   "metadata": {
    "collapsed": false,
    "scrolled": true
   },
   "outputs": [
    {
     "data": {
      "image/png": "[encoded data removed]",
      "text/plain": [
       "<matplotlib.figure.Figure at 0x10a63c550>"
      ]
     },
     "metadata": {},
     "output_type": "display_data"
    }
   ],
   "source": [
    "#modified this to be able to handle the location of each plot be adjusting the location of the left edge\n",
    "ax = plt.subplot(111)\n",
    "def plotHistograms(data,binCount,i):\n",
    "    minVal=np.min(data)\n",
    "    maxVal=np.max(data)\n",
    "    hist=np.histogram(data, range=(minVal,maxVal), bins=binCount)\n",
    "    bin_edges = np.linspace(minVal, maxVal, binCount+1)\n",
    "    centers = .5 * (bin_edges + np.roll(bin_edges, 1))[:-1]\n",
    "    heights = np.diff(bin_edges)\n",
    "    ax=plt.subplot(111)\n",
    "    lefts = i - .5 * hist[0]\n",
    "    ax.barh(centers, hist[0], height=heights, left=lefts)\n",
    "\n",
    "data=np.random.normal(0, 1, 100)\n",
    "binCount=10\n",
    "plotHistograms(data,binCount,0)"
   ]
  },
  {
   "cell_type": "markdown",
   "metadata": {},
   "source": [
    "Use the above function to plot multiple histograms on the same plot corresponding to the datasets given below. An example graph below shows how multiple histograms can be accommodated in the same plot. Use bin count of 100 for each of the histograms. You are free to modify the function, or write your own"
   ]
  },
  {
   "cell_type": "code",
   "execution_count": 542,
   "metadata": {
    "collapsed": false
   },
   "outputs": [
    {
     "data": {
      "image/png": "[encoded data removed]",
      "text/plain": [
       "<matplotlib.figure.Figure at 0x11b3cd910>"
      ]
     },
     "metadata": {},
     "output_type": "display_data"
    }
   ],
   "source": [
    "number_of_data_points = 100\n",
    "data_sets = [np.random.normal(0, 1, number_of_data_points),\n",
    "             np.random.normal(6, 1, number_of_data_points),\n",
    "             np.random.normal(-3, 1, number_of_data_points),\n",
    "             np.random.normal(3, 1, number_of_data_points),\n",
    "             np.random.normal(-6, 1, number_of_data_points),\n",
    "             np.random.normal(12, 1, number_of_data_points)\n",
    "            ]\n",
    "ax = plt.subplot(111)\n",
    "#Write code here\n",
    "\n",
    "ax.xaxis.set_major_formatter(plt.FixedFormatter(['','A', 'B', 'C', 'D','E','F']))\n",
    "#ax.xaxis.set_major_locator(plt.MultipleLocator(10))\n",
    "\n",
    "binCount=100\n",
    "i=0\n",
    "for data in data_sets:\n",
    "    plotHistograms(data,binCount,i)\n",
    "    i+=10\n",
    "\n",
    "ax.set_xlabel('Data Set')\n",
    "ax.set_ylabel('Data Values')\n",
    "ax.grid()\n"
   ]
  },
  {
   "cell_type": "markdown",
   "metadata": {
    "collapsed": true
   },
   "source": [
    "<img src=\"histograms.png\">"
   ]
  },
  {
   "cell_type": "code",
   "execution_count": null,
   "metadata": {
    "collapsed": true
   },
   "outputs": [],
   "source": []
  }
 ],
 "metadata": {
  "kernelspec": {
   "display_name": "Python 2",
   "language": "python",
   "name": "python2"
  },
  "language_info": {
   "codemirror_mode": {
    "name": "ipython",
    "version": 2
   },
   "file_extension": ".py",
   "mimetype": "text/x-python",
   "name": "python",
   "nbconvert_exporter": "python",
   "pygments_lexer": "ipython2",
   "version": "2.7.10"
  }
 },
 "nbformat": 4,
 "nbformat_minor": 0
}
