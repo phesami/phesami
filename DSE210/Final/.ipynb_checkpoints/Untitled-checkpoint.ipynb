{
 "cells": [
  {
   "cell_type": "code",
   "execution_count": 15,
   "metadata": {
    "collapsed": false
   },
   "outputs": [
    {
     "data": {
      "text/html": [
       "<div>\n",
       "<table border=\"1\" class=\"dataframe\">\n",
       "  <thead>\n",
       "    <tr style=\"text-align: right;\">\n",
       "      <th></th>\n",
       "      <th>Sepal Length</th>\n",
       "      <th>Sepal Width</th>\n",
       "      <th>Petal Length</th>\n",
       "      <th>Petal Width</th>\n",
       "      <th>Iris name</th>\n",
       "    </tr>\n",
       "  </thead>\n",
       "  <tbody>\n",
       "    <tr>\n",
       "      <th>0</th>\n",
       "      <td>5.1</td>\n",
       "      <td>3.5</td>\n",
       "      <td>1.4</td>\n",
       "      <td>0.2</td>\n",
       "      <td>Iris-setosa</td>\n",
       "    </tr>\n",
       "    <tr>\n",
       "      <th>1</th>\n",
       "      <td>4.9</td>\n",
       "      <td>3.0</td>\n",
       "      <td>1.4</td>\n",
       "      <td>0.2</td>\n",
       "      <td>Iris-setosa</td>\n",
       "    </tr>\n",
       "    <tr>\n",
       "      <th>2</th>\n",
       "      <td>4.7</td>\n",
       "      <td>3.2</td>\n",
       "      <td>1.3</td>\n",
       "      <td>0.2</td>\n",
       "      <td>Iris-setosa</td>\n",
       "    </tr>\n",
       "    <tr>\n",
       "      <th>3</th>\n",
       "      <td>4.6</td>\n",
       "      <td>3.1</td>\n",
       "      <td>1.5</td>\n",
       "      <td>0.2</td>\n",
       "      <td>Iris-setosa</td>\n",
       "    </tr>\n",
       "    <tr>\n",
       "      <th>4</th>\n",
       "      <td>5.0</td>\n",
       "      <td>3.6</td>\n",
       "      <td>1.4</td>\n",
       "      <td>0.2</td>\n",
       "      <td>Iris-setosa</td>\n",
       "    </tr>\n",
       "  </tbody>\n",
       "</table>\n",
       "</div>"
      ],
      "text/plain": [
       "   Sepal Length  Sepal Width  Petal Length  Petal Width    Iris name\n",
       "0           5.1          3.5           1.4          0.2  Iris-setosa\n",
       "1           4.9          3.0           1.4          0.2  Iris-setosa\n",
       "2           4.7          3.2           1.3          0.2  Iris-setosa\n",
       "3           4.6          3.1           1.5          0.2  Iris-setosa\n",
       "4           5.0          3.6           1.4          0.2  Iris-setosa"
      ]
     },
     "execution_count": 15,
     "metadata": {},
     "output_type": "execute_result"
    }
   ],
   "source": [
    "import pandas as pd\n",
    "import csv\n",
    "import numpy as np\n",
    "from sklearn.decomposition import PCA\n",
    "import matplotlib.pyplot as plt\n",
    "import matplotlib.cm as cm\n",
    "from scipy.stats import multivariate_normal\n",
    "%matplotlib inline\n",
    "\n",
    "iris_data=pd.read_csv('http://archive.ics.uci.edu/ml/machine-learning-databases/iris/iris.data', header=None, \n",
    "                      names=['Sepal Length', 'Sepal Width', 'Petal Length', 'Petal Width', 'Iris name'])\n",
    "iris_data.head()"
   ]
  },
  {
   "cell_type": "code",
   "execution_count": 164,
   "metadata": {
    "collapsed": false
   },
   "outputs": [
    {
     "data": {
      "text/html": [
       "<div>\n",
       "<table border=\"1\" class=\"dataframe\">\n",
       "  <thead>\n",
       "    <tr style=\"text-align: right;\">\n",
       "      <th></th>\n",
       "      <th>eig1</th>\n",
       "      <th>eig2</th>\n",
       "      <th>Iris name</th>\n",
       "    </tr>\n",
       "  </thead>\n",
       "  <tbody>\n",
       "    <tr>\n",
       "      <th>0</th>\n",
       "      <td>-2.684207</td>\n",
       "      <td>-0.326607</td>\n",
       "      <td>Iris-setosa</td>\n",
       "    </tr>\n",
       "    <tr>\n",
       "      <th>1</th>\n",
       "      <td>-2.715391</td>\n",
       "      <td>0.169557</td>\n",
       "      <td>Iris-setosa</td>\n",
       "    </tr>\n",
       "    <tr>\n",
       "      <th>2</th>\n",
       "      <td>-2.889820</td>\n",
       "      <td>0.137346</td>\n",
       "      <td>Iris-setosa</td>\n",
       "    </tr>\n",
       "    <tr>\n",
       "      <th>3</th>\n",
       "      <td>-2.746437</td>\n",
       "      <td>0.311124</td>\n",
       "      <td>Iris-setosa</td>\n",
       "    </tr>\n",
       "    <tr>\n",
       "      <th>4</th>\n",
       "      <td>-2.728593</td>\n",
       "      <td>-0.333925</td>\n",
       "      <td>Iris-setosa</td>\n",
       "    </tr>\n",
       "  </tbody>\n",
       "</table>\n",
       "</div>"
      ],
      "text/plain": [
       "       eig1      eig2    Iris name\n",
       "0 -2.684207 -0.326607  Iris-setosa\n",
       "1 -2.715391  0.169557  Iris-setosa\n",
       "2 -2.889820  0.137346  Iris-setosa\n",
       "3 -2.746437  0.311124  Iris-setosa\n",
       "4 -2.728593 -0.333925  Iris-setosa"
      ]
     },
     "execution_count": 164,
     "metadata": {},
     "output_type": "execute_result"
    }
   ],
   "source": [
    "####Applying PCA and projecting the data onto 2 dimension####\n",
    "pca = PCA(n_components=2)\n",
    "transformed_iris_data=pd.DataFrame(pca.fit_transform(iris_data.iloc[:,:4]),columns=['eig1', 'eig2'])\n",
    "transformed_iris_data_label=pd.concat([transformed_iris_data,iris_data['Iris name']],axis=1)\n",
    "transformed_iris_data_label.head()"
   ]
  },
  {
   "cell_type": "code",
   "execution_count": 165,
   "metadata": {
    "collapsed": false
   },
   "outputs": [
    {
     "data": {
      "text/plain": [
       "<matplotlib.text.Text at 0x10bf8a510>"
      ]
     },
     "execution_count": 165,
     "metadata": {},
     "output_type": "execute_result"
    },
    {
     "data": {
      "image/png": "[encoded data removed]",
      "text/plain": [
       "<matplotlib.figure.Figure at 0x10be801d0>"
      ]
     },
     "metadata": {},
     "output_type": "display_data"
    }
   ],
   "source": [
    "####plotting scatter plot of each class in different color and different shape####\n",
    "colors = cm.rainbow(np.linspace(0, 1, len(transformed_iris_data_label['Iris name'].unique())))\n",
    "markers=['o','x','^']\n",
    "for iris, c, m in zip(transformed_iris_data_label['Iris name'].unique(), colors, markers):\n",
    "    plt.scatter(transformed_iris_data_label.ix[transformed_iris_data_label['Iris name']==iris]['eig1'],\n",
    "                transformed_iris_data_label.ix[transformed_iris_data_label['Iris name']==iris]['eig2']\n",
    "               ,color=c, marker=m)\n",
    "plt.xlabel('Eigen Vector 1')\n",
    "plt.ylabel('Eigen Vector 2')"
   ]
  },
  {
   "cell_type": "markdown",
   "metadata": {},
   "source": [
    "There seems to be some dependencies between classes and hence Gaussian will be better than a naiive bayes."
   ]
  },
  {
   "cell_type": "code",
   "execution_count": 128,
   "metadata": {
    "collapsed": false
   },
   "outputs": [
    {
     "data": {
      "text/html": [
       "<div>\n",
       "<table border=\"1\" class=\"dataframe\">\n",
       "  <thead>\n",
       "    <tr style=\"text-align: right;\">\n",
       "      <th></th>\n",
       "      <th>Sepal Length</th>\n",
       "      <th>Sepal Width</th>\n",
       "      <th>Petal Length</th>\n",
       "      <th>Petal Width</th>\n",
       "      <th>Iris name</th>\n",
       "    </tr>\n",
       "  </thead>\n",
       "  <tbody>\n",
       "    <tr>\n",
       "      <th>0</th>\n",
       "      <td>5.1</td>\n",
       "      <td>3.5</td>\n",
       "      <td>1.4</td>\n",
       "      <td>0.2</td>\n",
       "      <td>Iris-setosa</td>\n",
       "    </tr>\n",
       "    <tr>\n",
       "      <th>1</th>\n",
       "      <td>4.9</td>\n",
       "      <td>3.0</td>\n",
       "      <td>1.4</td>\n",
       "      <td>0.2</td>\n",
       "      <td>Iris-setosa</td>\n",
       "    </tr>\n",
       "    <tr>\n",
       "      <th>2</th>\n",
       "      <td>4.7</td>\n",
       "      <td>3.2</td>\n",
       "      <td>1.3</td>\n",
       "      <td>0.2</td>\n",
       "      <td>Iris-setosa</td>\n",
       "    </tr>\n",
       "    <tr>\n",
       "      <th>3</th>\n",
       "      <td>4.6</td>\n",
       "      <td>3.1</td>\n",
       "      <td>1.5</td>\n",
       "      <td>0.2</td>\n",
       "      <td>Iris-setosa</td>\n",
       "    </tr>\n",
       "    <tr>\n",
       "      <th>4</th>\n",
       "      <td>5.0</td>\n",
       "      <td>3.6</td>\n",
       "      <td>1.4</td>\n",
       "      <td>0.2</td>\n",
       "      <td>Iris-setosa</td>\n",
       "    </tr>\n",
       "  </tbody>\n",
       "</table>\n",
       "</div>"
      ],
      "text/plain": [
       "   Sepal Length  Sepal Width  Petal Length  Petal Width    Iris name\n",
       "0           5.1          3.5           1.4          0.2  Iris-setosa\n",
       "1           4.9          3.0           1.4          0.2  Iris-setosa\n",
       "2           4.7          3.2           1.3          0.2  Iris-setosa\n",
       "3           4.6          3.1           1.5          0.2  Iris-setosa\n",
       "4           5.0          3.6           1.4          0.2  Iris-setosa"
      ]
     },
     "execution_count": 128,
     "metadata": {},
     "output_type": "execute_result"
    }
   ],
   "source": [
    "####Splitting the data into train (first 35 rows) and test data (last 15 rows)####\n",
    "iris_data_train=pd.DataFrame()\n",
    "iris_data_test=pd.DataFrame()\n",
    "for iris in iris_data['Iris name'].unique():\n",
    "    iris_data_train=pd.concat([iris_data_train, iris_data.ix[iris_data['Iris name']==iris].iloc[0:35]])\n",
    "    iris_data_test=pd.concat([iris_data_test, iris_data.ix[iris_data['Iris name']==iris].iloc[35:50]])\n",
    "    \n",
    "iris_data_train.head()"
   ]
  },
  {
   "cell_type": "code",
   "execution_count": 97,
   "metadata": {
    "collapsed": true
   },
   "outputs": [],
   "source": [
    "####Training-Calculating the mean/covariance of each class as well as the pi_j (probablity of each class)####\n",
    "total_num_class = len(iris_data_train['Iris name'].unique())\n",
    "pi_j = iris_data_train.groupby('Iris name').count().iloc[:,1]/total_num_class\n",
    "pi_j_log=np.log(pi_j)\n",
    "x_mean={}\n",
    "x_cov={}\n",
    "for iris in iris_data['Iris name'].unique():\n",
    "    x_mean[iris]=np.mean(iris_data_train.ix[iris_data_train['Iris name']==iris].iloc[:,:4], axis=0)\n",
    "    x_cov[iris]=np.cov(iris_data_train.ix[iris_data_train['Iris name']==iris].iloc[:,:4].T)"
   ]
  },
  {
   "cell_type": "code",
   "execution_count": 107,
   "metadata": {
    "collapsed": true
   },
   "outputs": [],
   "source": [
    "####Gaussian classifier####\n",
    "def Gaussian_classifier(x_DF,x_mean,x_cov,pi_j_log,c):\n",
    "    irises=iris_data['Iris name'].unique()\n",
    "    P={}\n",
    "    x_estimate_DF=pd.DataFrame()\n",
    "    for iris in irises:\n",
    "        x_gauss=x_DF.iloc[:,:4]\n",
    "        x_estimate_DF[iris]=multivariate_normal.logpdf(x_gauss, mean=x_mean[iris], cov=x_cov[iris]+(c*eye(4)))+pi_j_log[iris]\n",
    "    x_estimate_DF['estimated_iris_name']=x_estimate_DF.idxmax(axis=1)\n",
    "    error=np.mean(x_estimate_DF['estimated_iris_name']!=x_DF['Iris name'])*100\n",
    "    return error, x_estimate_DF"
   ]
  },
  {
   "cell_type": "code",
   "execution_count": 129,
   "metadata": {
    "collapsed": false
   },
   "outputs": [
    {
     "name": "stdout",
     "output_type": "stream",
     "text": [
      "Optimum value of c is: 0\n"
     ]
    }
   ],
   "source": [
    "####Trying different values of c on valuation set####\n",
    "error_val={}\n",
    "C=[0,0.1,1,10,20,50,100,200,300,500,1000]\n",
    "for c in C:\n",
    "    error_val[c], x_estimate_C=Gaussian_classifier(iris_data_train,x_mean,x_cov,pi_j_log,c)\n",
    "\n",
    "####Choosing the c which yields the minimum error on the valuation set####\n",
    "c_opt=min(error_val, key=error_val.get)\n",
    "print \"Optimum value of c is:\", c_opt"
   ]
  },
  {
   "cell_type": "markdown",
   "metadata": {},
   "source": [
    "The optimum value of c is 0 which makes sense as the dataset is not sparse and the covariance matrix has non-zero determinant and invertible\n"
   ]
  },
  {
   "cell_type": "code",
   "execution_count": 130,
   "metadata": {
    "collapsed": false
   },
   "outputs": [
    {
     "name": "stdout",
     "output_type": "stream",
     "text": [
      "The error on train set is: 1.90476190476 %\n",
      "\n",
      "The error on test set is: 0.0 %\n",
      "\n"
     ]
    }
   ],
   "source": [
    "####calculating the error on the the train and test set####\n",
    "error_test,x_estimate_test_DF=Gaussian_classifier(iris_data_test,x_mean,x_cov,pi_j_log,c_opt)\n",
    "error_train,x_estimate_train_DF=Gaussian_classifier(iris_data_train,x_mean,x_cov,pi_j_log,c_opt)\n",
    "print \"The error on train set is:\", error_train,\"%\\n\"\n",
    "print \"The error on test set is:\", error_test,\"%\\n\""
   ]
  }
 ],
 "metadata": {
  "kernelspec": {
   "display_name": "Python 2",
   "language": "python",
   "name": "python2"
  },
  "language_info": {
   "codemirror_mode": {
    "name": "ipython",
    "version": 2
   },
   "file_extension": ".py",
   "mimetype": "text/x-python",
   "name": "python",
   "nbconvert_exporter": "python",
   "pygments_lexer": "ipython2",
   "version": "2.7.10"
  }
 },
 "nbformat": 4,
 "nbformat_minor": 0
}
